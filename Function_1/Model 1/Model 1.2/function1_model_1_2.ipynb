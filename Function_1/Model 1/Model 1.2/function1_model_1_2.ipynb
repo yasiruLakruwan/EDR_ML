{
  "nbformat": 4,
  "nbformat_minor": 0,
  "metadata": {
    "colab": {
      "provenance": []
    },
    "kernelspec": {
      "name": "python3",
      "display_name": "Python 3"
    },
    "language_info": {
      "name": "python"
    }
  },
  "cells": [
    {
      "cell_type": "code",
      "source": [
        "import tensorflow as tf\n",
        "print(tf.__version__)"
      ],
      "metadata": {
        "colab": {
          "base_uri": "https://localhost:8080/"
        },
        "id": "d3hCUH_XApR9",
        "outputId": "a9fb22db-b0d3-4dfa-c412-d5d0c92b253e"
      },
      "execution_count": 40,
      "outputs": [
        {
          "output_type": "stream",
          "name": "stdout",
          "text": [
            "2.17.0\n"
          ]
        }
      ]
    },
    {
      "cell_type": "code",
      "source": [
        "!pip uninstall tensorflow\n"
      ],
      "metadata": {
        "colab": {
          "base_uri": "https://localhost:8080/"
        },
        "id": "9Fiw1_sVAqgT",
        "outputId": "45e0f970-ce74-4288-f285-0542f01df15d"
      },
      "execution_count": 41,
      "outputs": [
        {
          "output_type": "stream",
          "name": "stdout",
          "text": [
            "Found existing installation: tensorflow 2.17.0\n",
            "Uninstalling tensorflow-2.17.0:\n",
            "  Would remove:\n",
            "    /usr/local/bin/import_pb_to_tensorboard\n",
            "    /usr/local/bin/saved_model_cli\n",
            "    /usr/local/bin/tensorboard\n",
            "    /usr/local/bin/tf_upgrade_v2\n",
            "    /usr/local/bin/tflite_convert\n",
            "    /usr/local/bin/toco\n",
            "    /usr/local/bin/toco_from_protos\n",
            "    /usr/local/lib/python3.10/dist-packages/tensorflow-2.17.0.dist-info/*\n",
            "    /usr/local/lib/python3.10/dist-packages/tensorflow/*\n",
            "Proceed (Y/n)? Y\n",
            "  Successfully uninstalled tensorflow-2.17.0\n"
          ]
        }
      ]
    },
    {
      "cell_type": "code",
      "source": [
        "!pip install tensorflow==2.15.0\n"
      ],
      "metadata": {
        "colab": {
          "base_uri": "https://localhost:8080/",
          "height": 1000
        },
        "id": "Ss_h7q82AwYr",
        "outputId": "a157a395-c32e-48af-a4aa-ee08cb8db95d"
      },
      "execution_count": 42,
      "outputs": [
        {
          "output_type": "stream",
          "name": "stdout",
          "text": [
            "Collecting tensorflow==2.15.0\n",
            "  Downloading tensorflow-2.15.0-cp310-cp310-manylinux_2_17_x86_64.manylinux2014_x86_64.whl.metadata (4.4 kB)\n",
            "Requirement already satisfied: absl-py>=1.0.0 in /usr/local/lib/python3.10/dist-packages (from tensorflow==2.15.0) (1.4.0)\n",
            "Requirement already satisfied: astunparse>=1.6.0 in /usr/local/lib/python3.10/dist-packages (from tensorflow==2.15.0) (1.6.3)\n",
            "Requirement already satisfied: flatbuffers>=23.5.26 in /usr/local/lib/python3.10/dist-packages (from tensorflow==2.15.0) (24.3.25)\n",
            "Requirement already satisfied: gast!=0.5.0,!=0.5.1,!=0.5.2,>=0.2.1 in /usr/local/lib/python3.10/dist-packages (from tensorflow==2.15.0) (0.6.0)\n",
            "Requirement already satisfied: google-pasta>=0.1.1 in /usr/local/lib/python3.10/dist-packages (from tensorflow==2.15.0) (0.2.0)\n",
            "Requirement already satisfied: h5py>=2.9.0 in /usr/local/lib/python3.10/dist-packages (from tensorflow==2.15.0) (3.11.0)\n",
            "Requirement already satisfied: libclang>=13.0.0 in /usr/local/lib/python3.10/dist-packages (from tensorflow==2.15.0) (18.1.1)\n",
            "Collecting ml-dtypes~=0.2.0 (from tensorflow==2.15.0)\n",
            "  Downloading ml_dtypes-0.2.0-cp310-cp310-manylinux_2_17_x86_64.manylinux2014_x86_64.whl.metadata (20 kB)\n",
            "Requirement already satisfied: numpy<2.0.0,>=1.23.5 in /usr/local/lib/python3.10/dist-packages (from tensorflow==2.15.0) (1.26.4)\n",
            "Requirement already satisfied: opt-einsum>=2.3.2 in /usr/local/lib/python3.10/dist-packages (from tensorflow==2.15.0) (3.3.0)\n",
            "Requirement already satisfied: packaging in /usr/local/lib/python3.10/dist-packages (from tensorflow==2.15.0) (24.1)\n",
            "Requirement already satisfied: protobuf!=4.21.0,!=4.21.1,!=4.21.2,!=4.21.3,!=4.21.4,!=4.21.5,<5.0.0dev,>=3.20.3 in /usr/local/lib/python3.10/dist-packages (from tensorflow==2.15.0) (3.20.3)\n",
            "Requirement already satisfied: setuptools in /usr/local/lib/python3.10/dist-packages (from tensorflow==2.15.0) (71.0.4)\n",
            "Requirement already satisfied: six>=1.12.0 in /usr/local/lib/python3.10/dist-packages (from tensorflow==2.15.0) (1.16.0)\n",
            "Requirement already satisfied: termcolor>=1.1.0 in /usr/local/lib/python3.10/dist-packages (from tensorflow==2.15.0) (2.4.0)\n",
            "Requirement already satisfied: typing-extensions>=3.6.6 in /usr/local/lib/python3.10/dist-packages (from tensorflow==2.15.0) (4.12.2)\n",
            "Collecting wrapt<1.15,>=1.11.0 (from tensorflow==2.15.0)\n",
            "  Downloading wrapt-1.14.1-cp310-cp310-manylinux_2_5_x86_64.manylinux1_x86_64.manylinux_2_17_x86_64.manylinux2014_x86_64.whl.metadata (6.7 kB)\n",
            "Requirement already satisfied: tensorflow-io-gcs-filesystem>=0.23.1 in /usr/local/lib/python3.10/dist-packages (from tensorflow==2.15.0) (0.37.1)\n",
            "Requirement already satisfied: grpcio<2.0,>=1.24.3 in /usr/local/lib/python3.10/dist-packages (from tensorflow==2.15.0) (1.64.1)\n",
            "Collecting tensorboard<2.16,>=2.15 (from tensorflow==2.15.0)\n",
            "  Downloading tensorboard-2.15.2-py3-none-any.whl.metadata (1.7 kB)\n",
            "Collecting tensorflow-estimator<2.16,>=2.15.0 (from tensorflow==2.15.0)\n",
            "  Downloading tensorflow_estimator-2.15.0-py2.py3-none-any.whl.metadata (1.3 kB)\n",
            "Collecting keras<2.16,>=2.15.0 (from tensorflow==2.15.0)\n",
            "  Downloading keras-2.15.0-py3-none-any.whl.metadata (2.4 kB)\n",
            "Requirement already satisfied: wheel<1.0,>=0.23.0 in /usr/local/lib/python3.10/dist-packages (from astunparse>=1.6.0->tensorflow==2.15.0) (0.44.0)\n",
            "Requirement already satisfied: google-auth<3,>=1.6.3 in /usr/local/lib/python3.10/dist-packages (from tensorboard<2.16,>=2.15->tensorflow==2.15.0) (2.27.0)\n",
            "Requirement already satisfied: google-auth-oauthlib<2,>=0.5 in /usr/local/lib/python3.10/dist-packages (from tensorboard<2.16,>=2.15->tensorflow==2.15.0) (1.2.1)\n",
            "Requirement already satisfied: markdown>=2.6.8 in /usr/local/lib/python3.10/dist-packages (from tensorboard<2.16,>=2.15->tensorflow==2.15.0) (3.7)\n",
            "Requirement already satisfied: requests<3,>=2.21.0 in /usr/local/lib/python3.10/dist-packages (from tensorboard<2.16,>=2.15->tensorflow==2.15.0) (2.32.3)\n",
            "Requirement already satisfied: tensorboard-data-server<0.8.0,>=0.7.0 in /usr/local/lib/python3.10/dist-packages (from tensorboard<2.16,>=2.15->tensorflow==2.15.0) (0.7.2)\n",
            "Requirement already satisfied: werkzeug>=1.0.1 in /usr/local/lib/python3.10/dist-packages (from tensorboard<2.16,>=2.15->tensorflow==2.15.0) (3.0.4)\n",
            "Requirement already satisfied: cachetools<6.0,>=2.0.0 in /usr/local/lib/python3.10/dist-packages (from google-auth<3,>=1.6.3->tensorboard<2.16,>=2.15->tensorflow==2.15.0) (5.5.0)\n",
            "Requirement already satisfied: pyasn1-modules>=0.2.1 in /usr/local/lib/python3.10/dist-packages (from google-auth<3,>=1.6.3->tensorboard<2.16,>=2.15->tensorflow==2.15.0) (0.4.0)\n",
            "Requirement already satisfied: rsa<5,>=3.1.4 in /usr/local/lib/python3.10/dist-packages (from google-auth<3,>=1.6.3->tensorboard<2.16,>=2.15->tensorflow==2.15.0) (4.9)\n",
            "Requirement already satisfied: requests-oauthlib>=0.7.0 in /usr/local/lib/python3.10/dist-packages (from google-auth-oauthlib<2,>=0.5->tensorboard<2.16,>=2.15->tensorflow==2.15.0) (1.3.1)\n",
            "Requirement already satisfied: charset-normalizer<4,>=2 in /usr/local/lib/python3.10/dist-packages (from requests<3,>=2.21.0->tensorboard<2.16,>=2.15->tensorflow==2.15.0) (3.3.2)\n",
            "Requirement already satisfied: idna<4,>=2.5 in /usr/local/lib/python3.10/dist-packages (from requests<3,>=2.21.0->tensorboard<2.16,>=2.15->tensorflow==2.15.0) (3.8)\n",
            "Requirement already satisfied: urllib3<3,>=1.21.1 in /usr/local/lib/python3.10/dist-packages (from requests<3,>=2.21.0->tensorboard<2.16,>=2.15->tensorflow==2.15.0) (2.0.7)\n",
            "Requirement already satisfied: certifi>=2017.4.17 in /usr/local/lib/python3.10/dist-packages (from requests<3,>=2.21.0->tensorboard<2.16,>=2.15->tensorflow==2.15.0) (2024.7.4)\n",
            "Requirement already satisfied: MarkupSafe>=2.1.1 in /usr/local/lib/python3.10/dist-packages (from werkzeug>=1.0.1->tensorboard<2.16,>=2.15->tensorflow==2.15.0) (2.1.5)\n",
            "Requirement already satisfied: pyasn1<0.7.0,>=0.4.6 in /usr/local/lib/python3.10/dist-packages (from pyasn1-modules>=0.2.1->google-auth<3,>=1.6.3->tensorboard<2.16,>=2.15->tensorflow==2.15.0) (0.6.0)\n",
            "Requirement already satisfied: oauthlib>=3.0.0 in /usr/local/lib/python3.10/dist-packages (from requests-oauthlib>=0.7.0->google-auth-oauthlib<2,>=0.5->tensorboard<2.16,>=2.15->tensorflow==2.15.0) (3.2.2)\n",
            "Downloading tensorflow-2.15.0-cp310-cp310-manylinux_2_17_x86_64.manylinux2014_x86_64.whl (475.2 MB)\n",
            "\u001b[2K   \u001b[90m━━━━━━━━━━━━━━━━━━━━━━━━━━━━━━━━━━━━━━━━\u001b[0m \u001b[32m475.2/475.2 MB\u001b[0m \u001b[31m2.8 MB/s\u001b[0m eta \u001b[36m0:00:00\u001b[0m\n",
            "\u001b[?25hDownloading keras-2.15.0-py3-none-any.whl (1.7 MB)\n",
            "\u001b[2K   \u001b[90m━━━━━━━━━━━━━━━━━━━━━━━━━━━━━━━━━━━━━━━━\u001b[0m \u001b[32m1.7/1.7 MB\u001b[0m \u001b[31m28.6 MB/s\u001b[0m eta \u001b[36m0:00:00\u001b[0m\n",
            "\u001b[?25hDownloading ml_dtypes-0.2.0-cp310-cp310-manylinux_2_17_x86_64.manylinux2014_x86_64.whl (1.0 MB)\n",
            "\u001b[2K   \u001b[90m━━━━━━━━━━━━━━━━━━━━━━━━━━━━━━━━━━━━━━━━\u001b[0m \u001b[32m1.0/1.0 MB\u001b[0m \u001b[31m21.4 MB/s\u001b[0m eta \u001b[36m0:00:00\u001b[0m\n",
            "\u001b[?25hDownloading tensorboard-2.15.2-py3-none-any.whl (5.5 MB)\n",
            "\u001b[2K   \u001b[90m━━━━━━━━━━━━━━━━━━━━━━━━━━━━━━━━━━━━━━━━\u001b[0m \u001b[32m5.5/5.5 MB\u001b[0m \u001b[31m49.8 MB/s\u001b[0m eta \u001b[36m0:00:00\u001b[0m\n",
            "\u001b[?25hDownloading tensorflow_estimator-2.15.0-py2.py3-none-any.whl (441 kB)\n",
            "\u001b[2K   \u001b[90m━━━━━━━━━━━━━━━━━━━━━━━━━━━━━━━━━━━━━━━━\u001b[0m \u001b[32m442.0/442.0 kB\u001b[0m \u001b[31m16.2 MB/s\u001b[0m eta \u001b[36m0:00:00\u001b[0m\n",
            "\u001b[?25hDownloading wrapt-1.14.1-cp310-cp310-manylinux_2_5_x86_64.manylinux1_x86_64.manylinux_2_17_x86_64.manylinux2014_x86_64.whl (77 kB)\n",
            "\u001b[2K   \u001b[90m━━━━━━━━━━━━━━━━━━━━━━━━━━━━━━━━━━━━━━━━\u001b[0m \u001b[32m77.9/77.9 kB\u001b[0m \u001b[31m4.2 MB/s\u001b[0m eta \u001b[36m0:00:00\u001b[0m\n",
            "\u001b[?25hInstalling collected packages: wrapt, tensorflow-estimator, ml-dtypes, keras, tensorboard, tensorflow\n",
            "  Attempting uninstall: wrapt\n",
            "    Found existing installation: wrapt 1.16.0\n",
            "    Uninstalling wrapt-1.16.0:\n",
            "      Successfully uninstalled wrapt-1.16.0\n",
            "  Attempting uninstall: ml-dtypes\n",
            "    Found existing installation: ml-dtypes 0.4.0\n",
            "    Uninstalling ml-dtypes-0.4.0:\n",
            "      Successfully uninstalled ml-dtypes-0.4.0\n",
            "  Attempting uninstall: keras\n",
            "    Found existing installation: keras 3.4.1\n",
            "    Uninstalling keras-3.4.1:\n",
            "      Successfully uninstalled keras-3.4.1\n",
            "  Attempting uninstall: tensorboard\n",
            "    Found existing installation: tensorboard 2.17.0\n",
            "    Uninstalling tensorboard-2.17.0:\n",
            "      Successfully uninstalled tensorboard-2.17.0\n",
            "\u001b[31mERROR: pip's dependency resolver does not currently take into account all the packages that are installed. This behaviour is the source of the following dependency conflicts.\n",
            "tensorstore 0.1.64 requires ml-dtypes>=0.3.1, but you have ml-dtypes 0.2.0 which is incompatible.\n",
            "tf-keras 2.17.0 requires tensorflow<2.18,>=2.17, but you have tensorflow 2.15.0 which is incompatible.\u001b[0m\u001b[31m\n",
            "\u001b[0mSuccessfully installed keras-2.15.0 ml-dtypes-0.2.0 tensorboard-2.15.2 tensorflow-2.15.0 tensorflow-estimator-2.15.0 wrapt-1.14.1\n"
          ]
        },
        {
          "output_type": "display_data",
          "data": {
            "application/vnd.colab-display-data+json": {
              "pip_warning": {
                "packages": [
                  "keras",
                  "ml_dtypes",
                  "tensorflow",
                  "wrapt"
                ]
              },
              "id": "b62a2bea46684c5eb21f285e6bb6ca69"
            }
          },
          "metadata": {}
        }
      ]
    },
    {
      "cell_type": "code",
      "execution_count": 24,
      "metadata": {
        "colab": {
          "base_uri": "https://localhost:8080/"
        },
        "id": "8UAydh0RIP-x",
        "outputId": "ae43fb6f-8561-4a4e-9f6c-ea4b8203093d"
      },
      "outputs": [
        {
          "output_type": "stream",
          "name": "stdout",
          "text": [
            "Drive already mounted at /content/drive; to attempt to forcibly remount, call drive.mount(\"/content/drive\", force_remount=True).\n"
          ]
        }
      ],
      "source": [
        "\n",
        "from google.colab import drive\n",
        "drive.mount('/content/drive')\n"
      ]
    },
    {
      "cell_type": "code",
      "source": [
        "import pandas as pd\n",
        "import numpy as np"
      ],
      "metadata": {
        "id": "Vx62wRPTITqs"
      },
      "execution_count": 25,
      "outputs": []
    },
    {
      "cell_type": "code",
      "source": [
        "data = pd.read_csv(\"/content/drive/MyDrive/Ransomware final.csv\")\n",
        "data.head()"
      ],
      "metadata": {
        "colab": {
          "base_uri": "https://localhost:8080/",
          "height": 256
        },
        "id": "NZcaqnjTIm1q",
        "outputId": "b8c86396-4837-4141-9ff4-2ff472aa29cb"
      },
      "execution_count": 26,
      "outputs": [
        {
          "output_type": "execute_result",
          "data": {
            "text/plain": [
              "           Name                               md5  Machine  \\\n",
              "0   memtest.exe  631ea355665f28d4707448e442fbf5b8      332   \n",
              "1       ose.exe  9d10f99a6712e28f8acd5641e3a7ea6b      332   \n",
              "2     setup.exe  4d92f518527353c0db88a70fddcfd390      332   \n",
              "3      DW20.EXE  a41e524f8d45f0074fd07805ff0c9b12      332   \n",
              "4  dwtrig20.exe  c87e561258f2f8650cef999bf643a731      332   \n",
              "\n",
              "   SizeOfOptionalHeader  Characteristics  MajorLinkerVersion  \\\n",
              "0                   224              258                   9   \n",
              "1                   224             3330                   9   \n",
              "2                   224             3330                   9   \n",
              "3                   224              258                   9   \n",
              "4                   224              258                   9   \n",
              "\n",
              "   MinorLinkerVersion  SizeOfCode  SizeOfInitializedData  \\\n",
              "0                   0      361984                 115712   \n",
              "1                   0      130560                  19968   \n",
              "2                   0      517120                 621568   \n",
              "3                   0      585728                 369152   \n",
              "4                   0      294912                 247296   \n",
              "\n",
              "   SizeOfUninitializedData  ...  ResourcesNb  ResourcesMeanEntropy  \\\n",
              "0                        0  ...            4              3.262823   \n",
              "1                        0  ...            2              4.250461   \n",
              "2                        0  ...           11              4.426324   \n",
              "3                        0  ...           10              4.364291   \n",
              "4                        0  ...            2              4.306100   \n",
              "\n",
              "   ResourcesMinEntropy  ResourcesMaxEntropy  ResourcesMeanSize  \\\n",
              "0             2.568844             3.537939         8797.00000   \n",
              "1             3.420744             5.080177          837.00000   \n",
              "2             2.846449             5.271813        31102.27273   \n",
              "3             2.669314             6.400720         1457.00000   \n",
              "4             3.421598             5.190603         1074.50000   \n",
              "\n",
              "   ResourcesMinSize  ResourcesMaxSize  LoadConfigurationSize  \\\n",
              "0               216             18032                      0   \n",
              "1               518              1156                     72   \n",
              "2               104            270376                     72   \n",
              "3                90              4264                     72   \n",
              "4               849              1300                     72   \n",
              "\n",
              "   VersionInformationSize  legitimate  \n",
              "0                      16           1  \n",
              "1                      18           1  \n",
              "2                      18           1  \n",
              "3                      18           1  \n",
              "4                      18           1  \n",
              "\n",
              "[5 rows x 57 columns]"
            ],
            "text/html": [
              "\n",
              "  <div id=\"df-00cde069-f734-48de-b6a4-4562bfe778ed\" class=\"colab-df-container\">\n",
              "    <div>\n",
              "<style scoped>\n",
              "    .dataframe tbody tr th:only-of-type {\n",
              "        vertical-align: middle;\n",
              "    }\n",
              "\n",
              "    .dataframe tbody tr th {\n",
              "        vertical-align: top;\n",
              "    }\n",
              "\n",
              "    .dataframe thead th {\n",
              "        text-align: right;\n",
              "    }\n",
              "</style>\n",
              "<table border=\"1\" class=\"dataframe\">\n",
              "  <thead>\n",
              "    <tr style=\"text-align: right;\">\n",
              "      <th></th>\n",
              "      <th>Name</th>\n",
              "      <th>md5</th>\n",
              "      <th>Machine</th>\n",
              "      <th>SizeOfOptionalHeader</th>\n",
              "      <th>Characteristics</th>\n",
              "      <th>MajorLinkerVersion</th>\n",
              "      <th>MinorLinkerVersion</th>\n",
              "      <th>SizeOfCode</th>\n",
              "      <th>SizeOfInitializedData</th>\n",
              "      <th>SizeOfUninitializedData</th>\n",
              "      <th>...</th>\n",
              "      <th>ResourcesNb</th>\n",
              "      <th>ResourcesMeanEntropy</th>\n",
              "      <th>ResourcesMinEntropy</th>\n",
              "      <th>ResourcesMaxEntropy</th>\n",
              "      <th>ResourcesMeanSize</th>\n",
              "      <th>ResourcesMinSize</th>\n",
              "      <th>ResourcesMaxSize</th>\n",
              "      <th>LoadConfigurationSize</th>\n",
              "      <th>VersionInformationSize</th>\n",
              "      <th>legitimate</th>\n",
              "    </tr>\n",
              "  </thead>\n",
              "  <tbody>\n",
              "    <tr>\n",
              "      <th>0</th>\n",
              "      <td>memtest.exe</td>\n",
              "      <td>631ea355665f28d4707448e442fbf5b8</td>\n",
              "      <td>332</td>\n",
              "      <td>224</td>\n",
              "      <td>258</td>\n",
              "      <td>9</td>\n",
              "      <td>0</td>\n",
              "      <td>361984</td>\n",
              "      <td>115712</td>\n",
              "      <td>0</td>\n",
              "      <td>...</td>\n",
              "      <td>4</td>\n",
              "      <td>3.262823</td>\n",
              "      <td>2.568844</td>\n",
              "      <td>3.537939</td>\n",
              "      <td>8797.00000</td>\n",
              "      <td>216</td>\n",
              "      <td>18032</td>\n",
              "      <td>0</td>\n",
              "      <td>16</td>\n",
              "      <td>1</td>\n",
              "    </tr>\n",
              "    <tr>\n",
              "      <th>1</th>\n",
              "      <td>ose.exe</td>\n",
              "      <td>9d10f99a6712e28f8acd5641e3a7ea6b</td>\n",
              "      <td>332</td>\n",
              "      <td>224</td>\n",
              "      <td>3330</td>\n",
              "      <td>9</td>\n",
              "      <td>0</td>\n",
              "      <td>130560</td>\n",
              "      <td>19968</td>\n",
              "      <td>0</td>\n",
              "      <td>...</td>\n",
              "      <td>2</td>\n",
              "      <td>4.250461</td>\n",
              "      <td>3.420744</td>\n",
              "      <td>5.080177</td>\n",
              "      <td>837.00000</td>\n",
              "      <td>518</td>\n",
              "      <td>1156</td>\n",
              "      <td>72</td>\n",
              "      <td>18</td>\n",
              "      <td>1</td>\n",
              "    </tr>\n",
              "    <tr>\n",
              "      <th>2</th>\n",
              "      <td>setup.exe</td>\n",
              "      <td>4d92f518527353c0db88a70fddcfd390</td>\n",
              "      <td>332</td>\n",
              "      <td>224</td>\n",
              "      <td>3330</td>\n",
              "      <td>9</td>\n",
              "      <td>0</td>\n",
              "      <td>517120</td>\n",
              "      <td>621568</td>\n",
              "      <td>0</td>\n",
              "      <td>...</td>\n",
              "      <td>11</td>\n",
              "      <td>4.426324</td>\n",
              "      <td>2.846449</td>\n",
              "      <td>5.271813</td>\n",
              "      <td>31102.27273</td>\n",
              "      <td>104</td>\n",
              "      <td>270376</td>\n",
              "      <td>72</td>\n",
              "      <td>18</td>\n",
              "      <td>1</td>\n",
              "    </tr>\n",
              "    <tr>\n",
              "      <th>3</th>\n",
              "      <td>DW20.EXE</td>\n",
              "      <td>a41e524f8d45f0074fd07805ff0c9b12</td>\n",
              "      <td>332</td>\n",
              "      <td>224</td>\n",
              "      <td>258</td>\n",
              "      <td>9</td>\n",
              "      <td>0</td>\n",
              "      <td>585728</td>\n",
              "      <td>369152</td>\n",
              "      <td>0</td>\n",
              "      <td>...</td>\n",
              "      <td>10</td>\n",
              "      <td>4.364291</td>\n",
              "      <td>2.669314</td>\n",
              "      <td>6.400720</td>\n",
              "      <td>1457.00000</td>\n",
              "      <td>90</td>\n",
              "      <td>4264</td>\n",
              "      <td>72</td>\n",
              "      <td>18</td>\n",
              "      <td>1</td>\n",
              "    </tr>\n",
              "    <tr>\n",
              "      <th>4</th>\n",
              "      <td>dwtrig20.exe</td>\n",
              "      <td>c87e561258f2f8650cef999bf643a731</td>\n",
              "      <td>332</td>\n",
              "      <td>224</td>\n",
              "      <td>258</td>\n",
              "      <td>9</td>\n",
              "      <td>0</td>\n",
              "      <td>294912</td>\n",
              "      <td>247296</td>\n",
              "      <td>0</td>\n",
              "      <td>...</td>\n",
              "      <td>2</td>\n",
              "      <td>4.306100</td>\n",
              "      <td>3.421598</td>\n",
              "      <td>5.190603</td>\n",
              "      <td>1074.50000</td>\n",
              "      <td>849</td>\n",
              "      <td>1300</td>\n",
              "      <td>72</td>\n",
              "      <td>18</td>\n",
              "      <td>1</td>\n",
              "    </tr>\n",
              "  </tbody>\n",
              "</table>\n",
              "<p>5 rows × 57 columns</p>\n",
              "</div>\n",
              "    <div class=\"colab-df-buttons\">\n",
              "\n",
              "  <div class=\"colab-df-container\">\n",
              "    <button class=\"colab-df-convert\" onclick=\"convertToInteractive('df-00cde069-f734-48de-b6a4-4562bfe778ed')\"\n",
              "            title=\"Convert this dataframe to an interactive table.\"\n",
              "            style=\"display:none;\">\n",
              "\n",
              "  <svg xmlns=\"http://www.w3.org/2000/svg\" height=\"24px\" viewBox=\"0 -960 960 960\">\n",
              "    <path d=\"M120-120v-720h720v720H120Zm60-500h600v-160H180v160Zm220 220h160v-160H400v160Zm0 220h160v-160H400v160ZM180-400h160v-160H180v160Zm440 0h160v-160H620v160ZM180-180h160v-160H180v160Zm440 0h160v-160H620v160Z\"/>\n",
              "  </svg>\n",
              "    </button>\n",
              "\n",
              "  <style>\n",
              "    .colab-df-container {\n",
              "      display:flex;\n",
              "      gap: 12px;\n",
              "    }\n",
              "\n",
              "    .colab-df-convert {\n",
              "      background-color: #E8F0FE;\n",
              "      border: none;\n",
              "      border-radius: 50%;\n",
              "      cursor: pointer;\n",
              "      display: none;\n",
              "      fill: #1967D2;\n",
              "      height: 32px;\n",
              "      padding: 0 0 0 0;\n",
              "      width: 32px;\n",
              "    }\n",
              "\n",
              "    .colab-df-convert:hover {\n",
              "      background-color: #E2EBFA;\n",
              "      box-shadow: 0px 1px 2px rgba(60, 64, 67, 0.3), 0px 1px 3px 1px rgba(60, 64, 67, 0.15);\n",
              "      fill: #174EA6;\n",
              "    }\n",
              "\n",
              "    .colab-df-buttons div {\n",
              "      margin-bottom: 4px;\n",
              "    }\n",
              "\n",
              "    [theme=dark] .colab-df-convert {\n",
              "      background-color: #3B4455;\n",
              "      fill: #D2E3FC;\n",
              "    }\n",
              "\n",
              "    [theme=dark] .colab-df-convert:hover {\n",
              "      background-color: #434B5C;\n",
              "      box-shadow: 0px 1px 3px 1px rgba(0, 0, 0, 0.15);\n",
              "      filter: drop-shadow(0px 1px 2px rgba(0, 0, 0, 0.3));\n",
              "      fill: #FFFFFF;\n",
              "    }\n",
              "  </style>\n",
              "\n",
              "    <script>\n",
              "      const buttonEl =\n",
              "        document.querySelector('#df-00cde069-f734-48de-b6a4-4562bfe778ed button.colab-df-convert');\n",
              "      buttonEl.style.display =\n",
              "        google.colab.kernel.accessAllowed ? 'block' : 'none';\n",
              "\n",
              "      async function convertToInteractive(key) {\n",
              "        const element = document.querySelector('#df-00cde069-f734-48de-b6a4-4562bfe778ed');\n",
              "        const dataTable =\n",
              "          await google.colab.kernel.invokeFunction('convertToInteractive',\n",
              "                                                    [key], {});\n",
              "        if (!dataTable) return;\n",
              "\n",
              "        const docLinkHtml = 'Like what you see? Visit the ' +\n",
              "          '<a target=\"_blank\" href=https://colab.research.google.com/notebooks/data_table.ipynb>data table notebook</a>'\n",
              "          + ' to learn more about interactive tables.';\n",
              "        element.innerHTML = '';\n",
              "        dataTable['output_type'] = 'display_data';\n",
              "        await google.colab.output.renderOutput(dataTable, element);\n",
              "        const docLink = document.createElement('div');\n",
              "        docLink.innerHTML = docLinkHtml;\n",
              "        element.appendChild(docLink);\n",
              "      }\n",
              "    </script>\n",
              "  </div>\n",
              "\n",
              "\n",
              "<div id=\"df-c88dca95-2ac4-47a3-a793-aa4886df3593\">\n",
              "  <button class=\"colab-df-quickchart\" onclick=\"quickchart('df-c88dca95-2ac4-47a3-a793-aa4886df3593')\"\n",
              "            title=\"Suggest charts\"\n",
              "            style=\"display:none;\">\n",
              "\n",
              "<svg xmlns=\"http://www.w3.org/2000/svg\" height=\"24px\"viewBox=\"0 0 24 24\"\n",
              "     width=\"24px\">\n",
              "    <g>\n",
              "        <path d=\"M19 3H5c-1.1 0-2 .9-2 2v14c0 1.1.9 2 2 2h14c1.1 0 2-.9 2-2V5c0-1.1-.9-2-2-2zM9 17H7v-7h2v7zm4 0h-2V7h2v10zm4 0h-2v-4h2v4z\"/>\n",
              "    </g>\n",
              "</svg>\n",
              "  </button>\n",
              "\n",
              "<style>\n",
              "  .colab-df-quickchart {\n",
              "      --bg-color: #E8F0FE;\n",
              "      --fill-color: #1967D2;\n",
              "      --hover-bg-color: #E2EBFA;\n",
              "      --hover-fill-color: #174EA6;\n",
              "      --disabled-fill-color: #AAA;\n",
              "      --disabled-bg-color: #DDD;\n",
              "  }\n",
              "\n",
              "  [theme=dark] .colab-df-quickchart {\n",
              "      --bg-color: #3B4455;\n",
              "      --fill-color: #D2E3FC;\n",
              "      --hover-bg-color: #434B5C;\n",
              "      --hover-fill-color: #FFFFFF;\n",
              "      --disabled-bg-color: #3B4455;\n",
              "      --disabled-fill-color: #666;\n",
              "  }\n",
              "\n",
              "  .colab-df-quickchart {\n",
              "    background-color: var(--bg-color);\n",
              "    border: none;\n",
              "    border-radius: 50%;\n",
              "    cursor: pointer;\n",
              "    display: none;\n",
              "    fill: var(--fill-color);\n",
              "    height: 32px;\n",
              "    padding: 0;\n",
              "    width: 32px;\n",
              "  }\n",
              "\n",
              "  .colab-df-quickchart:hover {\n",
              "    background-color: var(--hover-bg-color);\n",
              "    box-shadow: 0 1px 2px rgba(60, 64, 67, 0.3), 0 1px 3px 1px rgba(60, 64, 67, 0.15);\n",
              "    fill: var(--button-hover-fill-color);\n",
              "  }\n",
              "\n",
              "  .colab-df-quickchart-complete:disabled,\n",
              "  .colab-df-quickchart-complete:disabled:hover {\n",
              "    background-color: var(--disabled-bg-color);\n",
              "    fill: var(--disabled-fill-color);\n",
              "    box-shadow: none;\n",
              "  }\n",
              "\n",
              "  .colab-df-spinner {\n",
              "    border: 2px solid var(--fill-color);\n",
              "    border-color: transparent;\n",
              "    border-bottom-color: var(--fill-color);\n",
              "    animation:\n",
              "      spin 1s steps(1) infinite;\n",
              "  }\n",
              "\n",
              "  @keyframes spin {\n",
              "    0% {\n",
              "      border-color: transparent;\n",
              "      border-bottom-color: var(--fill-color);\n",
              "      border-left-color: var(--fill-color);\n",
              "    }\n",
              "    20% {\n",
              "      border-color: transparent;\n",
              "      border-left-color: var(--fill-color);\n",
              "      border-top-color: var(--fill-color);\n",
              "    }\n",
              "    30% {\n",
              "      border-color: transparent;\n",
              "      border-left-color: var(--fill-color);\n",
              "      border-top-color: var(--fill-color);\n",
              "      border-right-color: var(--fill-color);\n",
              "    }\n",
              "    40% {\n",
              "      border-color: transparent;\n",
              "      border-right-color: var(--fill-color);\n",
              "      border-top-color: var(--fill-color);\n",
              "    }\n",
              "    60% {\n",
              "      border-color: transparent;\n",
              "      border-right-color: var(--fill-color);\n",
              "    }\n",
              "    80% {\n",
              "      border-color: transparent;\n",
              "      border-right-color: var(--fill-color);\n",
              "      border-bottom-color: var(--fill-color);\n",
              "    }\n",
              "    90% {\n",
              "      border-color: transparent;\n",
              "      border-bottom-color: var(--fill-color);\n",
              "    }\n",
              "  }\n",
              "</style>\n",
              "\n",
              "  <script>\n",
              "    async function quickchart(key) {\n",
              "      const quickchartButtonEl =\n",
              "        document.querySelector('#' + key + ' button');\n",
              "      quickchartButtonEl.disabled = true;  // To prevent multiple clicks.\n",
              "      quickchartButtonEl.classList.add('colab-df-spinner');\n",
              "      try {\n",
              "        const charts = await google.colab.kernel.invokeFunction(\n",
              "            'suggestCharts', [key], {});\n",
              "      } catch (error) {\n",
              "        console.error('Error during call to suggestCharts:', error);\n",
              "      }\n",
              "      quickchartButtonEl.classList.remove('colab-df-spinner');\n",
              "      quickchartButtonEl.classList.add('colab-df-quickchart-complete');\n",
              "    }\n",
              "    (() => {\n",
              "      let quickchartButtonEl =\n",
              "        document.querySelector('#df-c88dca95-2ac4-47a3-a793-aa4886df3593 button');\n",
              "      quickchartButtonEl.style.display =\n",
              "        google.colab.kernel.accessAllowed ? 'block' : 'none';\n",
              "    })();\n",
              "  </script>\n",
              "</div>\n",
              "\n",
              "    </div>\n",
              "  </div>\n"
            ],
            "application/vnd.google.colaboratory.intrinsic+json": {
              "type": "dataframe",
              "variable_name": "data"
            }
          },
          "metadata": {},
          "execution_count": 26
        }
      ]
    },
    {
      "cell_type": "code",
      "source": [
        "data.columns\n"
      ],
      "metadata": {
        "colab": {
          "base_uri": "https://localhost:8080/"
        },
        "id": "3q7V3jrsIoh-",
        "outputId": "8ab8a081-878a-42e5-85b7-4853561bad67"
      },
      "execution_count": 27,
      "outputs": [
        {
          "output_type": "execute_result",
          "data": {
            "text/plain": [
              "Index(['Name', 'md5', 'Machine', 'SizeOfOptionalHeader', 'Characteristics',\n",
              "       'MajorLinkerVersion', 'MinorLinkerVersion', 'SizeOfCode',\n",
              "       'SizeOfInitializedData', 'SizeOfUninitializedData',\n",
              "       'AddressOfEntryPoint', 'BaseOfCode', 'BaseOfData', 'ImageBase',\n",
              "       'SectionAlignment', 'FileAlignment', 'MajorOperatingSystemVersion',\n",
              "       'MinorOperatingSystemVersion', 'MajorImageVersion', 'MinorImageVersion',\n",
              "       'MajorSubsystemVersion', 'MinorSubsystemVersion', 'SizeOfImage',\n",
              "       'SizeOfHeaders', 'CheckSum', 'Subsystem', 'DllCharacteristics',\n",
              "       'SizeOfStackReserve', 'SizeOfStackCommit', 'SizeOfHeapReserve',\n",
              "       'SizeOfHeapCommit', 'LoaderFlags', 'NumberOfRvaAndSizes', 'SectionsNb',\n",
              "       'SectionsMeanEntropy', 'SectionsMinEntropy', 'SectionsMaxEntropy',\n",
              "       'SectionsMeanRawsize', 'SectionsMinRawsize', 'SectionMaxRawsize',\n",
              "       'SectionsMeanVirtualsize', 'SectionsMinVirtualsize',\n",
              "       'SectionMaxVirtualsize', 'ImportsNbDLL', 'ImportsNb',\n",
              "       'ImportsNbOrdinal', 'ExportNb', 'ResourcesNb', 'ResourcesMeanEntropy',\n",
              "       'ResourcesMinEntropy', 'ResourcesMaxEntropy', 'ResourcesMeanSize',\n",
              "       'ResourcesMinSize', 'ResourcesMaxSize', 'LoadConfigurationSize',\n",
              "       'VersionInformationSize', 'legitimate'],\n",
              "      dtype='object')"
            ]
          },
          "metadata": {},
          "execution_count": 27
        }
      ]
    },
    {
      "cell_type": "code",
      "source": [
        "extractable = pd.DataFrame(data[['Characteristics','MajorLinkerVersion',\n",
        " 'MinorLinkerVersion',\n",
        " 'SizeOfCode',\n",
        " 'SizeOfInitializedData',\n",
        " 'SizeOfUninitializedData',\n",
        " 'ResourcesNb',\n",
        " 'LoadConfigurationSize',\n",
        " 'ResourcesMeanEntropy',\n",
        " 'ResourcesMinEntropy', 'ResourcesMaxEntropy']])"
      ],
      "metadata": {
        "id": "sMUdP85KIuv2"
      },
      "execution_count": 28,
      "outputs": []
    },
    {
      "cell_type": "code",
      "source": [
        "extractable.head()\n"
      ],
      "metadata": {
        "colab": {
          "base_uri": "https://localhost:8080/",
          "height": 226
        },
        "id": "3GyHLh4oJED-",
        "outputId": "28225df4-3ec8-4cac-acc2-a7a7608c5960"
      },
      "execution_count": 29,
      "outputs": [
        {
          "output_type": "execute_result",
          "data": {
            "text/plain": [
              "   Characteristics  MajorLinkerVersion  MinorLinkerVersion  SizeOfCode  \\\n",
              "0              258                   9                   0      361984   \n",
              "1             3330                   9                   0      130560   \n",
              "2             3330                   9                   0      517120   \n",
              "3              258                   9                   0      585728   \n",
              "4              258                   9                   0      294912   \n",
              "\n",
              "   SizeOfInitializedData  SizeOfUninitializedData  ResourcesNb  \\\n",
              "0                 115712                        0            4   \n",
              "1                  19968                        0            2   \n",
              "2                 621568                        0           11   \n",
              "3                 369152                        0           10   \n",
              "4                 247296                        0            2   \n",
              "\n",
              "   LoadConfigurationSize  ResourcesMeanEntropy  ResourcesMinEntropy  \\\n",
              "0                      0              3.262823             2.568844   \n",
              "1                     72              4.250461             3.420744   \n",
              "2                     72              4.426324             2.846449   \n",
              "3                     72              4.364291             2.669314   \n",
              "4                     72              4.306100             3.421598   \n",
              "\n",
              "   ResourcesMaxEntropy  \n",
              "0             3.537939  \n",
              "1             5.080177  \n",
              "2             5.271813  \n",
              "3             6.400720  \n",
              "4             5.190603  "
            ],
            "text/html": [
              "\n",
              "  <div id=\"df-a8dd65f8-c5b4-4467-9a6d-6480f46a8b1d\" class=\"colab-df-container\">\n",
              "    <div>\n",
              "<style scoped>\n",
              "    .dataframe tbody tr th:only-of-type {\n",
              "        vertical-align: middle;\n",
              "    }\n",
              "\n",
              "    .dataframe tbody tr th {\n",
              "        vertical-align: top;\n",
              "    }\n",
              "\n",
              "    .dataframe thead th {\n",
              "        text-align: right;\n",
              "    }\n",
              "</style>\n",
              "<table border=\"1\" class=\"dataframe\">\n",
              "  <thead>\n",
              "    <tr style=\"text-align: right;\">\n",
              "      <th></th>\n",
              "      <th>Characteristics</th>\n",
              "      <th>MajorLinkerVersion</th>\n",
              "      <th>MinorLinkerVersion</th>\n",
              "      <th>SizeOfCode</th>\n",
              "      <th>SizeOfInitializedData</th>\n",
              "      <th>SizeOfUninitializedData</th>\n",
              "      <th>ResourcesNb</th>\n",
              "      <th>LoadConfigurationSize</th>\n",
              "      <th>ResourcesMeanEntropy</th>\n",
              "      <th>ResourcesMinEntropy</th>\n",
              "      <th>ResourcesMaxEntropy</th>\n",
              "    </tr>\n",
              "  </thead>\n",
              "  <tbody>\n",
              "    <tr>\n",
              "      <th>0</th>\n",
              "      <td>258</td>\n",
              "      <td>9</td>\n",
              "      <td>0</td>\n",
              "      <td>361984</td>\n",
              "      <td>115712</td>\n",
              "      <td>0</td>\n",
              "      <td>4</td>\n",
              "      <td>0</td>\n",
              "      <td>3.262823</td>\n",
              "      <td>2.568844</td>\n",
              "      <td>3.537939</td>\n",
              "    </tr>\n",
              "    <tr>\n",
              "      <th>1</th>\n",
              "      <td>3330</td>\n",
              "      <td>9</td>\n",
              "      <td>0</td>\n",
              "      <td>130560</td>\n",
              "      <td>19968</td>\n",
              "      <td>0</td>\n",
              "      <td>2</td>\n",
              "      <td>72</td>\n",
              "      <td>4.250461</td>\n",
              "      <td>3.420744</td>\n",
              "      <td>5.080177</td>\n",
              "    </tr>\n",
              "    <tr>\n",
              "      <th>2</th>\n",
              "      <td>3330</td>\n",
              "      <td>9</td>\n",
              "      <td>0</td>\n",
              "      <td>517120</td>\n",
              "      <td>621568</td>\n",
              "      <td>0</td>\n",
              "      <td>11</td>\n",
              "      <td>72</td>\n",
              "      <td>4.426324</td>\n",
              "      <td>2.846449</td>\n",
              "      <td>5.271813</td>\n",
              "    </tr>\n",
              "    <tr>\n",
              "      <th>3</th>\n",
              "      <td>258</td>\n",
              "      <td>9</td>\n",
              "      <td>0</td>\n",
              "      <td>585728</td>\n",
              "      <td>369152</td>\n",
              "      <td>0</td>\n",
              "      <td>10</td>\n",
              "      <td>72</td>\n",
              "      <td>4.364291</td>\n",
              "      <td>2.669314</td>\n",
              "      <td>6.400720</td>\n",
              "    </tr>\n",
              "    <tr>\n",
              "      <th>4</th>\n",
              "      <td>258</td>\n",
              "      <td>9</td>\n",
              "      <td>0</td>\n",
              "      <td>294912</td>\n",
              "      <td>247296</td>\n",
              "      <td>0</td>\n",
              "      <td>2</td>\n",
              "      <td>72</td>\n",
              "      <td>4.306100</td>\n",
              "      <td>3.421598</td>\n",
              "      <td>5.190603</td>\n",
              "    </tr>\n",
              "  </tbody>\n",
              "</table>\n",
              "</div>\n",
              "    <div class=\"colab-df-buttons\">\n",
              "\n",
              "  <div class=\"colab-df-container\">\n",
              "    <button class=\"colab-df-convert\" onclick=\"convertToInteractive('df-a8dd65f8-c5b4-4467-9a6d-6480f46a8b1d')\"\n",
              "            title=\"Convert this dataframe to an interactive table.\"\n",
              "            style=\"display:none;\">\n",
              "\n",
              "  <svg xmlns=\"http://www.w3.org/2000/svg\" height=\"24px\" viewBox=\"0 -960 960 960\">\n",
              "    <path d=\"M120-120v-720h720v720H120Zm60-500h600v-160H180v160Zm220 220h160v-160H400v160Zm0 220h160v-160H400v160ZM180-400h160v-160H180v160Zm440 0h160v-160H620v160ZM180-180h160v-160H180v160Zm440 0h160v-160H620v160Z\"/>\n",
              "  </svg>\n",
              "    </button>\n",
              "\n",
              "  <style>\n",
              "    .colab-df-container {\n",
              "      display:flex;\n",
              "      gap: 12px;\n",
              "    }\n",
              "\n",
              "    .colab-df-convert {\n",
              "      background-color: #E8F0FE;\n",
              "      border: none;\n",
              "      border-radius: 50%;\n",
              "      cursor: pointer;\n",
              "      display: none;\n",
              "      fill: #1967D2;\n",
              "      height: 32px;\n",
              "      padding: 0 0 0 0;\n",
              "      width: 32px;\n",
              "    }\n",
              "\n",
              "    .colab-df-convert:hover {\n",
              "      background-color: #E2EBFA;\n",
              "      box-shadow: 0px 1px 2px rgba(60, 64, 67, 0.3), 0px 1px 3px 1px rgba(60, 64, 67, 0.15);\n",
              "      fill: #174EA6;\n",
              "    }\n",
              "\n",
              "    .colab-df-buttons div {\n",
              "      margin-bottom: 4px;\n",
              "    }\n",
              "\n",
              "    [theme=dark] .colab-df-convert {\n",
              "      background-color: #3B4455;\n",
              "      fill: #D2E3FC;\n",
              "    }\n",
              "\n",
              "    [theme=dark] .colab-df-convert:hover {\n",
              "      background-color: #434B5C;\n",
              "      box-shadow: 0px 1px 3px 1px rgba(0, 0, 0, 0.15);\n",
              "      filter: drop-shadow(0px 1px 2px rgba(0, 0, 0, 0.3));\n",
              "      fill: #FFFFFF;\n",
              "    }\n",
              "  </style>\n",
              "\n",
              "    <script>\n",
              "      const buttonEl =\n",
              "        document.querySelector('#df-a8dd65f8-c5b4-4467-9a6d-6480f46a8b1d button.colab-df-convert');\n",
              "      buttonEl.style.display =\n",
              "        google.colab.kernel.accessAllowed ? 'block' : 'none';\n",
              "\n",
              "      async function convertToInteractive(key) {\n",
              "        const element = document.querySelector('#df-a8dd65f8-c5b4-4467-9a6d-6480f46a8b1d');\n",
              "        const dataTable =\n",
              "          await google.colab.kernel.invokeFunction('convertToInteractive',\n",
              "                                                    [key], {});\n",
              "        if (!dataTable) return;\n",
              "\n",
              "        const docLinkHtml = 'Like what you see? Visit the ' +\n",
              "          '<a target=\"_blank\" href=https://colab.research.google.com/notebooks/data_table.ipynb>data table notebook</a>'\n",
              "          + ' to learn more about interactive tables.';\n",
              "        element.innerHTML = '';\n",
              "        dataTable['output_type'] = 'display_data';\n",
              "        await google.colab.output.renderOutput(dataTable, element);\n",
              "        const docLink = document.createElement('div');\n",
              "        docLink.innerHTML = docLinkHtml;\n",
              "        element.appendChild(docLink);\n",
              "      }\n",
              "    </script>\n",
              "  </div>\n",
              "\n",
              "\n",
              "<div id=\"df-1f4bacbb-0a98-49d0-88d1-0caecec30644\">\n",
              "  <button class=\"colab-df-quickchart\" onclick=\"quickchart('df-1f4bacbb-0a98-49d0-88d1-0caecec30644')\"\n",
              "            title=\"Suggest charts\"\n",
              "            style=\"display:none;\">\n",
              "\n",
              "<svg xmlns=\"http://www.w3.org/2000/svg\" height=\"24px\"viewBox=\"0 0 24 24\"\n",
              "     width=\"24px\">\n",
              "    <g>\n",
              "        <path d=\"M19 3H5c-1.1 0-2 .9-2 2v14c0 1.1.9 2 2 2h14c1.1 0 2-.9 2-2V5c0-1.1-.9-2-2-2zM9 17H7v-7h2v7zm4 0h-2V7h2v10zm4 0h-2v-4h2v4z\"/>\n",
              "    </g>\n",
              "</svg>\n",
              "  </button>\n",
              "\n",
              "<style>\n",
              "  .colab-df-quickchart {\n",
              "      --bg-color: #E8F0FE;\n",
              "      --fill-color: #1967D2;\n",
              "      --hover-bg-color: #E2EBFA;\n",
              "      --hover-fill-color: #174EA6;\n",
              "      --disabled-fill-color: #AAA;\n",
              "      --disabled-bg-color: #DDD;\n",
              "  }\n",
              "\n",
              "  [theme=dark] .colab-df-quickchart {\n",
              "      --bg-color: #3B4455;\n",
              "      --fill-color: #D2E3FC;\n",
              "      --hover-bg-color: #434B5C;\n",
              "      --hover-fill-color: #FFFFFF;\n",
              "      --disabled-bg-color: #3B4455;\n",
              "      --disabled-fill-color: #666;\n",
              "  }\n",
              "\n",
              "  .colab-df-quickchart {\n",
              "    background-color: var(--bg-color);\n",
              "    border: none;\n",
              "    border-radius: 50%;\n",
              "    cursor: pointer;\n",
              "    display: none;\n",
              "    fill: var(--fill-color);\n",
              "    height: 32px;\n",
              "    padding: 0;\n",
              "    width: 32px;\n",
              "  }\n",
              "\n",
              "  .colab-df-quickchart:hover {\n",
              "    background-color: var(--hover-bg-color);\n",
              "    box-shadow: 0 1px 2px rgba(60, 64, 67, 0.3), 0 1px 3px 1px rgba(60, 64, 67, 0.15);\n",
              "    fill: var(--button-hover-fill-color);\n",
              "  }\n",
              "\n",
              "  .colab-df-quickchart-complete:disabled,\n",
              "  .colab-df-quickchart-complete:disabled:hover {\n",
              "    background-color: var(--disabled-bg-color);\n",
              "    fill: var(--disabled-fill-color);\n",
              "    box-shadow: none;\n",
              "  }\n",
              "\n",
              "  .colab-df-spinner {\n",
              "    border: 2px solid var(--fill-color);\n",
              "    border-color: transparent;\n",
              "    border-bottom-color: var(--fill-color);\n",
              "    animation:\n",
              "      spin 1s steps(1) infinite;\n",
              "  }\n",
              "\n",
              "  @keyframes spin {\n",
              "    0% {\n",
              "      border-color: transparent;\n",
              "      border-bottom-color: var(--fill-color);\n",
              "      border-left-color: var(--fill-color);\n",
              "    }\n",
              "    20% {\n",
              "      border-color: transparent;\n",
              "      border-left-color: var(--fill-color);\n",
              "      border-top-color: var(--fill-color);\n",
              "    }\n",
              "    30% {\n",
              "      border-color: transparent;\n",
              "      border-left-color: var(--fill-color);\n",
              "      border-top-color: var(--fill-color);\n",
              "      border-right-color: var(--fill-color);\n",
              "    }\n",
              "    40% {\n",
              "      border-color: transparent;\n",
              "      border-right-color: var(--fill-color);\n",
              "      border-top-color: var(--fill-color);\n",
              "    }\n",
              "    60% {\n",
              "      border-color: transparent;\n",
              "      border-right-color: var(--fill-color);\n",
              "    }\n",
              "    80% {\n",
              "      border-color: transparent;\n",
              "      border-right-color: var(--fill-color);\n",
              "      border-bottom-color: var(--fill-color);\n",
              "    }\n",
              "    90% {\n",
              "      border-color: transparent;\n",
              "      border-bottom-color: var(--fill-color);\n",
              "    }\n",
              "  }\n",
              "</style>\n",
              "\n",
              "  <script>\n",
              "    async function quickchart(key) {\n",
              "      const quickchartButtonEl =\n",
              "        document.querySelector('#' + key + ' button');\n",
              "      quickchartButtonEl.disabled = true;  // To prevent multiple clicks.\n",
              "      quickchartButtonEl.classList.add('colab-df-spinner');\n",
              "      try {\n",
              "        const charts = await google.colab.kernel.invokeFunction(\n",
              "            'suggestCharts', [key], {});\n",
              "      } catch (error) {\n",
              "        console.error('Error during call to suggestCharts:', error);\n",
              "      }\n",
              "      quickchartButtonEl.classList.remove('colab-df-spinner');\n",
              "      quickchartButtonEl.classList.add('colab-df-quickchart-complete');\n",
              "    }\n",
              "    (() => {\n",
              "      let quickchartButtonEl =\n",
              "        document.querySelector('#df-1f4bacbb-0a98-49d0-88d1-0caecec30644 button');\n",
              "      quickchartButtonEl.style.display =\n",
              "        google.colab.kernel.accessAllowed ? 'block' : 'none';\n",
              "    })();\n",
              "  </script>\n",
              "</div>\n",
              "\n",
              "    </div>\n",
              "  </div>\n"
            ],
            "application/vnd.google.colaboratory.intrinsic+json": {
              "type": "dataframe",
              "variable_name": "extractable"
            }
          },
          "metadata": {},
          "execution_count": 29
        }
      ]
    },
    {
      "cell_type": "code",
      "source": [
        "extractable.isnull().sum()\n"
      ],
      "metadata": {
        "colab": {
          "base_uri": "https://localhost:8080/",
          "height": 429
        },
        "id": "Gx8y9WYZJGR9",
        "outputId": "bdacd096-8b86-4e16-b495-07ca211a590c"
      },
      "execution_count": 30,
      "outputs": [
        {
          "output_type": "execute_result",
          "data": {
            "text/plain": [
              "Characteristics            0\n",
              "MajorLinkerVersion         0\n",
              "MinorLinkerVersion         0\n",
              "SizeOfCode                 0\n",
              "SizeOfInitializedData      0\n",
              "SizeOfUninitializedData    0\n",
              "ResourcesNb                0\n",
              "LoadConfigurationSize      0\n",
              "ResourcesMeanEntropy       0\n",
              "ResourcesMinEntropy        0\n",
              "ResourcesMaxEntropy        0\n",
              "dtype: int64"
            ],
            "text/html": [
              "<div>\n",
              "<style scoped>\n",
              "    .dataframe tbody tr th:only-of-type {\n",
              "        vertical-align: middle;\n",
              "    }\n",
              "\n",
              "    .dataframe tbody tr th {\n",
              "        vertical-align: top;\n",
              "    }\n",
              "\n",
              "    .dataframe thead th {\n",
              "        text-align: right;\n",
              "    }\n",
              "</style>\n",
              "<table border=\"1\" class=\"dataframe\">\n",
              "  <thead>\n",
              "    <tr style=\"text-align: right;\">\n",
              "      <th></th>\n",
              "      <th>0</th>\n",
              "    </tr>\n",
              "  </thead>\n",
              "  <tbody>\n",
              "    <tr>\n",
              "      <th>Characteristics</th>\n",
              "      <td>0</td>\n",
              "    </tr>\n",
              "    <tr>\n",
              "      <th>MajorLinkerVersion</th>\n",
              "      <td>0</td>\n",
              "    </tr>\n",
              "    <tr>\n",
              "      <th>MinorLinkerVersion</th>\n",
              "      <td>0</td>\n",
              "    </tr>\n",
              "    <tr>\n",
              "      <th>SizeOfCode</th>\n",
              "      <td>0</td>\n",
              "    </tr>\n",
              "    <tr>\n",
              "      <th>SizeOfInitializedData</th>\n",
              "      <td>0</td>\n",
              "    </tr>\n",
              "    <tr>\n",
              "      <th>SizeOfUninitializedData</th>\n",
              "      <td>0</td>\n",
              "    </tr>\n",
              "    <tr>\n",
              "      <th>ResourcesNb</th>\n",
              "      <td>0</td>\n",
              "    </tr>\n",
              "    <tr>\n",
              "      <th>LoadConfigurationSize</th>\n",
              "      <td>0</td>\n",
              "    </tr>\n",
              "    <tr>\n",
              "      <th>ResourcesMeanEntropy</th>\n",
              "      <td>0</td>\n",
              "    </tr>\n",
              "    <tr>\n",
              "      <th>ResourcesMinEntropy</th>\n",
              "      <td>0</td>\n",
              "    </tr>\n",
              "    <tr>\n",
              "      <th>ResourcesMaxEntropy</th>\n",
              "      <td>0</td>\n",
              "    </tr>\n",
              "  </tbody>\n",
              "</table>\n",
              "</div><br><label><b>dtype:</b> int64</label>"
            ]
          },
          "metadata": {},
          "execution_count": 30
        }
      ]
    },
    {
      "cell_type": "code",
      "source": [
        "x = extractable.values\n",
        "x.shape\n"
      ],
      "metadata": {
        "colab": {
          "base_uri": "https://localhost:8080/"
        },
        "id": "v_pyCbpqJPeV",
        "outputId": "f40b62fe-8e3b-45b7-9270-1a30161320ed"
      },
      "execution_count": 31,
      "outputs": [
        {
          "output_type": "execute_result",
          "data": {
            "text/plain": [
              "(138047, 11)"
            ]
          },
          "metadata": {},
          "execution_count": 31
        }
      ]
    },
    {
      "cell_type": "code",
      "source": [
        "y = pd.DataFrame(data[\"legitimate\"])"
      ],
      "metadata": {
        "id": "xeo63FrVJhON"
      },
      "execution_count": 32,
      "outputs": []
    },
    {
      "cell_type": "code",
      "source": [
        "y.shape\n"
      ],
      "metadata": {
        "colab": {
          "base_uri": "https://localhost:8080/"
        },
        "id": "6P-N3FtWJqjt",
        "outputId": "311309f2-adcf-4a09-cf34-16232b24674e"
      },
      "execution_count": 33,
      "outputs": [
        {
          "output_type": "execute_result",
          "data": {
            "text/plain": [
              "(138047, 1)"
            ]
          },
          "metadata": {},
          "execution_count": 33
        }
      ]
    },
    {
      "cell_type": "code",
      "source": [
        "y = y.values\n"
      ],
      "metadata": {
        "id": "DxGBtXNbJrzl"
      },
      "execution_count": 34,
      "outputs": []
    },
    {
      "cell_type": "code",
      "source": [
        "from sklearn.model_selection import train_test_split\n",
        "\n",
        "x_train,x_test,y_train,y_test= train_test_split(x,y, test_size=0.2, random_state=42)"
      ],
      "metadata": {
        "id": "JBrSfXxZJtL1"
      },
      "execution_count": 35,
      "outputs": []
    },
    {
      "cell_type": "code",
      "source": [
        "from sklearn.preprocessing import MinMaxScaler\n",
        "scaler = MinMaxScaler()"
      ],
      "metadata": {
        "id": "NKTd110FJv89"
      },
      "execution_count": 36,
      "outputs": []
    },
    {
      "cell_type": "code",
      "source": [
        "x_train = scaler.fit_transform(x_train)"
      ],
      "metadata": {
        "id": "_exFV_2AJxaN"
      },
      "execution_count": 37,
      "outputs": []
    },
    {
      "cell_type": "code",
      "source": [
        "from sklearn.impute import SimpleImputer\n",
        "\n",
        "# Create an imputer object\n",
        "imputer = SimpleImputer(strategy='mean')  # You can choose different strategies like 'median' or 'most_frequent'\n",
        "\n",
        "# Fit the imputer on the training data and transform the data\n",
        "x_train = imputer.fit_transform(x_train)\n",
        "\n",
        "x_test = imputer.fit_transform(x_test)"
      ],
      "metadata": {
        "id": "cMj9aY4JJyym"
      },
      "execution_count": 38,
      "outputs": []
    },
    {
      "cell_type": "code",
      "source": [
        "import joblib\n",
        "# Save the scaler to a file\n",
        "scaler_filename = \"function1_model1_minmax_scaler.pkl\"\n",
        "joblib.dump(scaler, scaler_filename)"
      ],
      "metadata": {
        "colab": {
          "base_uri": "https://localhost:8080/"
        },
        "id": "zMl8LgoI9WuD",
        "outputId": "bba6f72b-cdee-4f86-adb0-18d4c15be59a"
      },
      "execution_count": 39,
      "outputs": [
        {
          "output_type": "execute_result",
          "data": {
            "text/plain": [
              "['function1_model1_minmax_scaler.pkl']"
            ]
          },
          "metadata": {},
          "execution_count": 39
        }
      ]
    },
    {
      "cell_type": "code",
      "source": [
        "x_test = scaler.fit_transform(x_test)\n",
        "x_train = scaler.fit_transform(x_train)"
      ],
      "metadata": {
        "id": "bOegVBiNJ122"
      },
      "execution_count": 40,
      "outputs": []
    },
    {
      "cell_type": "markdown",
      "source": [
        "Model building"
      ],
      "metadata": {
        "id": "fIRQEaoAKGTp"
      }
    },
    {
      "cell_type": "code",
      "source": [
        "import tensorflow as tf\n",
        "from tensorflow.keras.models import Sequential\n",
        "from tensorflow.keras.layers import Dense,Dropout\n",
        "from tensorflow.keras.callbacks import EarlyStopping, ReduceLROnPlateau\n"
      ],
      "metadata": {
        "id": "nkFUsEFiKDOV"
      },
      "execution_count": 41,
      "outputs": []
    },
    {
      "cell_type": "code",
      "source": [
        "model = Sequential()\n",
        "model.add(Dense(11, input_dim=11, activation='relu'))\n",
        "#model.add(Dense(8, activation='relu'))\n",
        "# model.add(Dropout(0.3))\n",
        "model.add(Dense(7, activation='relu'))\n",
        "# model.add(Dropout(0.5))\n",
        "model.add(Dense(6, activation='relu'))\n",
        "model.add(Dense(5, activation='relu'))\n",
        "model.add(Dense(4, activation='relu'))\n",
        "# model.add(Dense(3, activation='relu'))\n",
        "model.add(Dense(3, activation='leaky_relu'))\n",
        "model.add(Dense(1, activation='sigmoid'))\n",
        "model.summary() # print the model summary"
      ],
      "metadata": {
        "colab": {
          "base_uri": "https://localhost:8080/"
        },
        "id": "JOkmDhtMKU9F",
        "outputId": "bfefb45a-47fc-4674-c56c-66b23a7cc52c"
      },
      "execution_count": 42,
      "outputs": [
        {
          "output_type": "stream",
          "name": "stdout",
          "text": [
            "Model: \"sequential_1\"\n",
            "_________________________________________________________________\n",
            " Layer (type)                Output Shape              Param #   \n",
            "=================================================================\n",
            " dense_7 (Dense)             (None, 11)                132       \n",
            "                                                                 \n",
            " dense_8 (Dense)             (None, 7)                 84        \n",
            "                                                                 \n",
            " dense_9 (Dense)             (None, 6)                 48        \n",
            "                                                                 \n",
            " dense_10 (Dense)            (None, 5)                 35        \n",
            "                                                                 \n",
            " dense_11 (Dense)            (None, 4)                 24        \n",
            "                                                                 \n",
            " dense_12 (Dense)            (None, 3)                 15        \n",
            "                                                                 \n",
            " dense_13 (Dense)            (None, 1)                 4         \n",
            "                                                                 \n",
            "=================================================================\n",
            "Total params: 342 (1.34 KB)\n",
            "Trainable params: 342 (1.34 KB)\n",
            "Non-trainable params: 0 (0.00 Byte)\n",
            "_________________________________________________________________\n"
          ]
        }
      ]
    },
    {
      "cell_type": "code",
      "source": [
        "# compile model\n",
        "model.compile(loss = \"binary_crossentropy\",optimizer=\"rmsprop\",metrics=[\"accuracy\"])"
      ],
      "metadata": {
        "id": "48VadQ_8KXMl"
      },
      "execution_count": 43,
      "outputs": []
    },
    {
      "cell_type": "code",
      "source": [
        "# Callbacks\n",
        "#early_stopping = EarlyStopping(monitor='val_loss', patience=10, restore_best_weights=True)\n",
        "reduce_lr = ReduceLROnPlateau(monitor='val_loss', factor=0.2, patience=5, min_lr=0.0001)"
      ],
      "metadata": {
        "id": "iE2hoeeGKZxI"
      },
      "execution_count": 44,
      "outputs": []
    },
    {
      "cell_type": "code",
      "source": [
        "# Fit the model\n",
        "history = model.fit(x_train,y_train,epochs=30,batch_size=50,validation_split=0.2, callbacks=[reduce_lr])"
      ],
      "metadata": {
        "colab": {
          "base_uri": "https://localhost:8080/"
        },
        "id": "N8IylthGKbJV",
        "outputId": "615f4798-4a01-45b8-afb1-c79ac2c4e5b6"
      },
      "execution_count": 45,
      "outputs": [
        {
          "output_type": "stream",
          "name": "stdout",
          "text": [
            "Epoch 1/30\n",
            "1767/1767 [==============================] - 8s 3ms/step - loss: 0.3065 - accuracy: 0.8823 - val_loss: 0.1786 - val_accuracy: 0.9459 - lr: 0.0010\n",
            "Epoch 2/30\n",
            "1767/1767 [==============================] - 5s 3ms/step - loss: 0.1712 - accuracy: 0.9466 - val_loss: 0.1763 - val_accuracy: 0.9451 - lr: 0.0010\n",
            "Epoch 3/30\n",
            "1767/1767 [==============================] - 6s 3ms/step - loss: 0.1682 - accuracy: 0.9464 - val_loss: 0.1738 - val_accuracy: 0.9455 - lr: 0.0010\n",
            "Epoch 4/30\n",
            "1767/1767 [==============================] - 5s 3ms/step - loss: 0.1651 - accuracy: 0.9473 - val_loss: 0.1699 - val_accuracy: 0.9427 - lr: 0.0010\n",
            "Epoch 5/30\n",
            "1767/1767 [==============================] - 4s 3ms/step - loss: 0.1585 - accuracy: 0.9494 - val_loss: 0.1576 - val_accuracy: 0.9487 - lr: 0.0010\n",
            "Epoch 6/30\n",
            "1767/1767 [==============================] - 6s 3ms/step - loss: 0.1431 - accuracy: 0.9546 - val_loss: 0.1400 - val_accuracy: 0.9554 - lr: 0.0010\n",
            "Epoch 7/30\n",
            "1767/1767 [==============================] - 5s 3ms/step - loss: 0.1303 - accuracy: 0.9594 - val_loss: 0.1354 - val_accuracy: 0.9583 - lr: 0.0010\n",
            "Epoch 8/30\n",
            "1767/1767 [==============================] - 5s 3ms/step - loss: 0.1233 - accuracy: 0.9608 - val_loss: 0.1195 - val_accuracy: 0.9648 - lr: 0.0010\n",
            "Epoch 9/30\n",
            "1767/1767 [==============================] - 6s 4ms/step - loss: 0.1190 - accuracy: 0.9634 - val_loss: 0.1156 - val_accuracy: 0.9636 - lr: 0.0010\n",
            "Epoch 10/30\n",
            "1767/1767 [==============================] - 5s 3ms/step - loss: 0.1172 - accuracy: 0.9639 - val_loss: 0.1151 - val_accuracy: 0.9672 - lr: 0.0010\n",
            "Epoch 11/30\n",
            "1767/1767 [==============================] - 5s 3ms/step - loss: 0.1155 - accuracy: 0.9649 - val_loss: 0.1205 - val_accuracy: 0.9665 - lr: 0.0010\n",
            "Epoch 12/30\n",
            "1767/1767 [==============================] - 7s 4ms/step - loss: 0.1147 - accuracy: 0.9653 - val_loss: 0.1244 - val_accuracy: 0.9652 - lr: 0.0010\n",
            "Epoch 13/30\n",
            "1767/1767 [==============================] - 4s 3ms/step - loss: 0.1136 - accuracy: 0.9657 - val_loss: 0.1131 - val_accuracy: 0.9676 - lr: 0.0010\n",
            "Epoch 14/30\n",
            "1767/1767 [==============================] - 4s 3ms/step - loss: 0.1127 - accuracy: 0.9657 - val_loss: 0.1117 - val_accuracy: 0.9679 - lr: 0.0010\n",
            "Epoch 15/30\n",
            "1767/1767 [==============================] - 7s 4ms/step - loss: 0.1123 - accuracy: 0.9658 - val_loss: 0.1112 - val_accuracy: 0.9670 - lr: 0.0010\n",
            "Epoch 16/30\n",
            "1767/1767 [==============================] - 5s 3ms/step - loss: 0.1114 - accuracy: 0.9663 - val_loss: 0.1265 - val_accuracy: 0.9662 - lr: 0.0010\n",
            "Epoch 17/30\n",
            "1767/1767 [==============================] - 5s 3ms/step - loss: 0.1105 - accuracy: 0.9673 - val_loss: 0.1093 - val_accuracy: 0.9684 - lr: 0.0010\n",
            "Epoch 18/30\n",
            "1767/1767 [==============================] - 6s 3ms/step - loss: 0.1094 - accuracy: 0.9672 - val_loss: 0.1122 - val_accuracy: 0.9687 - lr: 0.0010\n",
            "Epoch 19/30\n",
            "1767/1767 [==============================] - 5s 3ms/step - loss: 0.1086 - accuracy: 0.9671 - val_loss: 0.1166 - val_accuracy: 0.9680 - lr: 0.0010\n",
            "Epoch 20/30\n",
            "1767/1767 [==============================] - 5s 3ms/step - loss: 0.1075 - accuracy: 0.9678 - val_loss: 0.1059 - val_accuracy: 0.9690 - lr: 0.0010\n",
            "Epoch 21/30\n",
            "1767/1767 [==============================] - 5s 3ms/step - loss: 0.1068 - accuracy: 0.9677 - val_loss: 0.1091 - val_accuracy: 0.9692 - lr: 0.0010\n",
            "Epoch 22/30\n",
            "1767/1767 [==============================] - 5s 3ms/step - loss: 0.1066 - accuracy: 0.9680 - val_loss: 0.1057 - val_accuracy: 0.9709 - lr: 0.0010\n",
            "Epoch 23/30\n",
            "1767/1767 [==============================] - 6s 3ms/step - loss: 0.1055 - accuracy: 0.9684 - val_loss: 0.1165 - val_accuracy: 0.9651 - lr: 0.0010\n",
            "Epoch 24/30\n",
            "1767/1767 [==============================] - 5s 3ms/step - loss: 0.1055 - accuracy: 0.9681 - val_loss: 0.1248 - val_accuracy: 0.9607 - lr: 0.0010\n",
            "Epoch 25/30\n",
            "1767/1767 [==============================] - 4s 3ms/step - loss: 0.1054 - accuracy: 0.9683 - val_loss: 0.1068 - val_accuracy: 0.9702 - lr: 0.0010\n",
            "Epoch 26/30\n",
            "1767/1767 [==============================] - 7s 4ms/step - loss: 0.1045 - accuracy: 0.9685 - val_loss: 0.1182 - val_accuracy: 0.9672 - lr: 0.0010\n",
            "Epoch 27/30\n",
            "1767/1767 [==============================] - 4s 3ms/step - loss: 0.1043 - accuracy: 0.9683 - val_loss: 0.1036 - val_accuracy: 0.9703 - lr: 0.0010\n",
            "Epoch 28/30\n",
            "1767/1767 [==============================] - 5s 3ms/step - loss: 0.1042 - accuracy: 0.9686 - val_loss: 0.1047 - val_accuracy: 0.9700 - lr: 0.0010\n",
            "Epoch 29/30\n",
            "1767/1767 [==============================] - 6s 4ms/step - loss: 0.1037 - accuracy: 0.9689 - val_loss: 0.1060 - val_accuracy: 0.9684 - lr: 0.0010\n",
            "Epoch 30/30\n",
            "1767/1767 [==============================] - 5s 3ms/step - loss: 0.1040 - accuracy: 0.9687 - val_loss: 0.1039 - val_accuracy: 0.9704 - lr: 0.0010\n"
          ]
        }
      ]
    },
    {
      "cell_type": "code",
      "source": [
        "history.history.keys()"
      ],
      "metadata": {
        "colab": {
          "base_uri": "https://localhost:8080/"
        },
        "id": "U8LIh8BsKc8F",
        "outputId": "e541bb4a-cde6-411b-b82e-f0b441679e7d"
      },
      "execution_count": 46,
      "outputs": [
        {
          "output_type": "execute_result",
          "data": {
            "text/plain": [
              "dict_keys(['loss', 'accuracy', 'val_loss', 'val_accuracy', 'lr'])"
            ]
          },
          "metadata": {},
          "execution_count": 46
        }
      ]
    },
    {
      "cell_type": "code",
      "source": [
        "from sklearn.metrics import f1_score,accuracy_score,auc,confusion_matrix"
      ],
      "metadata": {
        "id": "Fc3BR1-VLecA"
      },
      "execution_count": 47,
      "outputs": []
    },
    {
      "cell_type": "code",
      "source": [
        "# accuracy on the training dataset\n",
        "training_accuracy = model.predict(x_train)\n",
        "training_accuracy =[1 if y>=0.5 else 0 for y in training_accuracy]\n",
        "accuracy_score(y_train,training_accuracy)"
      ],
      "metadata": {
        "colab": {
          "base_uri": "https://localhost:8080/"
        },
        "id": "2yMPotyBLPAB",
        "outputId": "2b464a81-f19c-44c8-b1c6-35b9e7b29fe4"
      },
      "execution_count": 48,
      "outputs": [
        {
          "output_type": "stream",
          "name": "stdout",
          "text": [
            "3452/3452 [==============================] - 7s 2ms/step\n"
          ]
        },
        {
          "output_type": "execute_result",
          "data": {
            "text/plain": [
              "0.9699285565526047"
            ]
          },
          "metadata": {},
          "execution_count": 48
        }
      ]
    },
    {
      "cell_type": "code",
      "source": [
        "# Accuracy of the test dataset\n",
        "y_prediction = model.predict(x_test)\n",
        "y_prediction = [1 if y>=0.5 else 0 for y in y_prediction]\n",
        "\n",
        "accuracy_score(y_test,y_prediction)\n"
      ],
      "metadata": {
        "colab": {
          "base_uri": "https://localhost:8080/"
        },
        "id": "uPRWCBBiLSRN",
        "outputId": "82610b4c-f036-4cc8-a3b1-50d022bbc5b0"
      },
      "execution_count": 49,
      "outputs": [
        {
          "output_type": "stream",
          "name": "stdout",
          "text": [
            "863/863 [==============================] - 1s 2ms/step\n"
          ]
        },
        {
          "output_type": "execute_result",
          "data": {
            "text/plain": [
              "0.9590365809489315"
            ]
          },
          "metadata": {},
          "execution_count": 49
        }
      ]
    },
    {
      "cell_type": "code",
      "source": [
        "confusion_matrix(y_test,y_prediction)\n"
      ],
      "metadata": {
        "colab": {
          "base_uri": "https://localhost:8080/"
        },
        "id": "CYkTq44rLiyN",
        "outputId": "f768f1f2-e7fd-465d-ef74-4fda60de39d7"
      },
      "execution_count": 50,
      "outputs": [
        {
          "output_type": "execute_result",
          "data": {
            "text/plain": [
              "array([[18407,   843],\n",
              "       [  288,  8072]])"
            ]
          },
          "metadata": {},
          "execution_count": 50
        }
      ]
    },
    {
      "cell_type": "code",
      "source": [
        "f1_score(y_test,y_prediction)\n"
      ],
      "metadata": {
        "colab": {
          "base_uri": "https://localhost:8080/"
        },
        "id": "6y7zDL2OLoZt",
        "outputId": "7e3dc66a-f0c1-47ea-e638-dc76b8eeeb1e"
      },
      "execution_count": 51,
      "outputs": [
        {
          "output_type": "execute_result",
          "data": {
            "text/plain": [
              "0.9345296671490594"
            ]
          },
          "metadata": {},
          "execution_count": 51
        }
      ]
    },
    {
      "cell_type": "code",
      "source": [
        "# Extracting training and validation accuracy\n",
        "training_accuracy = history.history['accuracy']\n",
        "validation_accuracy = history.history['loss']"
      ],
      "metadata": {
        "id": "ZLCjGN2ELshF"
      },
      "execution_count": 52,
      "outputs": []
    },
    {
      "cell_type": "code",
      "source": [
        "from sklearn.metrics import confusion_matrix\n",
        "import matplotlib.pyplot as plt\n",
        "import seaborn as sns"
      ],
      "metadata": {
        "id": "ray-4QrFL6YX"
      },
      "execution_count": 53,
      "outputs": []
    },
    {
      "cell_type": "code",
      "source": [
        "# Plotting accuracy\n",
        "plt.figure(figsize=(5, 6))\n",
        "plt.plot(history.history['accuracy'], label='Training Accuracy')\n",
        "plt.plot(history.history['val_accuracy'], label='Validation Accuracy')\n",
        "plt.title('Model Accuracy')\n",
        "plt.xlabel('Epoch')\n",
        "plt.ylabel('Accuracy')\n",
        "plt.legend(loc='upper left')\n",
        "plt.grid(True)\n",
        "plt.show()\n"
      ],
      "metadata": {
        "colab": {
          "base_uri": "https://localhost:8080/",
          "height": 564
        },
        "id": "23VlFOIILw9V",
        "outputId": "00d22a66-6640-4689-df73-db36e850e73e"
      },
      "execution_count": 54,
      "outputs": [
        {
          "output_type": "display_data",
          "data": {
            "text/plain": [
              "<Figure size 500x600 with 1 Axes>"
            ],
            "image/png": "[encoded data removed]"
          },
          "metadata": {}
        }
      ]
    },
    {
      "cell_type": "code",
      "source": [
        "# Plotting loss\n",
        "plt.figure(figsize=(5, 6))\n",
        "plt.plot(history.history['loss'], label='Training Loss')\n",
        "plt.plot(history.history['val_loss'], label='Validation Loss')\n",
        "plt.title('Model Loss')\n",
        "plt.xlabel('Epoch')\n",
        "plt.ylabel('Loss')\n",
        "plt.legend(loc='upper left')\n",
        "plt.grid(True)\n",
        "plt.show()"
      ],
      "metadata": {
        "colab": {
          "base_uri": "https://localhost:8080/",
          "height": 564
        },
        "id": "XPPZQjr_LzrG",
        "outputId": "d5981db3-5ccd-479e-afea-6b3d179097e3"
      },
      "execution_count": 55,
      "outputs": [
        {
          "output_type": "display_data",
          "data": {
            "text/plain": [
              "<Figure size 500x600 with 1 Axes>"
            ],
            "image/png": "[encoded data removed]"
          },
          "metadata": {}
        }
      ]
    },
    {
      "cell_type": "code",
      "source": [
        "# Save the model to a TensorFlow SavedModel format\n",
        "model.save('function1 model (1.2).h5')"
      ],
      "metadata": {
        "colab": {
          "base_uri": "https://localhost:8080/"
        },
        "id": "MBSsHiRAMA01",
        "outputId": "ab20bd9b-f41c-477a-cb4a-531aca3139ac"
      },
      "execution_count": 56,
      "outputs": [
        {
          "output_type": "stream",
          "name": "stderr",
          "text": [
            "/usr/local/lib/python3.10/dist-packages/keras/src/engine/training.py:3103: UserWarning: You are saving your model as an HDF5 file via `model.save()`. This file format is considered legacy. We recommend using instead the native Keras format, e.g. `model.save('my_model.keras')`.\n",
            "  saving_api.save_model(\n"
          ]
        }
      ]
    },
    {
      "cell_type": "code",
      "source": [
        "!pip install tf2onnx\n"
      ],
      "metadata": {
        "id": "517ylXLTMMdd",
        "colab": {
          "base_uri": "https://localhost:8080/"
        },
        "outputId": "a732e88d-bb73-4a13-a329-e40855d45728"
      },
      "execution_count": 57,
      "outputs": [
        {
          "output_type": "stream",
          "name": "stdout",
          "text": [
            "Requirement already satisfied: tf2onnx in /usr/local/lib/python3.10/dist-packages (1.16.1)\n",
            "Requirement already satisfied: numpy>=1.14.1 in /usr/local/lib/python3.10/dist-packages (from tf2onnx) (1.26.4)\n",
            "Requirement already satisfied: onnx>=1.4.1 in /usr/local/lib/python3.10/dist-packages (from tf2onnx) (1.16.2)\n",
            "Requirement already satisfied: requests in /usr/local/lib/python3.10/dist-packages (from tf2onnx) (2.32.3)\n",
            "Requirement already satisfied: six in /usr/local/lib/python3.10/dist-packages (from tf2onnx) (1.16.0)\n",
            "Requirement already satisfied: flatbuffers>=1.12 in /usr/local/lib/python3.10/dist-packages (from tf2onnx) (24.3.25)\n",
            "Requirement already satisfied: protobuf~=3.20 in /usr/local/lib/python3.10/dist-packages (from tf2onnx) (3.20.3)\n",
            "Requirement already satisfied: charset-normalizer<4,>=2 in /usr/local/lib/python3.10/dist-packages (from requests->tf2onnx) (3.3.2)\n",
            "Requirement already satisfied: idna<4,>=2.5 in /usr/local/lib/python3.10/dist-packages (from requests->tf2onnx) (3.8)\n",
            "Requirement already satisfied: urllib3<3,>=1.21.1 in /usr/local/lib/python3.10/dist-packages (from requests->tf2onnx) (2.0.7)\n",
            "Requirement already satisfied: certifi>=2017.4.17 in /usr/local/lib/python3.10/dist-packages (from requests->tf2onnx) (2024.7.4)\n"
          ]
        }
      ]
    },
    {
      "cell_type": "code",
      "source": [
        "\n",
        "# Convert the TensorFlow SavedModel to ONNX format\n",
        "import tf2onnx\n",
        "import onnx"
      ],
      "metadata": {
        "id": "g3LgK79TAROl"
      },
      "execution_count": 58,
      "outputs": []
    },
    {
      "cell_type": "code",
      "source": [
        "# Convert the TensorFlow SavedModel to ONNX format\n",
        "spec = (tf.TensorSpec((None, 11), tf.float32, name=\"input\"),)\n",
        "output_path = \"function1 model (1.2).onnx\"\n",
        "model_proto, _ = tf2onnx.convert.from_keras(model, input_signature=spec, output_path=output_path)"
      ],
      "metadata": {
        "id": "yBmgj1EEAU4M"
      },
      "execution_count": 59,
      "outputs": []
    },
    {
      "cell_type": "code",
      "source": [],
      "metadata": {
        "id": "Fy7VvaCqC6Qz"
      },
      "execution_count": 59,
      "outputs": []
    }
  ]
}
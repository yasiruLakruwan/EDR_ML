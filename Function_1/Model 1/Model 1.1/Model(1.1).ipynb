{
  "nbformat": 4,
  "nbformat_minor": 0,
  "metadata": {
    "colab": {
      "provenance": []
    },
    "kernelspec": {
      "name": "python3",
      "display_name": "Python 3"
    },
    "language_info": {
      "name": "python"
    }
  },
  "cells": [
    {
      "cell_type": "code",
      "source": [
        "!pip install pefile"
      ],
      "metadata": {
        "colab": {
          "base_uri": "https://localhost:8080/"
        },
        "id": "Xs-QZHT_9buR",
        "outputId": "c6e91d87-2a07-42c4-b5bc-3fd84084cf82"
      },
      "execution_count": 1,
      "outputs": [
        {
          "output_type": "stream",
          "name": "stdout",
          "text": [
            "Requirement already satisfied: pefile in /usr/local/lib/python3.10/dist-packages (2023.2.7)\n"
          ]
        }
      ]
    },
    {
      "cell_type": "code",
      "source": [
        "import pefile\n",
        "import struct\n",
        "import math"
      ],
      "metadata": {
        "id": "t2wpFA2dcN7Z"
      },
      "execution_count": 2,
      "outputs": []
    },
    {
      "cell_type": "code",
      "execution_count": 3,
      "metadata": {
        "id": "hKMJNiY5VpWN",
        "colab": {
          "base_uri": "https://localhost:8080/"
        },
        "outputId": "e189da41-e0dd-4c2e-f64c-9eb197423640"
      },
      "outputs": [
        {
          "output_type": "stream",
          "name": "stdout",
          "text": [
            "{'Characteristics': 33167, 'MajorLinkerVersion': 2, 'MinorLinkerVersion': 25, 'SizeOfCode': 741888, 'SizeOfInitializedData': 89600, 'SizeOfUninitializedData': 0, 'ResourcesNb': 6, 'LoadConfigurationSize': 0}\n"
          ]
        },
        {
          "output_type": "execute_result",
          "data": {
            "text/plain": [
              "{'Characteristics': 33167,\n",
              " 'MajorLinkerVersion': 2,\n",
              " 'MinorLinkerVersion': 25,\n",
              " 'SizeOfCode': 741888,\n",
              " 'SizeOfInitializedData': 89600,\n",
              " 'SizeOfUninitializedData': 0,\n",
              " 'ResourcesNb': 6,\n",
              " 'LoadConfigurationSize': 0}"
            ]
          },
          "metadata": {},
          "execution_count": 3
        }
      ],
      "source": [
        "def extract_features(exe_file_path):\n",
        "    # Initialize an empty dictionary to store the extracted features\n",
        "    features = {}\n",
        "\n",
        "    # Open the PE file using pefile\n",
        "    pe = pefile.PE(exe_file_path)\n",
        "\n",
        "    # Extract characteristics\n",
        "    features['Characteristics'] = pe.FILE_HEADER.Characteristics\n",
        "\n",
        "    # Extract linker version\n",
        "    features['MajorLinkerVersion'] = pe.OPTIONAL_HEADER.MajorLinkerVersion\n",
        "    features['MinorLinkerVersion'] = pe.OPTIONAL_HEADER.MinorLinkerVersion\n",
        "\n",
        "    # Extract sizes of code, initialized data, uninitialized data\n",
        "    features['SizeOfCode'] = pe.OPTIONAL_HEADER.SizeOfCode\n",
        "    features['SizeOfInitializedData'] = pe.OPTIONAL_HEADER.SizeOfInitializedData\n",
        "    features['SizeOfUninitializedData'] = pe.OPTIONAL_HEADER.SizeOfUninitializedData\n",
        "\n",
        "    # Extract resource information\n",
        "    resources = pe.DIRECTORY_ENTRY_RESOURCE\n",
        "    features['ResourcesNb'] = len(resources.entries)\n",
        "    if features['ResourcesNb'] > 0:\n",
        "        entropy_values = []\n",
        "        sizes = []\n",
        "        for entry in resources.entries:\n",
        "            if entry.directory:\n",
        "                for e in entry.directory.entries:\n",
        "                    if hasattr(e, 'data'):\n",
        "                        entropy_values.append(calculate_entropy(e.data))\n",
        "                        sizes.append(len(e.data))\n",
        "        if entropy_values:\n",
        "            features['ResourcesMeanEntropy'] = sum(entropy_values) / len(entropy_values)\n",
        "            features['ResourcesMinEntropy'] = min(entropy_values)\n",
        "            features['ResourcesMaxEntropy'] = max(entropy_values)\n",
        "        if sizes:\n",
        "            features['ResourcesMeanSize'] = sum(sizes) / len(sizes)\n",
        "            features['ResourcesMinSize'] = min(sizes)\n",
        "            features['ResourcesMaxSize'] = max(sizes)\n",
        "\n",
        "    # Extract load configuration size\n",
        "    features['LoadConfigurationSize'] = pe.OPTIONAL_HEADER.DATA_DIRECTORY[pefile.DIRECTORY_ENTRY['IMAGE_DIRECTORY_ENTRY_LOAD_CONFIG']].Size\n",
        "\n",
        "    # Extract version information size\n",
        "    #version_info = pe.VS_FIXEDFILEINFO\n",
        "    #if version_info:\n",
        "        # Since version_info is a list, you may need to access its elements\n",
        "        #for info in version_info:\n",
        "            # Accessing the version information size\n",
        "            #features['VersionInformationSize'] = info.dwFileFlags\n",
        "\n",
        "    return features\n",
        "\n",
        "# Example usage\n",
        "exe_file_path = '/content/drive/MyDrive/transmac-15.2-installer_R-mJEN1.exe'\n",
        "extracted_features = extract_features(exe_file_path)\n",
        "print(extracted_features)\n",
        "extracted_features"
      ]
    },
    {
      "cell_type": "code",
      "source": [
        "def calculate_entropy(data):\n",
        "    # Calculate entropy of data\n",
        "    if not data:\n",
        "        return 0.0\n",
        "    entropy = 0\n",
        "    for x in range(1000):\n",
        "        p_x = float(data.count(x)) / len(data)\n",
        "        if p_x > 0:\n",
        "            entropy += - p_x * math.log(p_x, 2)\n",
        "    return entropy\n",
        "\n",
        "def extract_resource_entropy(exe_file_path):\n",
        "    # Open the PE file using pefile\n",
        "    pe = pefile.PE(exe_file_path)\n",
        "\n",
        "    # Extract resource information\n",
        "    resources = pe.DIRECTORY_ENTRY_RESOURCE\n",
        "    if not resources:\n",
        "        return None, None, None  # No resources found\n",
        "\n",
        "    entropy_values = []\n",
        "    for entry in resources.entries:\n",
        "        if entry.directory:\n",
        "            for e in entry.directory.entries:\n",
        "                if hasattr(e, 'data'):\n",
        "                    entropy_values.append(calculate_entropy(e.data))\n",
        "\n",
        "    if not entropy_values:\n",
        "        return None, None, None  # No entropy values found\n",
        "\n",
        "    mean_entropy = sum(entropy_values) / len(entropy_values)\n",
        "    min_entropy = min(entropy_values)\n",
        "    max_entropy = max(entropy_values)\n",
        "\n",
        "    return mean_entropy, min_entropy, max_entropy\n",
        "\n",
        "# Example usage\n",
        "exe_file_path = '/content/drive/MyDrive/transmac-15.2-installer_R-mJEN1.exe'\n",
        "mean_entropy, min_entropy, max_entropy = extract_resource_entropy(exe_file_path)\n",
        "print(\"Mean Entropy:\", mean_entropy)\n",
        "print(\"Min Entropy:\", min_entropy)\n",
        "print(\"Max Entropy:\", max_entropy)"
      ],
      "metadata": {
        "colab": {
          "base_uri": "https://localhost:8080/"
        },
        "id": "EsiohXIkmE2g",
        "outputId": "0dff5388-3fb5-4ff2-965c-e45d13f0d080"
      },
      "execution_count": 4,
      "outputs": [
        {
          "output_type": "stream",
          "name": "stdout",
          "text": [
            "Mean Entropy: None\n",
            "Min Entropy: None\n",
            "Max Entropy: None\n"
          ]
        }
      ]
    },
    {
      "cell_type": "code",
      "source": [
        "#import pefile\n",
        "\n",
        "# Open the PE file using pefile\n",
        "pe = pefile.PE('/content/drive/MyDrive/transmac-15.2-installer_R-mJEN1.exe')\n",
        "\n",
        "# Extract version information\n",
        "version_info = pe.VS_FIXEDFILEINFO\n",
        "if version_info:\n",
        "    for info in version_info:\n",
        "        print(dir(info))  # Print all attributes of the info object\n"
      ],
      "metadata": {
        "colab": {
          "base_uri": "https://localhost:8080/"
        },
        "id": "hAvDHziYfShP",
        "outputId": "ba581420-1a45-47c5-c55d-cc8c11c101be"
      },
      "execution_count": 5,
      "outputs": [
        {
          "output_type": "stream",
          "name": "stdout",
          "text": [
            "['FileDateLS', 'FileDateMS', 'FileFlags', 'FileFlagsMask', 'FileOS', 'FileSubtype', 'FileType', 'FileVersionLS', 'FileVersionMS', 'ProductVersionLS', 'ProductVersionMS', 'Signature', 'StrucVersion', '__all_zeroes__', '__class__', '__delattr__', '__dict__', '__dir__', '__doc__', '__eq__', '__field_offsets__', '__file_offset__', '__format__', '__format_length__', '__format_str__', '__ge__', '__get_format__', '__getattribute__', '__gt__', '__hash__', '__init__', '__init_subclass__', '__keys__', '__le__', '__lt__', '__module__', '__ne__', '__new__', '__pack__', '__reduce__', '__reduce_ex__', '__repr__', '__setattr__', '__sizeof__', '__str__', '__subclasshook__', '__unpack__', '__unpacked_data_elms__', '__weakref__', 'all_zeroes', 'dump', 'dump_dict', 'get_field_absolute_offset', 'get_field_relative_offset', 'get_file_offset', 'name', 'set_file_offset', 'sizeof']\n"
          ]
        }
      ]
    },
    {
      "cell_type": "code",
      "source": [
        "import math\n",
        "\n",
        "def calculate_entropy(file_path, block_size=65536):\n",
        "    # Initialize a dictionary to count the occurrences of each byte\n",
        "    byte_count = {}\n",
        "\n",
        "    # Initialize the total byte count\n",
        "    total_bytes = 0\n",
        "\n",
        "    # Open the file in binary mode\n",
        "    with open(file_path, 'rb') as file:\n",
        "        while True:\n",
        "            # Read a block of bytes from the file\n",
        "            block = file.read(block_size)\n",
        "            if not block:\n",
        "                break  # Reached end of file\n",
        "\n",
        "            # Update the total byte count\n",
        "            total_bytes += len(block)\n",
        "\n",
        "            # Count the occurrences of each byte in the block\n",
        "            for byte in block:\n",
        "                byte_count[byte] = byte_count.get(byte, 0) + 1\n",
        "\n",
        "    # Calculate the entropy\n",
        "    entropy = 0\n",
        "    for count in byte_count.values():\n",
        "        probability = count / total_bytes\n",
        "        entropy -= probability * math.log2(probability)\n",
        "\n",
        "    return entropy\n",
        "\n",
        "# Example usage\n",
        "exe_file_path = '/content/drive/MyDrive/transmac-15.2-installer_R-mJEN1.exe'\n",
        "entropy = calculate_entropy(exe_file_path)\n",
        "print(\"Entropy:\", entropy)\n"
      ],
      "metadata": {
        "colab": {
          "base_uri": "https://localhost:8080/"
        },
        "id": "2FCe1DFVfTIb",
        "outputId": "b9e4e9fa-ec4c-434f-f4ee-dcddcd1dbad8"
      },
      "execution_count": 6,
      "outputs": [
        {
          "output_type": "stream",
          "name": "stdout",
          "text": [
            "Entropy: 7.462433609731889\n"
          ]
        }
      ]
    },
    {
      "cell_type": "code",
      "source": [
        "from google.colab import drive\n",
        "drive.mount('/content/drive')"
      ],
      "metadata": {
        "id": "VZe7m8rVuDqc",
        "colab": {
          "base_uri": "https://localhost:8080/"
        },
        "outputId": "5ee9e726-c830-4fe9-c909-f9b7530f6f87"
      },
      "execution_count": 7,
      "outputs": [
        {
          "output_type": "stream",
          "name": "stdout",
          "text": [
            "Drive already mounted at /content/drive; to attempt to forcibly remount, call drive.mount(\"/content/drive\", force_remount=True).\n"
          ]
        }
      ]
    },
    {
      "cell_type": "code",
      "source": [
        "import pandas as pd\n",
        "import numpy as np"
      ],
      "metadata": {
        "id": "OpvPDgnBy9ge"
      },
      "execution_count": 8,
      "outputs": []
    },
    {
      "cell_type": "code",
      "source": [
        "data = pd.read_csv(\"/content/drive/MyDrive/Ransomware final.csv\")"
      ],
      "metadata": {
        "id": "NiSm95k4yzEe"
      },
      "execution_count": 9,
      "outputs": []
    },
    {
      "cell_type": "code",
      "source": [
        "data.head()"
      ],
      "metadata": {
        "colab": {
          "base_uri": "https://localhost:8080/",
          "height": 256
        },
        "id": "Rk6S5pEfzG99",
        "outputId": "214f226b-d305-4f7d-bdea-3f5f3dc6028b"
      },
      "execution_count": 10,
      "outputs": [
        {
          "output_type": "execute_result",
          "data": {
            "text/plain": [
              "           Name                               md5  Machine  \\\n",
              "0   memtest.exe  631ea355665f28d4707448e442fbf5b8      332   \n",
              "1       ose.exe  9d10f99a6712e28f8acd5641e3a7ea6b      332   \n",
              "2     setup.exe  4d92f518527353c0db88a70fddcfd390      332   \n",
              "3      DW20.EXE  a41e524f8d45f0074fd07805ff0c9b12      332   \n",
              "4  dwtrig20.exe  c87e561258f2f8650cef999bf643a731      332   \n",
              "\n",
              "   SizeOfOptionalHeader  Characteristics  MajorLinkerVersion  \\\n",
              "0                   224              258                   9   \n",
              "1                   224             3330                   9   \n",
              "2                   224             3330                   9   \n",
              "3                   224              258                   9   \n",
              "4                   224              258                   9   \n",
              "\n",
              "   MinorLinkerVersion  SizeOfCode  SizeOfInitializedData  \\\n",
              "0                   0      361984                 115712   \n",
              "1                   0      130560                  19968   \n",
              "2                   0      517120                 621568   \n",
              "3                   0      585728                 369152   \n",
              "4                   0      294912                 247296   \n",
              "\n",
              "   SizeOfUninitializedData  ...  ResourcesNb  ResourcesMeanEntropy  \\\n",
              "0                        0  ...            4              3.262823   \n",
              "1                        0  ...            2              4.250461   \n",
              "2                        0  ...           11              4.426324   \n",
              "3                        0  ...           10              4.364291   \n",
              "4                        0  ...            2              4.306100   \n",
              "\n",
              "   ResourcesMinEntropy  ResourcesMaxEntropy  ResourcesMeanSize  \\\n",
              "0             2.568844             3.537939         8797.00000   \n",
              "1             3.420744             5.080177          837.00000   \n",
              "2             2.846449             5.271813        31102.27273   \n",
              "3             2.669314             6.400720         1457.00000   \n",
              "4             3.421598             5.190603         1074.50000   \n",
              "\n",
              "   ResourcesMinSize  ResourcesMaxSize  LoadConfigurationSize  \\\n",
              "0               216             18032                      0   \n",
              "1               518              1156                     72   \n",
              "2               104            270376                     72   \n",
              "3                90              4264                     72   \n",
              "4               849              1300                     72   \n",
              "\n",
              "   VersionInformationSize  legitimate  \n",
              "0                      16           1  \n",
              "1                      18           1  \n",
              "2                      18           1  \n",
              "3                      18           1  \n",
              "4                      18           1  \n",
              "\n",
              "[5 rows x 57 columns]"
            ],
            "text/html": [
              "\n",
              "  <div id=\"df-6da175af-1209-4dde-bc4c-05338e80e23d\" class=\"colab-df-container\">\n",
              "    <div>\n",
              "<style scoped>\n",
              "    .dataframe tbody tr th:only-of-type {\n",
              "        vertical-align: middle;\n",
              "    }\n",
              "\n",
              "    .dataframe tbody tr th {\n",
              "        vertical-align: top;\n",
              "    }\n",
              "\n",
              "    .dataframe thead th {\n",
              "        text-align: right;\n",
              "    }\n",
              "</style>\n",
              "<table border=\"1\" class=\"dataframe\">\n",
              "  <thead>\n",
              "    <tr style=\"text-align: right;\">\n",
              "      <th></th>\n",
              "      <th>Name</th>\n",
              "      <th>md5</th>\n",
              "      <th>Machine</th>\n",
              "      <th>SizeOfOptionalHeader</th>\n",
              "      <th>Characteristics</th>\n",
              "      <th>MajorLinkerVersion</th>\n",
              "      <th>MinorLinkerVersion</th>\n",
              "      <th>SizeOfCode</th>\n",
              "      <th>SizeOfInitializedData</th>\n",
              "      <th>SizeOfUninitializedData</th>\n",
              "      <th>...</th>\n",
              "      <th>ResourcesNb</th>\n",
              "      <th>ResourcesMeanEntropy</th>\n",
              "      <th>ResourcesMinEntropy</th>\n",
              "      <th>ResourcesMaxEntropy</th>\n",
              "      <th>ResourcesMeanSize</th>\n",
              "      <th>ResourcesMinSize</th>\n",
              "      <th>ResourcesMaxSize</th>\n",
              "      <th>LoadConfigurationSize</th>\n",
              "      <th>VersionInformationSize</th>\n",
              "      <th>legitimate</th>\n",
              "    </tr>\n",
              "  </thead>\n",
              "  <tbody>\n",
              "    <tr>\n",
              "      <th>0</th>\n",
              "      <td>memtest.exe</td>\n",
              "      <td>631ea355665f28d4707448e442fbf5b8</td>\n",
              "      <td>332</td>\n",
              "      <td>224</td>\n",
              "      <td>258</td>\n",
              "      <td>9</td>\n",
              "      <td>0</td>\n",
              "      <td>361984</td>\n",
              "      <td>115712</td>\n",
              "      <td>0</td>\n",
              "      <td>...</td>\n",
              "      <td>4</td>\n",
              "      <td>3.262823</td>\n",
              "      <td>2.568844</td>\n",
              "      <td>3.537939</td>\n",
              "      <td>8797.00000</td>\n",
              "      <td>216</td>\n",
              "      <td>18032</td>\n",
              "      <td>0</td>\n",
              "      <td>16</td>\n",
              "      <td>1</td>\n",
              "    </tr>\n",
              "    <tr>\n",
              "      <th>1</th>\n",
              "      <td>ose.exe</td>\n",
              "      <td>9d10f99a6712e28f8acd5641e3a7ea6b</td>\n",
              "      <td>332</td>\n",
              "      <td>224</td>\n",
              "      <td>3330</td>\n",
              "      <td>9</td>\n",
              "      <td>0</td>\n",
              "      <td>130560</td>\n",
              "      <td>19968</td>\n",
              "      <td>0</td>\n",
              "      <td>...</td>\n",
              "      <td>2</td>\n",
              "      <td>4.250461</td>\n",
              "      <td>3.420744</td>\n",
              "      <td>5.080177</td>\n",
              "      <td>837.00000</td>\n",
              "      <td>518</td>\n",
              "      <td>1156</td>\n",
              "      <td>72</td>\n",
              "      <td>18</td>\n",
              "      <td>1</td>\n",
              "    </tr>\n",
              "    <tr>\n",
              "      <th>2</th>\n",
              "      <td>setup.exe</td>\n",
              "      <td>4d92f518527353c0db88a70fddcfd390</td>\n",
              "      <td>332</td>\n",
              "      <td>224</td>\n",
              "      <td>3330</td>\n",
              "      <td>9</td>\n",
              "      <td>0</td>\n",
              "      <td>517120</td>\n",
              "      <td>621568</td>\n",
              "      <td>0</td>\n",
              "      <td>...</td>\n",
              "      <td>11</td>\n",
              "      <td>4.426324</td>\n",
              "      <td>2.846449</td>\n",
              "      <td>5.271813</td>\n",
              "      <td>31102.27273</td>\n",
              "      <td>104</td>\n",
              "      <td>270376</td>\n",
              "      <td>72</td>\n",
              "      <td>18</td>\n",
              "      <td>1</td>\n",
              "    </tr>\n",
              "    <tr>\n",
              "      <th>3</th>\n",
              "      <td>DW20.EXE</td>\n",
              "      <td>a41e524f8d45f0074fd07805ff0c9b12</td>\n",
              "      <td>332</td>\n",
              "      <td>224</td>\n",
              "      <td>258</td>\n",
              "      <td>9</td>\n",
              "      <td>0</td>\n",
              "      <td>585728</td>\n",
              "      <td>369152</td>\n",
              "      <td>0</td>\n",
              "      <td>...</td>\n",
              "      <td>10</td>\n",
              "      <td>4.364291</td>\n",
              "      <td>2.669314</td>\n",
              "      <td>6.400720</td>\n",
              "      <td>1457.00000</td>\n",
              "      <td>90</td>\n",
              "      <td>4264</td>\n",
              "      <td>72</td>\n",
              "      <td>18</td>\n",
              "      <td>1</td>\n",
              "    </tr>\n",
              "    <tr>\n",
              "      <th>4</th>\n",
              "      <td>dwtrig20.exe</td>\n",
              "      <td>c87e561258f2f8650cef999bf643a731</td>\n",
              "      <td>332</td>\n",
              "      <td>224</td>\n",
              "      <td>258</td>\n",
              "      <td>9</td>\n",
              "      <td>0</td>\n",
              "      <td>294912</td>\n",
              "      <td>247296</td>\n",
              "      <td>0</td>\n",
              "      <td>...</td>\n",
              "      <td>2</td>\n",
              "      <td>4.306100</td>\n",
              "      <td>3.421598</td>\n",
              "      <td>5.190603</td>\n",
              "      <td>1074.50000</td>\n",
              "      <td>849</td>\n",
              "      <td>1300</td>\n",
              "      <td>72</td>\n",
              "      <td>18</td>\n",
              "      <td>1</td>\n",
              "    </tr>\n",
              "  </tbody>\n",
              "</table>\n",
              "<p>5 rows × 57 columns</p>\n",
              "</div>\n",
              "    <div class=\"colab-df-buttons\">\n",
              "\n",
              "  <div class=\"colab-df-container\">\n",
              "    <button class=\"colab-df-convert\" onclick=\"convertToInteractive('df-6da175af-1209-4dde-bc4c-05338e80e23d')\"\n",
              "            title=\"Convert this dataframe to an interactive table.\"\n",
              "            style=\"display:none;\">\n",
              "\n",
              "  <svg xmlns=\"http://www.w3.org/2000/svg\" height=\"24px\" viewBox=\"0 -960 960 960\">\n",
              "    <path d=\"M120-120v-720h720v720H120Zm60-500h600v-160H180v160Zm220 220h160v-160H400v160Zm0 220h160v-160H400v160ZM180-400h160v-160H180v160Zm440 0h160v-160H620v160ZM180-180h160v-160H180v160Zm440 0h160v-160H620v160Z\"/>\n",
              "  </svg>\n",
              "    </button>\n",
              "\n",
              "  <style>\n",
              "    .colab-df-container {\n",
              "      display:flex;\n",
              "      gap: 12px;\n",
              "    }\n",
              "\n",
              "    .colab-df-convert {\n",
              "      background-color: #E8F0FE;\n",
              "      border: none;\n",
              "      border-radius: 50%;\n",
              "      cursor: pointer;\n",
              "      display: none;\n",
              "      fill: #1967D2;\n",
              "      height: 32px;\n",
              "      padding: 0 0 0 0;\n",
              "      width: 32px;\n",
              "    }\n",
              "\n",
              "    .colab-df-convert:hover {\n",
              "      background-color: #E2EBFA;\n",
              "      box-shadow: 0px 1px 2px rgba(60, 64, 67, 0.3), 0px 1px 3px 1px rgba(60, 64, 67, 0.15);\n",
              "      fill: #174EA6;\n",
              "    }\n",
              "\n",
              "    .colab-df-buttons div {\n",
              "      margin-bottom: 4px;\n",
              "    }\n",
              "\n",
              "    [theme=dark] .colab-df-convert {\n",
              "      background-color: #3B4455;\n",
              "      fill: #D2E3FC;\n",
              "    }\n",
              "\n",
              "    [theme=dark] .colab-df-convert:hover {\n",
              "      background-color: #434B5C;\n",
              "      box-shadow: 0px 1px 3px 1px rgba(0, 0, 0, 0.15);\n",
              "      filter: drop-shadow(0px 1px 2px rgba(0, 0, 0, 0.3));\n",
              "      fill: #FFFFFF;\n",
              "    }\n",
              "  </style>\n",
              "\n",
              "    <script>\n",
              "      const buttonEl =\n",
              "        document.querySelector('#df-6da175af-1209-4dde-bc4c-05338e80e23d button.colab-df-convert');\n",
              "      buttonEl.style.display =\n",
              "        google.colab.kernel.accessAllowed ? 'block' : 'none';\n",
              "\n",
              "      async function convertToInteractive(key) {\n",
              "        const element = document.querySelector('#df-6da175af-1209-4dde-bc4c-05338e80e23d');\n",
              "        const dataTable =\n",
              "          await google.colab.kernel.invokeFunction('convertToInteractive',\n",
              "                                                    [key], {});\n",
              "        if (!dataTable) return;\n",
              "\n",
              "        const docLinkHtml = 'Like what you see? Visit the ' +\n",
              "          '<a target=\"_blank\" href=https://colab.research.google.com/notebooks/data_table.ipynb>data table notebook</a>'\n",
              "          + ' to learn more about interactive tables.';\n",
              "        element.innerHTML = '';\n",
              "        dataTable['output_type'] = 'display_data';\n",
              "        await google.colab.output.renderOutput(dataTable, element);\n",
              "        const docLink = document.createElement('div');\n",
              "        docLink.innerHTML = docLinkHtml;\n",
              "        element.appendChild(docLink);\n",
              "      }\n",
              "    </script>\n",
              "  </div>\n",
              "\n",
              "\n",
              "<div id=\"df-deebc6c9-35e5-400e-a094-aa127bba38c9\">\n",
              "  <button class=\"colab-df-quickchart\" onclick=\"quickchart('df-deebc6c9-35e5-400e-a094-aa127bba38c9')\"\n",
              "            title=\"Suggest charts\"\n",
              "            style=\"display:none;\">\n",
              "\n",
              "<svg xmlns=\"http://www.w3.org/2000/svg\" height=\"24px\"viewBox=\"0 0 24 24\"\n",
              "     width=\"24px\">\n",
              "    <g>\n",
              "        <path d=\"M19 3H5c-1.1 0-2 .9-2 2v14c0 1.1.9 2 2 2h14c1.1 0 2-.9 2-2V5c0-1.1-.9-2-2-2zM9 17H7v-7h2v7zm4 0h-2V7h2v10zm4 0h-2v-4h2v4z\"/>\n",
              "    </g>\n",
              "</svg>\n",
              "  </button>\n",
              "\n",
              "<style>\n",
              "  .colab-df-quickchart {\n",
              "      --bg-color: #E8F0FE;\n",
              "      --fill-color: #1967D2;\n",
              "      --hover-bg-color: #E2EBFA;\n",
              "      --hover-fill-color: #174EA6;\n",
              "      --disabled-fill-color: #AAA;\n",
              "      --disabled-bg-color: #DDD;\n",
              "  }\n",
              "\n",
              "  [theme=dark] .colab-df-quickchart {\n",
              "      --bg-color: #3B4455;\n",
              "      --fill-color: #D2E3FC;\n",
              "      --hover-bg-color: #434B5C;\n",
              "      --hover-fill-color: #FFFFFF;\n",
              "      --disabled-bg-color: #3B4455;\n",
              "      --disabled-fill-color: #666;\n",
              "  }\n",
              "\n",
              "  .colab-df-quickchart {\n",
              "    background-color: var(--bg-color);\n",
              "    border: none;\n",
              "    border-radius: 50%;\n",
              "    cursor: pointer;\n",
              "    display: none;\n",
              "    fill: var(--fill-color);\n",
              "    height: 32px;\n",
              "    padding: 0;\n",
              "    width: 32px;\n",
              "  }\n",
              "\n",
              "  .colab-df-quickchart:hover {\n",
              "    background-color: var(--hover-bg-color);\n",
              "    box-shadow: 0 1px 2px rgba(60, 64, 67, 0.3), 0 1px 3px 1px rgba(60, 64, 67, 0.15);\n",
              "    fill: var(--button-hover-fill-color);\n",
              "  }\n",
              "\n",
              "  .colab-df-quickchart-complete:disabled,\n",
              "  .colab-df-quickchart-complete:disabled:hover {\n",
              "    background-color: var(--disabled-bg-color);\n",
              "    fill: var(--disabled-fill-color);\n",
              "    box-shadow: none;\n",
              "  }\n",
              "\n",
              "  .colab-df-spinner {\n",
              "    border: 2px solid var(--fill-color);\n",
              "    border-color: transparent;\n",
              "    border-bottom-color: var(--fill-color);\n",
              "    animation:\n",
              "      spin 1s steps(1) infinite;\n",
              "  }\n",
              "\n",
              "  @keyframes spin {\n",
              "    0% {\n",
              "      border-color: transparent;\n",
              "      border-bottom-color: var(--fill-color);\n",
              "      border-left-color: var(--fill-color);\n",
              "    }\n",
              "    20% {\n",
              "      border-color: transparent;\n",
              "      border-left-color: var(--fill-color);\n",
              "      border-top-color: var(--fill-color);\n",
              "    }\n",
              "    30% {\n",
              "      border-color: transparent;\n",
              "      border-left-color: var(--fill-color);\n",
              "      border-top-color: var(--fill-color);\n",
              "      border-right-color: var(--fill-color);\n",
              "    }\n",
              "    40% {\n",
              "      border-color: transparent;\n",
              "      border-right-color: var(--fill-color);\n",
              "      border-top-color: var(--fill-color);\n",
              "    }\n",
              "    60% {\n",
              "      border-color: transparent;\n",
              "      border-right-color: var(--fill-color);\n",
              "    }\n",
              "    80% {\n",
              "      border-color: transparent;\n",
              "      border-right-color: var(--fill-color);\n",
              "      border-bottom-color: var(--fill-color);\n",
              "    }\n",
              "    90% {\n",
              "      border-color: transparent;\n",
              "      border-bottom-color: var(--fill-color);\n",
              "    }\n",
              "  }\n",
              "</style>\n",
              "\n",
              "  <script>\n",
              "    async function quickchart(key) {\n",
              "      const quickchartButtonEl =\n",
              "        document.querySelector('#' + key + ' button');\n",
              "      quickchartButtonEl.disabled = true;  // To prevent multiple clicks.\n",
              "      quickchartButtonEl.classList.add('colab-df-spinner');\n",
              "      try {\n",
              "        const charts = await google.colab.kernel.invokeFunction(\n",
              "            'suggestCharts', [key], {});\n",
              "      } catch (error) {\n",
              "        console.error('Error during call to suggestCharts:', error);\n",
              "      }\n",
              "      quickchartButtonEl.classList.remove('colab-df-spinner');\n",
              "      quickchartButtonEl.classList.add('colab-df-quickchart-complete');\n",
              "    }\n",
              "    (() => {\n",
              "      let quickchartButtonEl =\n",
              "        document.querySelector('#df-deebc6c9-35e5-400e-a094-aa127bba38c9 button');\n",
              "      quickchartButtonEl.style.display =\n",
              "        google.colab.kernel.accessAllowed ? 'block' : 'none';\n",
              "    })();\n",
              "  </script>\n",
              "</div>\n",
              "\n",
              "    </div>\n",
              "  </div>\n"
            ],
            "application/vnd.google.colaboratory.intrinsic+json": {
              "type": "dataframe",
              "variable_name": "data"
            }
          },
          "metadata": {},
          "execution_count": 10
        }
      ]
    },
    {
      "cell_type": "code",
      "source": [
        "data.columns"
      ],
      "metadata": {
        "colab": {
          "base_uri": "https://localhost:8080/"
        },
        "id": "NCaWBBCizIjG",
        "outputId": "bccfc86b-231f-463e-d4e4-6ac6cd208d0b"
      },
      "execution_count": 11,
      "outputs": [
        {
          "output_type": "execute_result",
          "data": {
            "text/plain": [
              "Index(['Name', 'md5', 'Machine', 'SizeOfOptionalHeader', 'Characteristics',\n",
              "       'MajorLinkerVersion', 'MinorLinkerVersion', 'SizeOfCode',\n",
              "       'SizeOfInitializedData', 'SizeOfUninitializedData',\n",
              "       'AddressOfEntryPoint', 'BaseOfCode', 'BaseOfData', 'ImageBase',\n",
              "       'SectionAlignment', 'FileAlignment', 'MajorOperatingSystemVersion',\n",
              "       'MinorOperatingSystemVersion', 'MajorImageVersion', 'MinorImageVersion',\n",
              "       'MajorSubsystemVersion', 'MinorSubsystemVersion', 'SizeOfImage',\n",
              "       'SizeOfHeaders', 'CheckSum', 'Subsystem', 'DllCharacteristics',\n",
              "       'SizeOfStackReserve', 'SizeOfStackCommit', 'SizeOfHeapReserve',\n",
              "       'SizeOfHeapCommit', 'LoaderFlags', 'NumberOfRvaAndSizes', 'SectionsNb',\n",
              "       'SectionsMeanEntropy', 'SectionsMinEntropy', 'SectionsMaxEntropy',\n",
              "       'SectionsMeanRawsize', 'SectionsMinRawsize', 'SectionMaxRawsize',\n",
              "       'SectionsMeanVirtualsize', 'SectionsMinVirtualsize',\n",
              "       'SectionMaxVirtualsize', 'ImportsNbDLL', 'ImportsNb',\n",
              "       'ImportsNbOrdinal', 'ExportNb', 'ResourcesNb', 'ResourcesMeanEntropy',\n",
              "       'ResourcesMinEntropy', 'ResourcesMaxEntropy', 'ResourcesMeanSize',\n",
              "       'ResourcesMinSize', 'ResourcesMaxSize', 'LoadConfigurationSize',\n",
              "       'VersionInformationSize', 'legitimate'],\n",
              "      dtype='object')"
            ]
          },
          "metadata": {},
          "execution_count": 11
        }
      ]
    },
    {
      "cell_type": "code",
      "source": [
        "extractable = pd.DataFrame(data[['Characteristics','MajorLinkerVersion',\n",
        " 'MinorLinkerVersion',\n",
        " 'SizeOfCode',\n",
        " 'SizeOfInitializedData',\n",
        " 'SizeOfUninitializedData',\n",
        " 'ResourcesNb',\n",
        " 'LoadConfigurationSize']])"
      ],
      "metadata": {
        "id": "qFrZBaAGzLoP"
      },
      "execution_count": 12,
      "outputs": []
    },
    {
      "cell_type": "code",
      "source": [
        "extractable.head()"
      ],
      "metadata": {
        "colab": {
          "base_uri": "https://localhost:8080/",
          "height": 226
        },
        "id": "DCZ74VixAU6L",
        "outputId": "c99089c3-f685-4468-eca6-e4dce6a22580"
      },
      "execution_count": 13,
      "outputs": [
        {
          "output_type": "execute_result",
          "data": {
            "text/plain": [
              "   Characteristics  MajorLinkerVersion  MinorLinkerVersion  SizeOfCode  \\\n",
              "0              258                   9                   0      361984   \n",
              "1             3330                   9                   0      130560   \n",
              "2             3330                   9                   0      517120   \n",
              "3              258                   9                   0      585728   \n",
              "4              258                   9                   0      294912   \n",
              "\n",
              "   SizeOfInitializedData  SizeOfUninitializedData  ResourcesNb  \\\n",
              "0                 115712                        0            4   \n",
              "1                  19968                        0            2   \n",
              "2                 621568                        0           11   \n",
              "3                 369152                        0           10   \n",
              "4                 247296                        0            2   \n",
              "\n",
              "   LoadConfigurationSize  \n",
              "0                      0  \n",
              "1                     72  \n",
              "2                     72  \n",
              "3                     72  \n",
              "4                     72  "
            ],
            "text/html": [
              "\n",
              "  <div id=\"df-7faf7b8f-cf2f-4c82-a4d8-8aa6bf18b528\" class=\"colab-df-container\">\n",
              "    <div>\n",
              "<style scoped>\n",
              "    .dataframe tbody tr th:only-of-type {\n",
              "        vertical-align: middle;\n",
              "    }\n",
              "\n",
              "    .dataframe tbody tr th {\n",
              "        vertical-align: top;\n",
              "    }\n",
              "\n",
              "    .dataframe thead th {\n",
              "        text-align: right;\n",
              "    }\n",
              "</style>\n",
              "<table border=\"1\" class=\"dataframe\">\n",
              "  <thead>\n",
              "    <tr style=\"text-align: right;\">\n",
              "      <th></th>\n",
              "      <th>Characteristics</th>\n",
              "      <th>MajorLinkerVersion</th>\n",
              "      <th>MinorLinkerVersion</th>\n",
              "      <th>SizeOfCode</th>\n",
              "      <th>SizeOfInitializedData</th>\n",
              "      <th>SizeOfUninitializedData</th>\n",
              "      <th>ResourcesNb</th>\n",
              "      <th>LoadConfigurationSize</th>\n",
              "    </tr>\n",
              "  </thead>\n",
              "  <tbody>\n",
              "    <tr>\n",
              "      <th>0</th>\n",
              "      <td>258</td>\n",
              "      <td>9</td>\n",
              "      <td>0</td>\n",
              "      <td>361984</td>\n",
              "      <td>115712</td>\n",
              "      <td>0</td>\n",
              "      <td>4</td>\n",
              "      <td>0</td>\n",
              "    </tr>\n",
              "    <tr>\n",
              "      <th>1</th>\n",
              "      <td>3330</td>\n",
              "      <td>9</td>\n",
              "      <td>0</td>\n",
              "      <td>130560</td>\n",
              "      <td>19968</td>\n",
              "      <td>0</td>\n",
              "      <td>2</td>\n",
              "      <td>72</td>\n",
              "    </tr>\n",
              "    <tr>\n",
              "      <th>2</th>\n",
              "      <td>3330</td>\n",
              "      <td>9</td>\n",
              "      <td>0</td>\n",
              "      <td>517120</td>\n",
              "      <td>621568</td>\n",
              "      <td>0</td>\n",
              "      <td>11</td>\n",
              "      <td>72</td>\n",
              "    </tr>\n",
              "    <tr>\n",
              "      <th>3</th>\n",
              "      <td>258</td>\n",
              "      <td>9</td>\n",
              "      <td>0</td>\n",
              "      <td>585728</td>\n",
              "      <td>369152</td>\n",
              "      <td>0</td>\n",
              "      <td>10</td>\n",
              "      <td>72</td>\n",
              "    </tr>\n",
              "    <tr>\n",
              "      <th>4</th>\n",
              "      <td>258</td>\n",
              "      <td>9</td>\n",
              "      <td>0</td>\n",
              "      <td>294912</td>\n",
              "      <td>247296</td>\n",
              "      <td>0</td>\n",
              "      <td>2</td>\n",
              "      <td>72</td>\n",
              "    </tr>\n",
              "  </tbody>\n",
              "</table>\n",
              "</div>\n",
              "    <div class=\"colab-df-buttons\">\n",
              "\n",
              "  <div class=\"colab-df-container\">\n",
              "    <button class=\"colab-df-convert\" onclick=\"convertToInteractive('df-7faf7b8f-cf2f-4c82-a4d8-8aa6bf18b528')\"\n",
              "            title=\"Convert this dataframe to an interactive table.\"\n",
              "            style=\"display:none;\">\n",
              "\n",
              "  <svg xmlns=\"http://www.w3.org/2000/svg\" height=\"24px\" viewBox=\"0 -960 960 960\">\n",
              "    <path d=\"M120-120v-720h720v720H120Zm60-500h600v-160H180v160Zm220 220h160v-160H400v160Zm0 220h160v-160H400v160ZM180-400h160v-160H180v160Zm440 0h160v-160H620v160ZM180-180h160v-160H180v160Zm440 0h160v-160H620v160Z\"/>\n",
              "  </svg>\n",
              "    </button>\n",
              "\n",
              "  <style>\n",
              "    .colab-df-container {\n",
              "      display:flex;\n",
              "      gap: 12px;\n",
              "    }\n",
              "\n",
              "    .colab-df-convert {\n",
              "      background-color: #E8F0FE;\n",
              "      border: none;\n",
              "      border-radius: 50%;\n",
              "      cursor: pointer;\n",
              "      display: none;\n",
              "      fill: #1967D2;\n",
              "      height: 32px;\n",
              "      padding: 0 0 0 0;\n",
              "      width: 32px;\n",
              "    }\n",
              "\n",
              "    .colab-df-convert:hover {\n",
              "      background-color: #E2EBFA;\n",
              "      box-shadow: 0px 1px 2px rgba(60, 64, 67, 0.3), 0px 1px 3px 1px rgba(60, 64, 67, 0.15);\n",
              "      fill: #174EA6;\n",
              "    }\n",
              "\n",
              "    .colab-df-buttons div {\n",
              "      margin-bottom: 4px;\n",
              "    }\n",
              "\n",
              "    [theme=dark] .colab-df-convert {\n",
              "      background-color: #3B4455;\n",
              "      fill: #D2E3FC;\n",
              "    }\n",
              "\n",
              "    [theme=dark] .colab-df-convert:hover {\n",
              "      background-color: #434B5C;\n",
              "      box-shadow: 0px 1px 3px 1px rgba(0, 0, 0, 0.15);\n",
              "      filter: drop-shadow(0px 1px 2px rgba(0, 0, 0, 0.3));\n",
              "      fill: #FFFFFF;\n",
              "    }\n",
              "  </style>\n",
              "\n",
              "    <script>\n",
              "      const buttonEl =\n",
              "        document.querySelector('#df-7faf7b8f-cf2f-4c82-a4d8-8aa6bf18b528 button.colab-df-convert');\n",
              "      buttonEl.style.display =\n",
              "        google.colab.kernel.accessAllowed ? 'block' : 'none';\n",
              "\n",
              "      async function convertToInteractive(key) {\n",
              "        const element = document.querySelector('#df-7faf7b8f-cf2f-4c82-a4d8-8aa6bf18b528');\n",
              "        const dataTable =\n",
              "          await google.colab.kernel.invokeFunction('convertToInteractive',\n",
              "                                                    [key], {});\n",
              "        if (!dataTable) return;\n",
              "\n",
              "        const docLinkHtml = 'Like what you see? Visit the ' +\n",
              "          '<a target=\"_blank\" href=https://colab.research.google.com/notebooks/data_table.ipynb>data table notebook</a>'\n",
              "          + ' to learn more about interactive tables.';\n",
              "        element.innerHTML = '';\n",
              "        dataTable['output_type'] = 'display_data';\n",
              "        await google.colab.output.renderOutput(dataTable, element);\n",
              "        const docLink = document.createElement('div');\n",
              "        docLink.innerHTML = docLinkHtml;\n",
              "        element.appendChild(docLink);\n",
              "      }\n",
              "    </script>\n",
              "  </div>\n",
              "\n",
              "\n",
              "<div id=\"df-587dad14-4bee-46ea-b330-f5b976e0e443\">\n",
              "  <button class=\"colab-df-quickchart\" onclick=\"quickchart('df-587dad14-4bee-46ea-b330-f5b976e0e443')\"\n",
              "            title=\"Suggest charts\"\n",
              "            style=\"display:none;\">\n",
              "\n",
              "<svg xmlns=\"http://www.w3.org/2000/svg\" height=\"24px\"viewBox=\"0 0 24 24\"\n",
              "     width=\"24px\">\n",
              "    <g>\n",
              "        <path d=\"M19 3H5c-1.1 0-2 .9-2 2v14c0 1.1.9 2 2 2h14c1.1 0 2-.9 2-2V5c0-1.1-.9-2-2-2zM9 17H7v-7h2v7zm4 0h-2V7h2v10zm4 0h-2v-4h2v4z\"/>\n",
              "    </g>\n",
              "</svg>\n",
              "  </button>\n",
              "\n",
              "<style>\n",
              "  .colab-df-quickchart {\n",
              "      --bg-color: #E8F0FE;\n",
              "      --fill-color: #1967D2;\n",
              "      --hover-bg-color: #E2EBFA;\n",
              "      --hover-fill-color: #174EA6;\n",
              "      --disabled-fill-color: #AAA;\n",
              "      --disabled-bg-color: #DDD;\n",
              "  }\n",
              "\n",
              "  [theme=dark] .colab-df-quickchart {\n",
              "      --bg-color: #3B4455;\n",
              "      --fill-color: #D2E3FC;\n",
              "      --hover-bg-color: #434B5C;\n",
              "      --hover-fill-color: #FFFFFF;\n",
              "      --disabled-bg-color: #3B4455;\n",
              "      --disabled-fill-color: #666;\n",
              "  }\n",
              "\n",
              "  .colab-df-quickchart {\n",
              "    background-color: var(--bg-color);\n",
              "    border: none;\n",
              "    border-radius: 50%;\n",
              "    cursor: pointer;\n",
              "    display: none;\n",
              "    fill: var(--fill-color);\n",
              "    height: 32px;\n",
              "    padding: 0;\n",
              "    width: 32px;\n",
              "  }\n",
              "\n",
              "  .colab-df-quickchart:hover {\n",
              "    background-color: var(--hover-bg-color);\n",
              "    box-shadow: 0 1px 2px rgba(60, 64, 67, 0.3), 0 1px 3px 1px rgba(60, 64, 67, 0.15);\n",
              "    fill: var(--button-hover-fill-color);\n",
              "  }\n",
              "\n",
              "  .colab-df-quickchart-complete:disabled,\n",
              "  .colab-df-quickchart-complete:disabled:hover {\n",
              "    background-color: var(--disabled-bg-color);\n",
              "    fill: var(--disabled-fill-color);\n",
              "    box-shadow: none;\n",
              "  }\n",
              "\n",
              "  .colab-df-spinner {\n",
              "    border: 2px solid var(--fill-color);\n",
              "    border-color: transparent;\n",
              "    border-bottom-color: var(--fill-color);\n",
              "    animation:\n",
              "      spin 1s steps(1) infinite;\n",
              "  }\n",
              "\n",
              "  @keyframes spin {\n",
              "    0% {\n",
              "      border-color: transparent;\n",
              "      border-bottom-color: var(--fill-color);\n",
              "      border-left-color: var(--fill-color);\n",
              "    }\n",
              "    20% {\n",
              "      border-color: transparent;\n",
              "      border-left-color: var(--fill-color);\n",
              "      border-top-color: var(--fill-color);\n",
              "    }\n",
              "    30% {\n",
              "      border-color: transparent;\n",
              "      border-left-color: var(--fill-color);\n",
              "      border-top-color: var(--fill-color);\n",
              "      border-right-color: var(--fill-color);\n",
              "    }\n",
              "    40% {\n",
              "      border-color: transparent;\n",
              "      border-right-color: var(--fill-color);\n",
              "      border-top-color: var(--fill-color);\n",
              "    }\n",
              "    60% {\n",
              "      border-color: transparent;\n",
              "      border-right-color: var(--fill-color);\n",
              "    }\n",
              "    80% {\n",
              "      border-color: transparent;\n",
              "      border-right-color: var(--fill-color);\n",
              "      border-bottom-color: var(--fill-color);\n",
              "    }\n",
              "    90% {\n",
              "      border-color: transparent;\n",
              "      border-bottom-color: var(--fill-color);\n",
              "    }\n",
              "  }\n",
              "</style>\n",
              "\n",
              "  <script>\n",
              "    async function quickchart(key) {\n",
              "      const quickchartButtonEl =\n",
              "        document.querySelector('#' + key + ' button');\n",
              "      quickchartButtonEl.disabled = true;  // To prevent multiple clicks.\n",
              "      quickchartButtonEl.classList.add('colab-df-spinner');\n",
              "      try {\n",
              "        const charts = await google.colab.kernel.invokeFunction(\n",
              "            'suggestCharts', [key], {});\n",
              "      } catch (error) {\n",
              "        console.error('Error during call to suggestCharts:', error);\n",
              "      }\n",
              "      quickchartButtonEl.classList.remove('colab-df-spinner');\n",
              "      quickchartButtonEl.classList.add('colab-df-quickchart-complete');\n",
              "    }\n",
              "    (() => {\n",
              "      let quickchartButtonEl =\n",
              "        document.querySelector('#df-587dad14-4bee-46ea-b330-f5b976e0e443 button');\n",
              "      quickchartButtonEl.style.display =\n",
              "        google.colab.kernel.accessAllowed ? 'block' : 'none';\n",
              "    })();\n",
              "  </script>\n",
              "</div>\n",
              "\n",
              "    </div>\n",
              "  </div>\n"
            ],
            "application/vnd.google.colaboratory.intrinsic+json": {
              "type": "dataframe",
              "variable_name": "extractable"
            }
          },
          "metadata": {},
          "execution_count": 13
        }
      ]
    },
    {
      "cell_type": "code",
      "source": [
        "extractable.isnull().sum()"
      ],
      "metadata": {
        "colab": {
          "base_uri": "https://localhost:8080/"
        },
        "id": "JmgdTJUbAkPK",
        "outputId": "004fdf79-c399-4c45-9679-5e4b7b0d6a9a"
      },
      "execution_count": 14,
      "outputs": [
        {
          "output_type": "execute_result",
          "data": {
            "text/plain": [
              "Characteristics            0\n",
              "MajorLinkerVersion         0\n",
              "MinorLinkerVersion         0\n",
              "SizeOfCode                 0\n",
              "SizeOfInitializedData      0\n",
              "SizeOfUninitializedData    0\n",
              "ResourcesNb                0\n",
              "LoadConfigurationSize      0\n",
              "dtype: int64"
            ]
          },
          "metadata": {},
          "execution_count": 14
        }
      ]
    },
    {
      "cell_type": "code",
      "source": [
        "entropy_data = pd.DataFrame(data[['ResourcesMeanEntropy','ResourcesMinEntropy', 'ResourcesMaxEntropy']])"
      ],
      "metadata": {
        "id": "QLbBN1r9Comx"
      },
      "execution_count": 15,
      "outputs": []
    },
    {
      "cell_type": "code",
      "source": [
        "entropy_data.isnull().sum()"
      ],
      "metadata": {
        "colab": {
          "base_uri": "https://localhost:8080/"
        },
        "id": "fj0SxUtVF9tW",
        "outputId": "31d376ff-403d-4547-ba0f-23f70c838185"
      },
      "execution_count": 16,
      "outputs": [
        {
          "output_type": "execute_result",
          "data": {
            "text/plain": [
              "ResourcesMeanEntropy    0\n",
              "ResourcesMinEntropy     0\n",
              "ResourcesMaxEntropy     0\n",
              "dtype: int64"
            ]
          },
          "metadata": {},
          "execution_count": 16
        }
      ]
    },
    {
      "cell_type": "code",
      "source": [
        "import pandas as pd\n",
        "import numpy as np\n",
        "\n",
        "# Assuming 'data' is your original DataFrame containing the columns 'ResourcesMeanEntropy', 'ResourcesMinEntropy', and 'ResourcesMaxEntropy'\n",
        "entropy_data = pd.DataFrame(data[['ResourcesMeanEntropy','ResourcesMinEntropy', 'ResourcesMaxEntropy']])\n",
        "\n",
        "# Calculate the entropy for each row\n",
        "def calculate_entropy(row):\n",
        "    min_entropy = row['ResourcesMinEntropy']\n",
        "    max_entropy = row['ResourcesMaxEntropy']\n",
        "    mean_entropy = row['ResourcesMeanEntropy']\n",
        "\n",
        "    # Normalize the entropy values to probabilities\n",
        "    p_min = min_entropy / max_entropy\n",
        "    p_max = 1.0\n",
        "    p_mean = mean_entropy / max_entropy\n",
        "\n",
        "    # Calculate the entropy using the formula\n",
        "    entropy = -(p_min * np.log2(p_min) + p_mean * np.log2(p_mean) + p_max * np.log2(p_max))*10\n",
        "\n",
        "    return entropy\n",
        "\n",
        "# Apply the function to each row to calculate entropy and add it as a new column\n",
        "entropy_data['Entropy'] = entropy_data.apply(calculate_entropy, axis=1)\n"
      ],
      "metadata": {
        "colab": {
          "base_uri": "https://localhost:8080/"
        },
        "id": "xYbQTDT6GKHd",
        "outputId": "e98ee681-f62b-4550-8bf5-fe33124abbfe"
      },
      "execution_count": 17,
      "outputs": [
        {
          "output_type": "stream",
          "name": "stderr",
          "text": [
            "<ipython-input-17-b07d1d3fe05b>:19: RuntimeWarning: divide by zero encountered in log2\n",
            "  entropy = -(p_min * np.log2(p_min) + p_mean * np.log2(p_mean) + p_max * np.log2(p_max))*10\n",
            "<ipython-input-17-b07d1d3fe05b>:19: RuntimeWarning: invalid value encountered in scalar multiply\n",
            "  entropy = -(p_min * np.log2(p_min) + p_mean * np.log2(p_mean) + p_max * np.log2(p_max))*10\n",
            "<ipython-input-17-b07d1d3fe05b>:14: RuntimeWarning: invalid value encountered in scalar divide\n",
            "  p_min = min_entropy / max_entropy\n",
            "<ipython-input-17-b07d1d3fe05b>:16: RuntimeWarning: invalid value encountered in scalar divide\n",
            "  p_mean = mean_entropy / max_entropy\n"
          ]
        }
      ]
    },
    {
      "cell_type": "code",
      "source": [
        "entropy_data"
      ],
      "metadata": {
        "colab": {
          "base_uri": "https://localhost:8080/",
          "height": 424
        },
        "id": "mcOzg1jtNexP",
        "outputId": "ba078221-4bc6-4591-ea33-408dd1ca0490"
      },
      "execution_count": 18,
      "outputs": [
        {
          "output_type": "execute_result",
          "data": {
            "text/plain": [
              "        ResourcesMeanEntropy  ResourcesMinEntropy  ResourcesMaxEntropy  \\\n",
              "0                   3.262823             2.568844             3.537939   \n",
              "1                   4.250461             3.420744             5.080177   \n",
              "2                   4.426324             2.846449             5.271813   \n",
              "3                   4.364291             2.669314             6.400720   \n",
              "4                   4.306100             3.421598             5.190603   \n",
              "...                      ...                  ...                  ...   \n",
              "138042              4.122736             1.370260             7.677091   \n",
              "138043              3.377663             2.031619             5.050074   \n",
              "138044              6.825406             2.617026             7.990487   \n",
              "138045              3.421627             2.060964             4.739744   \n",
              "138046              4.407252             1.980482             6.115374   \n",
              "\n",
              "         Entropy  \n",
              "0       4.430058  \n",
              "1       5.994359  \n",
              "2       6.918218  \n",
              "3       9.029079  \n",
              "4       6.199193  \n",
              "...          ...  \n",
              "138042  9.254204  \n",
              "138043  9.165952  \n",
              "138044  7.216362  \n",
              "138045  8.618242  \n",
              "138046  8.673431  \n",
              "\n",
              "[138047 rows x 4 columns]"
            ],
            "text/html": [
              "\n",
              "  <div id=\"df-87751d51-2e5c-4f2d-8c50-8a23b9c9363c\" class=\"colab-df-container\">\n",
              "    <div>\n",
              "<style scoped>\n",
              "    .dataframe tbody tr th:only-of-type {\n",
              "        vertical-align: middle;\n",
              "    }\n",
              "\n",
              "    .dataframe tbody tr th {\n",
              "        vertical-align: top;\n",
              "    }\n",
              "\n",
              "    .dataframe thead th {\n",
              "        text-align: right;\n",
              "    }\n",
              "</style>\n",
              "<table border=\"1\" class=\"dataframe\">\n",
              "  <thead>\n",
              "    <tr style=\"text-align: right;\">\n",
              "      <th></th>\n",
              "      <th>ResourcesMeanEntropy</th>\n",
              "      <th>ResourcesMinEntropy</th>\n",
              "      <th>ResourcesMaxEntropy</th>\n",
              "      <th>Entropy</th>\n",
              "    </tr>\n",
              "  </thead>\n",
              "  <tbody>\n",
              "    <tr>\n",
              "      <th>0</th>\n",
              "      <td>3.262823</td>\n",
              "      <td>2.568844</td>\n",
              "      <td>3.537939</td>\n",
              "      <td>4.430058</td>\n",
              "    </tr>\n",
              "    <tr>\n",
              "      <th>1</th>\n",
              "      <td>4.250461</td>\n",
              "      <td>3.420744</td>\n",
              "      <td>5.080177</td>\n",
              "      <td>5.994359</td>\n",
              "    </tr>\n",
              "    <tr>\n",
              "      <th>2</th>\n",
              "      <td>4.426324</td>\n",
              "      <td>2.846449</td>\n",
              "      <td>5.271813</td>\n",
              "      <td>6.918218</td>\n",
              "    </tr>\n",
              "    <tr>\n",
              "      <th>3</th>\n",
              "      <td>4.364291</td>\n",
              "      <td>2.669314</td>\n",
              "      <td>6.400720</td>\n",
              "      <td>9.029079</td>\n",
              "    </tr>\n",
              "    <tr>\n",
              "      <th>4</th>\n",
              "      <td>4.306100</td>\n",
              "      <td>3.421598</td>\n",
              "      <td>5.190603</td>\n",
              "      <td>6.199193</td>\n",
              "    </tr>\n",
              "    <tr>\n",
              "      <th>...</th>\n",
              "      <td>...</td>\n",
              "      <td>...</td>\n",
              "      <td>...</td>\n",
              "      <td>...</td>\n",
              "    </tr>\n",
              "    <tr>\n",
              "      <th>138042</th>\n",
              "      <td>4.122736</td>\n",
              "      <td>1.370260</td>\n",
              "      <td>7.677091</td>\n",
              "      <td>9.254204</td>\n",
              "    </tr>\n",
              "    <tr>\n",
              "      <th>138043</th>\n",
              "      <td>3.377663</td>\n",
              "      <td>2.031619</td>\n",
              "      <td>5.050074</td>\n",
              "      <td>9.165952</td>\n",
              "    </tr>\n",
              "    <tr>\n",
              "      <th>138044</th>\n",
              "      <td>6.825406</td>\n",
              "      <td>2.617026</td>\n",
              "      <td>7.990487</td>\n",
              "      <td>7.216362</td>\n",
              "    </tr>\n",
              "    <tr>\n",
              "      <th>138045</th>\n",
              "      <td>3.421627</td>\n",
              "      <td>2.060964</td>\n",
              "      <td>4.739744</td>\n",
              "      <td>8.618242</td>\n",
              "    </tr>\n",
              "    <tr>\n",
              "      <th>138046</th>\n",
              "      <td>4.407252</td>\n",
              "      <td>1.980482</td>\n",
              "      <td>6.115374</td>\n",
              "      <td>8.673431</td>\n",
              "    </tr>\n",
              "  </tbody>\n",
              "</table>\n",
              "<p>138047 rows × 4 columns</p>\n",
              "</div>\n",
              "    <div class=\"colab-df-buttons\">\n",
              "\n",
              "  <div class=\"colab-df-container\">\n",
              "    <button class=\"colab-df-convert\" onclick=\"convertToInteractive('df-87751d51-2e5c-4f2d-8c50-8a23b9c9363c')\"\n",
              "            title=\"Convert this dataframe to an interactive table.\"\n",
              "            style=\"display:none;\">\n",
              "\n",
              "  <svg xmlns=\"http://www.w3.org/2000/svg\" height=\"24px\" viewBox=\"0 -960 960 960\">\n",
              "    <path d=\"M120-120v-720h720v720H120Zm60-500h600v-160H180v160Zm220 220h160v-160H400v160Zm0 220h160v-160H400v160ZM180-400h160v-160H180v160Zm440 0h160v-160H620v160ZM180-180h160v-160H180v160Zm440 0h160v-160H620v160Z\"/>\n",
              "  </svg>\n",
              "    </button>\n",
              "\n",
              "  <style>\n",
              "    .colab-df-container {\n",
              "      display:flex;\n",
              "      gap: 12px;\n",
              "    }\n",
              "\n",
              "    .colab-df-convert {\n",
              "      background-color: #E8F0FE;\n",
              "      border: none;\n",
              "      border-radius: 50%;\n",
              "      cursor: pointer;\n",
              "      display: none;\n",
              "      fill: #1967D2;\n",
              "      height: 32px;\n",
              "      padding: 0 0 0 0;\n",
              "      width: 32px;\n",
              "    }\n",
              "\n",
              "    .colab-df-convert:hover {\n",
              "      background-color: #E2EBFA;\n",
              "      box-shadow: 0px 1px 2px rgba(60, 64, 67, 0.3), 0px 1px 3px 1px rgba(60, 64, 67, 0.15);\n",
              "      fill: #174EA6;\n",
              "    }\n",
              "\n",
              "    .colab-df-buttons div {\n",
              "      margin-bottom: 4px;\n",
              "    }\n",
              "\n",
              "    [theme=dark] .colab-df-convert {\n",
              "      background-color: #3B4455;\n",
              "      fill: #D2E3FC;\n",
              "    }\n",
              "\n",
              "    [theme=dark] .colab-df-convert:hover {\n",
              "      background-color: #434B5C;\n",
              "      box-shadow: 0px 1px 3px 1px rgba(0, 0, 0, 0.15);\n",
              "      filter: drop-shadow(0px 1px 2px rgba(0, 0, 0, 0.3));\n",
              "      fill: #FFFFFF;\n",
              "    }\n",
              "  </style>\n",
              "\n",
              "    <script>\n",
              "      const buttonEl =\n",
              "        document.querySelector('#df-87751d51-2e5c-4f2d-8c50-8a23b9c9363c button.colab-df-convert');\n",
              "      buttonEl.style.display =\n",
              "        google.colab.kernel.accessAllowed ? 'block' : 'none';\n",
              "\n",
              "      async function convertToInteractive(key) {\n",
              "        const element = document.querySelector('#df-87751d51-2e5c-4f2d-8c50-8a23b9c9363c');\n",
              "        const dataTable =\n",
              "          await google.colab.kernel.invokeFunction('convertToInteractive',\n",
              "                                                    [key], {});\n",
              "        if (!dataTable) return;\n",
              "\n",
              "        const docLinkHtml = 'Like what you see? Visit the ' +\n",
              "          '<a target=\"_blank\" href=https://colab.research.google.com/notebooks/data_table.ipynb>data table notebook</a>'\n",
              "          + ' to learn more about interactive tables.';\n",
              "        element.innerHTML = '';\n",
              "        dataTable['output_type'] = 'display_data';\n",
              "        await google.colab.output.renderOutput(dataTable, element);\n",
              "        const docLink = document.createElement('div');\n",
              "        docLink.innerHTML = docLinkHtml;\n",
              "        element.appendChild(docLink);\n",
              "      }\n",
              "    </script>\n",
              "  </div>\n",
              "\n",
              "\n",
              "<div id=\"df-02b36586-9cfb-4054-b923-3f850d3de8ed\">\n",
              "  <button class=\"colab-df-quickchart\" onclick=\"quickchart('df-02b36586-9cfb-4054-b923-3f850d3de8ed')\"\n",
              "            title=\"Suggest charts\"\n",
              "            style=\"display:none;\">\n",
              "\n",
              "<svg xmlns=\"http://www.w3.org/2000/svg\" height=\"24px\"viewBox=\"0 0 24 24\"\n",
              "     width=\"24px\">\n",
              "    <g>\n",
              "        <path d=\"M19 3H5c-1.1 0-2 .9-2 2v14c0 1.1.9 2 2 2h14c1.1 0 2-.9 2-2V5c0-1.1-.9-2-2-2zM9 17H7v-7h2v7zm4 0h-2V7h2v10zm4 0h-2v-4h2v4z\"/>\n",
              "    </g>\n",
              "</svg>\n",
              "  </button>\n",
              "\n",
              "<style>\n",
              "  .colab-df-quickchart {\n",
              "      --bg-color: #E8F0FE;\n",
              "      --fill-color: #1967D2;\n",
              "      --hover-bg-color: #E2EBFA;\n",
              "      --hover-fill-color: #174EA6;\n",
              "      --disabled-fill-color: #AAA;\n",
              "      --disabled-bg-color: #DDD;\n",
              "  }\n",
              "\n",
              "  [theme=dark] .colab-df-quickchart {\n",
              "      --bg-color: #3B4455;\n",
              "      --fill-color: #D2E3FC;\n",
              "      --hover-bg-color: #434B5C;\n",
              "      --hover-fill-color: #FFFFFF;\n",
              "      --disabled-bg-color: #3B4455;\n",
              "      --disabled-fill-color: #666;\n",
              "  }\n",
              "\n",
              "  .colab-df-quickchart {\n",
              "    background-color: var(--bg-color);\n",
              "    border: none;\n",
              "    border-radius: 50%;\n",
              "    cursor: pointer;\n",
              "    display: none;\n",
              "    fill: var(--fill-color);\n",
              "    height: 32px;\n",
              "    padding: 0;\n",
              "    width: 32px;\n",
              "  }\n",
              "\n",
              "  .colab-df-quickchart:hover {\n",
              "    background-color: var(--hover-bg-color);\n",
              "    box-shadow: 0 1px 2px rgba(60, 64, 67, 0.3), 0 1px 3px 1px rgba(60, 64, 67, 0.15);\n",
              "    fill: var(--button-hover-fill-color);\n",
              "  }\n",
              "\n",
              "  .colab-df-quickchart-complete:disabled,\n",
              "  .colab-df-quickchart-complete:disabled:hover {\n",
              "    background-color: var(--disabled-bg-color);\n",
              "    fill: var(--disabled-fill-color);\n",
              "    box-shadow: none;\n",
              "  }\n",
              "\n",
              "  .colab-df-spinner {\n",
              "    border: 2px solid var(--fill-color);\n",
              "    border-color: transparent;\n",
              "    border-bottom-color: var(--fill-color);\n",
              "    animation:\n",
              "      spin 1s steps(1) infinite;\n",
              "  }\n",
              "\n",
              "  @keyframes spin {\n",
              "    0% {\n",
              "      border-color: transparent;\n",
              "      border-bottom-color: var(--fill-color);\n",
              "      border-left-color: var(--fill-color);\n",
              "    }\n",
              "    20% {\n",
              "      border-color: transparent;\n",
              "      border-left-color: var(--fill-color);\n",
              "      border-top-color: var(--fill-color);\n",
              "    }\n",
              "    30% {\n",
              "      border-color: transparent;\n",
              "      border-left-color: var(--fill-color);\n",
              "      border-top-color: var(--fill-color);\n",
              "      border-right-color: var(--fill-color);\n",
              "    }\n",
              "    40% {\n",
              "      border-color: transparent;\n",
              "      border-right-color: var(--fill-color);\n",
              "      border-top-color: var(--fill-color);\n",
              "    }\n",
              "    60% {\n",
              "      border-color: transparent;\n",
              "      border-right-color: var(--fill-color);\n",
              "    }\n",
              "    80% {\n",
              "      border-color: transparent;\n",
              "      border-right-color: var(--fill-color);\n",
              "      border-bottom-color: var(--fill-color);\n",
              "    }\n",
              "    90% {\n",
              "      border-color: transparent;\n",
              "      border-bottom-color: var(--fill-color);\n",
              "    }\n",
              "  }\n",
              "</style>\n",
              "\n",
              "  <script>\n",
              "    async function quickchart(key) {\n",
              "      const quickchartButtonEl =\n",
              "        document.querySelector('#' + key + ' button');\n",
              "      quickchartButtonEl.disabled = true;  // To prevent multiple clicks.\n",
              "      quickchartButtonEl.classList.add('colab-df-spinner');\n",
              "      try {\n",
              "        const charts = await google.colab.kernel.invokeFunction(\n",
              "            'suggestCharts', [key], {});\n",
              "      } catch (error) {\n",
              "        console.error('Error during call to suggestCharts:', error);\n",
              "      }\n",
              "      quickchartButtonEl.classList.remove('colab-df-spinner');\n",
              "      quickchartButtonEl.classList.add('colab-df-quickchart-complete');\n",
              "    }\n",
              "    (() => {\n",
              "      let quickchartButtonEl =\n",
              "        document.querySelector('#df-02b36586-9cfb-4054-b923-3f850d3de8ed button');\n",
              "      quickchartButtonEl.style.display =\n",
              "        google.colab.kernel.accessAllowed ? 'block' : 'none';\n",
              "    })();\n",
              "  </script>\n",
              "</div>\n",
              "\n",
              "  <div id=\"id_35fe5966-a605-4571-ae44-c0ff4ea107bf\">\n",
              "    <style>\n",
              "      .colab-df-generate {\n",
              "        background-color: #E8F0FE;\n",
              "        border: none;\n",
              "        border-radius: 50%;\n",
              "        cursor: pointer;\n",
              "        display: none;\n",
              "        fill: #1967D2;\n",
              "        height: 32px;\n",
              "        padding: 0 0 0 0;\n",
              "        width: 32px;\n",
              "      }\n",
              "\n",
              "      .colab-df-generate:hover {\n",
              "        background-color: #E2EBFA;\n",
              "        box-shadow: 0px 1px 2px rgba(60, 64, 67, 0.3), 0px 1px 3px 1px rgba(60, 64, 67, 0.15);\n",
              "        fill: #174EA6;\n",
              "      }\n",
              "\n",
              "      [theme=dark] .colab-df-generate {\n",
              "        background-color: #3B4455;\n",
              "        fill: #D2E3FC;\n",
              "      }\n",
              "\n",
              "      [theme=dark] .colab-df-generate:hover {\n",
              "        background-color: #434B5C;\n",
              "        box-shadow: 0px 1px 3px 1px rgba(0, 0, 0, 0.15);\n",
              "        filter: drop-shadow(0px 1px 2px rgba(0, 0, 0, 0.3));\n",
              "        fill: #FFFFFF;\n",
              "      }\n",
              "    </style>\n",
              "    <button class=\"colab-df-generate\" onclick=\"generateWithVariable('entropy_data')\"\n",
              "            title=\"Generate code using this dataframe.\"\n",
              "            style=\"display:none;\">\n",
              "\n",
              "  <svg xmlns=\"http://www.w3.org/2000/svg\" height=\"24px\"viewBox=\"0 0 24 24\"\n",
              "       width=\"24px\">\n",
              "    <path d=\"M7,19H8.4L18.45,9,17,7.55,7,17.6ZM5,21V16.75L18.45,3.32a2,2,0,0,1,2.83,0l1.4,1.43a1.91,1.91,0,0,1,.58,1.4,1.91,1.91,0,0,1-.58,1.4L9.25,21ZM18.45,9,17,7.55Zm-12,3A5.31,5.31,0,0,0,4.9,8.1,5.31,5.31,0,0,0,1,6.5,5.31,5.31,0,0,0,4.9,4.9,5.31,5.31,0,0,0,6.5,1,5.31,5.31,0,0,0,8.1,4.9,5.31,5.31,0,0,0,12,6.5,5.46,5.46,0,0,0,6.5,12Z\"/>\n",
              "  </svg>\n",
              "    </button>\n",
              "    <script>\n",
              "      (() => {\n",
              "      const buttonEl =\n",
              "        document.querySelector('#id_35fe5966-a605-4571-ae44-c0ff4ea107bf button.colab-df-generate');\n",
              "      buttonEl.style.display =\n",
              "        google.colab.kernel.accessAllowed ? 'block' : 'none';\n",
              "\n",
              "      buttonEl.onclick = () => {\n",
              "        google.colab.notebook.generateWithVariable('entropy_data');\n",
              "      }\n",
              "      })();\n",
              "    </script>\n",
              "  </div>\n",
              "\n",
              "    </div>\n",
              "  </div>\n"
            ],
            "application/vnd.google.colaboratory.intrinsic+json": {
              "type": "dataframe",
              "variable_name": "entropy_data"
            }
          },
          "metadata": {},
          "execution_count": 18
        }
      ]
    },
    {
      "cell_type": "code",
      "source": [
        "entropy_data['Entropy'].max()"
      ],
      "metadata": {
        "colab": {
          "base_uri": "https://localhost:8080/"
        },
        "id": "qhPVT_yYS_uG",
        "outputId": "a754123f-60fa-4d3d-9431-46306ed15242"
      },
      "execution_count": 19,
      "outputs": [
        {
          "output_type": "execute_result",
          "data": {
            "text/plain": [
              "10.547866191794466"
            ]
          },
          "metadata": {},
          "execution_count": 19
        }
      ]
    },
    {
      "cell_type": "code",
      "source": [
        "concatenated_df = pd.concat([extractable, entropy_data], axis=1)"
      ],
      "metadata": {
        "id": "dOW906uRrZul"
      },
      "execution_count": 20,
      "outputs": []
    },
    {
      "cell_type": "code",
      "source": [
        "concatenated_df.tail()"
      ],
      "metadata": {
        "colab": {
          "base_uri": "https://localhost:8080/",
          "height": 226
        },
        "id": "nmJpIBaSsMN_",
        "outputId": "249bb2c3-f412-4a00-de6f-9bf2fdef0549"
      },
      "execution_count": 21,
      "outputs": [
        {
          "output_type": "execute_result",
          "data": {
            "text/plain": [
              "        Characteristics  MajorLinkerVersion  MinorLinkerVersion  SizeOfCode  \\\n",
              "138042              258                  11                   0      205824   \n",
              "138043            33167                   2                  25       37888   \n",
              "138044              258                  10                   0      118272   \n",
              "138045            33166                   2                  25       49152   \n",
              "138046              258                  11                   0      111616   \n",
              "\n",
              "        SizeOfInitializedData  SizeOfUninitializedData  ResourcesNb  \\\n",
              "138042                 223744                        0            7   \n",
              "138043                 185344                        0           26   \n",
              "138044                 380416                        0           22   \n",
              "138045                  16896                        0           10   \n",
              "138046                 468480                        0            4   \n",
              "\n",
              "        LoadConfigurationSize  ResourcesMeanEntropy  ResourcesMinEntropy  \\\n",
              "138042                     72              4.122736             1.370260   \n",
              "138043                      0              3.377663             2.031619   \n",
              "138044                     72              6.825406             2.617026   \n",
              "138045                      0              3.421627             2.060964   \n",
              "138046                     72              4.407252             1.980482   \n",
              "\n",
              "        ResourcesMaxEntropy   Entropy  \n",
              "138042             7.677091  9.254204  \n",
              "138043             5.050074  9.165952  \n",
              "138044             7.990487  7.216362  \n",
              "138045             4.739744  8.618242  \n",
              "138046             6.115374  8.673431  "
            ],
            "text/html": [
              "\n",
              "  <div id=\"df-86d0858e-2a67-45af-a255-df0b901f219c\" class=\"colab-df-container\">\n",
              "    <div>\n",
              "<style scoped>\n",
              "    .dataframe tbody tr th:only-of-type {\n",
              "        vertical-align: middle;\n",
              "    }\n",
              "\n",
              "    .dataframe tbody tr th {\n",
              "        vertical-align: top;\n",
              "    }\n",
              "\n",
              "    .dataframe thead th {\n",
              "        text-align: right;\n",
              "    }\n",
              "</style>\n",
              "<table border=\"1\" class=\"dataframe\">\n",
              "  <thead>\n",
              "    <tr style=\"text-align: right;\">\n",
              "      <th></th>\n",
              "      <th>Characteristics</th>\n",
              "      <th>MajorLinkerVersion</th>\n",
              "      <th>MinorLinkerVersion</th>\n",
              "      <th>SizeOfCode</th>\n",
              "      <th>SizeOfInitializedData</th>\n",
              "      <th>SizeOfUninitializedData</th>\n",
              "      <th>ResourcesNb</th>\n",
              "      <th>LoadConfigurationSize</th>\n",
              "      <th>ResourcesMeanEntropy</th>\n",
              "      <th>ResourcesMinEntropy</th>\n",
              "      <th>ResourcesMaxEntropy</th>\n",
              "      <th>Entropy</th>\n",
              "    </tr>\n",
              "  </thead>\n",
              "  <tbody>\n",
              "    <tr>\n",
              "      <th>138042</th>\n",
              "      <td>258</td>\n",
              "      <td>11</td>\n",
              "      <td>0</td>\n",
              "      <td>205824</td>\n",
              "      <td>223744</td>\n",
              "      <td>0</td>\n",
              "      <td>7</td>\n",
              "      <td>72</td>\n",
              "      <td>4.122736</td>\n",
              "      <td>1.370260</td>\n",
              "      <td>7.677091</td>\n",
              "      <td>9.254204</td>\n",
              "    </tr>\n",
              "    <tr>\n",
              "      <th>138043</th>\n",
              "      <td>33167</td>\n",
              "      <td>2</td>\n",
              "      <td>25</td>\n",
              "      <td>37888</td>\n",
              "      <td>185344</td>\n",
              "      <td>0</td>\n",
              "      <td>26</td>\n",
              "      <td>0</td>\n",
              "      <td>3.377663</td>\n",
              "      <td>2.031619</td>\n",
              "      <td>5.050074</td>\n",
              "      <td>9.165952</td>\n",
              "    </tr>\n",
              "    <tr>\n",
              "      <th>138044</th>\n",
              "      <td>258</td>\n",
              "      <td>10</td>\n",
              "      <td>0</td>\n",
              "      <td>118272</td>\n",
              "      <td>380416</td>\n",
              "      <td>0</td>\n",
              "      <td>22</td>\n",
              "      <td>72</td>\n",
              "      <td>6.825406</td>\n",
              "      <td>2.617026</td>\n",
              "      <td>7.990487</td>\n",
              "      <td>7.216362</td>\n",
              "    </tr>\n",
              "    <tr>\n",
              "      <th>138045</th>\n",
              "      <td>33166</td>\n",
              "      <td>2</td>\n",
              "      <td>25</td>\n",
              "      <td>49152</td>\n",
              "      <td>16896</td>\n",
              "      <td>0</td>\n",
              "      <td>10</td>\n",
              "      <td>0</td>\n",
              "      <td>3.421627</td>\n",
              "      <td>2.060964</td>\n",
              "      <td>4.739744</td>\n",
              "      <td>8.618242</td>\n",
              "    </tr>\n",
              "    <tr>\n",
              "      <th>138046</th>\n",
              "      <td>258</td>\n",
              "      <td>11</td>\n",
              "      <td>0</td>\n",
              "      <td>111616</td>\n",
              "      <td>468480</td>\n",
              "      <td>0</td>\n",
              "      <td>4</td>\n",
              "      <td>72</td>\n",
              "      <td>4.407252</td>\n",
              "      <td>1.980482</td>\n",
              "      <td>6.115374</td>\n",
              "      <td>8.673431</td>\n",
              "    </tr>\n",
              "  </tbody>\n",
              "</table>\n",
              "</div>\n",
              "    <div class=\"colab-df-buttons\">\n",
              "\n",
              "  <div class=\"colab-df-container\">\n",
              "    <button class=\"colab-df-convert\" onclick=\"convertToInteractive('df-86d0858e-2a67-45af-a255-df0b901f219c')\"\n",
              "            title=\"Convert this dataframe to an interactive table.\"\n",
              "            style=\"display:none;\">\n",
              "\n",
              "  <svg xmlns=\"http://www.w3.org/2000/svg\" height=\"24px\" viewBox=\"0 -960 960 960\">\n",
              "    <path d=\"M120-120v-720h720v720H120Zm60-500h600v-160H180v160Zm220 220h160v-160H400v160Zm0 220h160v-160H400v160ZM180-400h160v-160H180v160Zm440 0h160v-160H620v160ZM180-180h160v-160H180v160Zm440 0h160v-160H620v160Z\"/>\n",
              "  </svg>\n",
              "    </button>\n",
              "\n",
              "  <style>\n",
              "    .colab-df-container {\n",
              "      display:flex;\n",
              "      gap: 12px;\n",
              "    }\n",
              "\n",
              "    .colab-df-convert {\n",
              "      background-color: #E8F0FE;\n",
              "      border: none;\n",
              "      border-radius: 50%;\n",
              "      cursor: pointer;\n",
              "      display: none;\n",
              "      fill: #1967D2;\n",
              "      height: 32px;\n",
              "      padding: 0 0 0 0;\n",
              "      width: 32px;\n",
              "    }\n",
              "\n",
              "    .colab-df-convert:hover {\n",
              "      background-color: #E2EBFA;\n",
              "      box-shadow: 0px 1px 2px rgba(60, 64, 67, 0.3), 0px 1px 3px 1px rgba(60, 64, 67, 0.15);\n",
              "      fill: #174EA6;\n",
              "    }\n",
              "\n",
              "    .colab-df-buttons div {\n",
              "      margin-bottom: 4px;\n",
              "    }\n",
              "\n",
              "    [theme=dark] .colab-df-convert {\n",
              "      background-color: #3B4455;\n",
              "      fill: #D2E3FC;\n",
              "    }\n",
              "\n",
              "    [theme=dark] .colab-df-convert:hover {\n",
              "      background-color: #434B5C;\n",
              "      box-shadow: 0px 1px 3px 1px rgba(0, 0, 0, 0.15);\n",
              "      filter: drop-shadow(0px 1px 2px rgba(0, 0, 0, 0.3));\n",
              "      fill: #FFFFFF;\n",
              "    }\n",
              "  </style>\n",
              "\n",
              "    <script>\n",
              "      const buttonEl =\n",
              "        document.querySelector('#df-86d0858e-2a67-45af-a255-df0b901f219c button.colab-df-convert');\n",
              "      buttonEl.style.display =\n",
              "        google.colab.kernel.accessAllowed ? 'block' : 'none';\n",
              "\n",
              "      async function convertToInteractive(key) {\n",
              "        const element = document.querySelector('#df-86d0858e-2a67-45af-a255-df0b901f219c');\n",
              "        const dataTable =\n",
              "          await google.colab.kernel.invokeFunction('convertToInteractive',\n",
              "                                                    [key], {});\n",
              "        if (!dataTable) return;\n",
              "\n",
              "        const docLinkHtml = 'Like what you see? Visit the ' +\n",
              "          '<a target=\"_blank\" href=https://colab.research.google.com/notebooks/data_table.ipynb>data table notebook</a>'\n",
              "          + ' to learn more about interactive tables.';\n",
              "        element.innerHTML = '';\n",
              "        dataTable['output_type'] = 'display_data';\n",
              "        await google.colab.output.renderOutput(dataTable, element);\n",
              "        const docLink = document.createElement('div');\n",
              "        docLink.innerHTML = docLinkHtml;\n",
              "        element.appendChild(docLink);\n",
              "      }\n",
              "    </script>\n",
              "  </div>\n",
              "\n",
              "\n",
              "<div id=\"df-f96c1f79-5d56-47ff-b6da-8251060a5fb3\">\n",
              "  <button class=\"colab-df-quickchart\" onclick=\"quickchart('df-f96c1f79-5d56-47ff-b6da-8251060a5fb3')\"\n",
              "            title=\"Suggest charts\"\n",
              "            style=\"display:none;\">\n",
              "\n",
              "<svg xmlns=\"http://www.w3.org/2000/svg\" height=\"24px\"viewBox=\"0 0 24 24\"\n",
              "     width=\"24px\">\n",
              "    <g>\n",
              "        <path d=\"M19 3H5c-1.1 0-2 .9-2 2v14c0 1.1.9 2 2 2h14c1.1 0 2-.9 2-2V5c0-1.1-.9-2-2-2zM9 17H7v-7h2v7zm4 0h-2V7h2v10zm4 0h-2v-4h2v4z\"/>\n",
              "    </g>\n",
              "</svg>\n",
              "  </button>\n",
              "\n",
              "<style>\n",
              "  .colab-df-quickchart {\n",
              "      --bg-color: #E8F0FE;\n",
              "      --fill-color: #1967D2;\n",
              "      --hover-bg-color: #E2EBFA;\n",
              "      --hover-fill-color: #174EA6;\n",
              "      --disabled-fill-color: #AAA;\n",
              "      --disabled-bg-color: #DDD;\n",
              "  }\n",
              "\n",
              "  [theme=dark] .colab-df-quickchart {\n",
              "      --bg-color: #3B4455;\n",
              "      --fill-color: #D2E3FC;\n",
              "      --hover-bg-color: #434B5C;\n",
              "      --hover-fill-color: #FFFFFF;\n",
              "      --disabled-bg-color: #3B4455;\n",
              "      --disabled-fill-color: #666;\n",
              "  }\n",
              "\n",
              "  .colab-df-quickchart {\n",
              "    background-color: var(--bg-color);\n",
              "    border: none;\n",
              "    border-radius: 50%;\n",
              "    cursor: pointer;\n",
              "    display: none;\n",
              "    fill: var(--fill-color);\n",
              "    height: 32px;\n",
              "    padding: 0;\n",
              "    width: 32px;\n",
              "  }\n",
              "\n",
              "  .colab-df-quickchart:hover {\n",
              "    background-color: var(--hover-bg-color);\n",
              "    box-shadow: 0 1px 2px rgba(60, 64, 67, 0.3), 0 1px 3px 1px rgba(60, 64, 67, 0.15);\n",
              "    fill: var(--button-hover-fill-color);\n",
              "  }\n",
              "\n",
              "  .colab-df-quickchart-complete:disabled,\n",
              "  .colab-df-quickchart-complete:disabled:hover {\n",
              "    background-color: var(--disabled-bg-color);\n",
              "    fill: var(--disabled-fill-color);\n",
              "    box-shadow: none;\n",
              "  }\n",
              "\n",
              "  .colab-df-spinner {\n",
              "    border: 2px solid var(--fill-color);\n",
              "    border-color: transparent;\n",
              "    border-bottom-color: var(--fill-color);\n",
              "    animation:\n",
              "      spin 1s steps(1) infinite;\n",
              "  }\n",
              "\n",
              "  @keyframes spin {\n",
              "    0% {\n",
              "      border-color: transparent;\n",
              "      border-bottom-color: var(--fill-color);\n",
              "      border-left-color: var(--fill-color);\n",
              "    }\n",
              "    20% {\n",
              "      border-color: transparent;\n",
              "      border-left-color: var(--fill-color);\n",
              "      border-top-color: var(--fill-color);\n",
              "    }\n",
              "    30% {\n",
              "      border-color: transparent;\n",
              "      border-left-color: var(--fill-color);\n",
              "      border-top-color: var(--fill-color);\n",
              "      border-right-color: var(--fill-color);\n",
              "    }\n",
              "    40% {\n",
              "      border-color: transparent;\n",
              "      border-right-color: var(--fill-color);\n",
              "      border-top-color: var(--fill-color);\n",
              "    }\n",
              "    60% {\n",
              "      border-color: transparent;\n",
              "      border-right-color: var(--fill-color);\n",
              "    }\n",
              "    80% {\n",
              "      border-color: transparent;\n",
              "      border-right-color: var(--fill-color);\n",
              "      border-bottom-color: var(--fill-color);\n",
              "    }\n",
              "    90% {\n",
              "      border-color: transparent;\n",
              "      border-bottom-color: var(--fill-color);\n",
              "    }\n",
              "  }\n",
              "</style>\n",
              "\n",
              "  <script>\n",
              "    async function quickchart(key) {\n",
              "      const quickchartButtonEl =\n",
              "        document.querySelector('#' + key + ' button');\n",
              "      quickchartButtonEl.disabled = true;  // To prevent multiple clicks.\n",
              "      quickchartButtonEl.classList.add('colab-df-spinner');\n",
              "      try {\n",
              "        const charts = await google.colab.kernel.invokeFunction(\n",
              "            'suggestCharts', [key], {});\n",
              "      } catch (error) {\n",
              "        console.error('Error during call to suggestCharts:', error);\n",
              "      }\n",
              "      quickchartButtonEl.classList.remove('colab-df-spinner');\n",
              "      quickchartButtonEl.classList.add('colab-df-quickchart-complete');\n",
              "    }\n",
              "    (() => {\n",
              "      let quickchartButtonEl =\n",
              "        document.querySelector('#df-f96c1f79-5d56-47ff-b6da-8251060a5fb3 button');\n",
              "      quickchartButtonEl.style.display =\n",
              "        google.colab.kernel.accessAllowed ? 'block' : 'none';\n",
              "    })();\n",
              "  </script>\n",
              "</div>\n",
              "\n",
              "    </div>\n",
              "  </div>\n"
            ],
            "application/vnd.google.colaboratory.intrinsic+json": {
              "type": "dataframe",
              "summary": "{\n  \"name\": \"concatenated_df\",\n  \"rows\": 5,\n  \"fields\": [\n    {\n      \"column\": \"Characteristics\",\n      \"properties\": {\n        \"dtype\": \"number\",\n        \"std\": 18024,\n        \"min\": 258,\n        \"max\": 33167,\n        \"num_unique_values\": 3,\n        \"samples\": [\n          258,\n          33167,\n          33166\n        ],\n        \"semantic_type\": \"\",\n        \"description\": \"\"\n      }\n    },\n    {\n      \"column\": \"MajorLinkerVersion\",\n      \"properties\": {\n        \"dtype\": \"number\",\n        \"std\": 4,\n        \"min\": 2,\n        \"max\": 11,\n        \"num_unique_values\": 3,\n        \"samples\": [\n          11,\n          2,\n          10\n        ],\n        \"semantic_type\": \"\",\n        \"description\": \"\"\n      }\n    },\n    {\n      \"column\": \"MinorLinkerVersion\",\n      \"properties\": {\n        \"dtype\": \"number\",\n        \"std\": 13,\n        \"min\": 0,\n        \"max\": 25,\n        \"num_unique_values\": 2,\n        \"samples\": [\n          25,\n          0\n        ],\n        \"semantic_type\": \"\",\n        \"description\": \"\"\n      }\n    },\n    {\n      \"column\": \"SizeOfCode\",\n      \"properties\": {\n        \"dtype\": \"number\",\n        \"std\": 67095,\n        \"min\": 37888,\n        \"max\": 205824,\n        \"num_unique_values\": 5,\n        \"samples\": [\n          37888,\n          111616\n        ],\n        \"semantic_type\": \"\",\n        \"description\": \"\"\n      }\n    },\n    {\n      \"column\": \"SizeOfInitializedData\",\n      \"properties\": {\n        \"dtype\": \"number\",\n        \"std\": 175944,\n        \"min\": 16896,\n        \"max\": 468480,\n        \"num_unique_values\": 5,\n        \"samples\": [\n          185344,\n          468480\n        ],\n        \"semantic_type\": \"\",\n        \"description\": \"\"\n      }\n    },\n    {\n      \"column\": \"SizeOfUninitializedData\",\n      \"properties\": {\n        \"dtype\": \"number\",\n        \"std\": 0,\n        \"min\": 0,\n        \"max\": 0,\n        \"num_unique_values\": 1,\n        \"samples\": [\n          0\n        ],\n        \"semantic_type\": \"\",\n        \"description\": \"\"\n      }\n    },\n    {\n      \"column\": \"ResourcesNb\",\n      \"properties\": {\n        \"dtype\": \"number\",\n        \"std\": 9,\n        \"min\": 4,\n        \"max\": 26,\n        \"num_unique_values\": 5,\n        \"samples\": [\n          26\n        ],\n        \"semantic_type\": \"\",\n        \"description\": \"\"\n      }\n    },\n    {\n      \"column\": \"LoadConfigurationSize\",\n      \"properties\": {\n        \"dtype\": \"number\",\n        \"std\": 39,\n        \"min\": 0,\n        \"max\": 72,\n        \"num_unique_values\": 2,\n        \"samples\": [\n          0\n        ],\n        \"semantic_type\": \"\",\n        \"description\": \"\"\n      }\n    },\n    {\n      \"column\": \"ResourcesMeanEntropy\",\n      \"properties\": {\n        \"dtype\": \"number\",\n        \"std\": 1.4104186166309556,\n        \"min\": 3.377663052,\n        \"max\": 6.825405641,\n        \"num_unique_values\": 5,\n        \"samples\": [\n          3.377663052\n        ],\n        \"semantic_type\": \"\",\n        \"description\": \"\"\n      }\n    },\n    {\n      \"column\": \"ResourcesMinEntropy\",\n      \"properties\": {\n        \"dtype\": \"number\",\n        \"std\": 0.4420586185800614,\n        \"min\": 1.370259712,\n        \"max\": 2.617026402,\n        \"num_unique_values\": 5,\n        \"samples\": [\n          2.031619089\n        ],\n        \"semantic_type\": \"\",\n        \"description\": \"\"\n      }\n    },\n    {\n      \"column\": \"ResourcesMaxEntropy\",\n      \"properties\": {\n        \"dtype\": \"number\",\n        \"std\": 1.4818794910689537,\n        \"min\": 4.739744334,\n        \"max\": 7.990487368,\n        \"num_unique_values\": 5,\n        \"samples\": [\n          5.050073552\n        ],\n        \"semantic_type\": \"\",\n        \"description\": \"\"\n      }\n    },\n    {\n      \"column\": \"Entropy\",\n      \"properties\": {\n        \"dtype\": \"number\",\n        \"std\": 0.8166135709414066,\n        \"min\": 7.216362442675246,\n        \"max\": 9.254204192492379,\n        \"num_unique_values\": 5,\n        \"samples\": [\n          9.165951664661979\n        ],\n        \"semantic_type\": \"\",\n        \"description\": \"\"\n      }\n    }\n  ]\n}"
            }
          },
          "metadata": {},
          "execution_count": 21
        }
      ]
    },
    {
      "cell_type": "code",
      "source": [
        "import matplotlib.pyplot as plt"
      ],
      "metadata": {
        "id": "vAF6f70JsOdn"
      },
      "execution_count": 22,
      "outputs": []
    },
    {
      "cell_type": "code",
      "source": [
        "# Assuming entropy_data is your DataFrame containing the data you want to plot\n",
        "\n",
        "# Create a figure to hold the subplots\n",
        "fig, axes = plt.subplots(nrows=1, ncols=len(concatenated_df.columns), figsize=(15, 5))\n",
        "\n",
        "# Iterate over each column and create a boxplot\n",
        "for i, column in enumerate(concatenated_df.columns):\n",
        "    concatenated_df[column].plot(kind='box', ax=axes[i])\n",
        "    axes[i].set_title(column)  # Set title for each subplot\n",
        "\n",
        "# Adjust layout\n",
        "plt.tight_layout()\n",
        "\n",
        "# Show the plot\n",
        "plt.show()\n"
      ],
      "metadata": {
        "colab": {
          "base_uri": "https://localhost:8080/",
          "height": 322
        },
        "id": "0WDPSWkn0uPj",
        "outputId": "dd3f6cd6-9534-4229-e184-7619fc9c09e5"
      },
      "execution_count": 23,
      "outputs": [
        {
          "output_type": "display_data",
          "data": {
            "text/plain": [
              "<Figure size 1500x500 with 12 Axes>"
            ],
            "image/png": "[encoded data removed]"
          },
          "metadata": {}
        }
      ]
    },
    {
      "cell_type": "code",
      "source": [
        "concatenated_df.drop(columns=['ResourcesMeanEntropy','ResourcesMinEntropy', 'ResourcesMaxEntropy'],inplace=True)\n",
        "#concatenated_df.head()"
      ],
      "metadata": {
        "id": "wMOTcYQv02wI"
      },
      "execution_count": 24,
      "outputs": []
    },
    {
      "cell_type": "code",
      "source": [
        "x = concatenated_df.values"
      ],
      "metadata": {
        "id": "_d7YUbqh9HZW"
      },
      "execution_count": 25,
      "outputs": []
    },
    {
      "cell_type": "code",
      "source": [
        "x.shape"
      ],
      "metadata": {
        "colab": {
          "base_uri": "https://localhost:8080/"
        },
        "id": "rRbQlHr0_wzg",
        "outputId": "3faeccce-4e6a-4c66-cb82-7d7fd067e72d"
      },
      "execution_count": 26,
      "outputs": [
        {
          "output_type": "execute_result",
          "data": {
            "text/plain": [
              "(138047, 9)"
            ]
          },
          "metadata": {},
          "execution_count": 26
        }
      ]
    },
    {
      "cell_type": "code",
      "source": [
        "y = pd.DataFrame(data[\"legitimate\"])"
      ],
      "metadata": {
        "id": "TIY5Sdk0_0a4"
      },
      "execution_count": 27,
      "outputs": []
    },
    {
      "cell_type": "code",
      "source": [
        "y.shape"
      ],
      "metadata": {
        "colab": {
          "base_uri": "https://localhost:8080/"
        },
        "id": "gxhHQv7pCozW",
        "outputId": "c7ad9918-603f-49c3-ef39-30f34565181b"
      },
      "execution_count": 28,
      "outputs": [
        {
          "output_type": "execute_result",
          "data": {
            "text/plain": [
              "(138047, 1)"
            ]
          },
          "metadata": {},
          "execution_count": 28
        }
      ]
    },
    {
      "cell_type": "code",
      "source": [
        "y = y.values"
      ],
      "metadata": {
        "id": "3vMMQiAdC58V"
      },
      "execution_count": 29,
      "outputs": []
    },
    {
      "cell_type": "code",
      "source": [
        "from sklearn.model_selection import train_test_split\n",
        "\n",
        "x_train,x_test,y_train,y_test= train_test_split(x,y, test_size=0.2, random_state=42)"
      ],
      "metadata": {
        "id": "lTyJWsmuDOyV"
      },
      "execution_count": 30,
      "outputs": []
    },
    {
      "cell_type": "code",
      "source": [
        "from sklearn.preprocessing import MinMaxScaler\n",
        "scaler = MinMaxScaler()"
      ],
      "metadata": {
        "id": "brm0nRh0EPob"
      },
      "execution_count": 31,
      "outputs": []
    },
    {
      "cell_type": "code",
      "source": [
        "x_train = scaler.fit_transform(x_train)"
      ],
      "metadata": {
        "id": "SqLR7lEwEU5c"
      },
      "execution_count": 32,
      "outputs": []
    },
    {
      "cell_type": "code",
      "source": [
        "scaler2 = MinMaxScaler()"
      ],
      "metadata": {
        "id": "C75igyfNEc6n"
      },
      "execution_count": 33,
      "outputs": []
    },
    {
      "cell_type": "code",
      "source": [
        "x_test = scaler2.fit_transform(x_test)"
      ],
      "metadata": {
        "id": "MDEBdouxEhBR"
      },
      "execution_count": 34,
      "outputs": []
    },
    {
      "cell_type": "code",
      "source": [
        "from sklearn.impute import SimpleImputer\n",
        "\n",
        "# Create an imputer object\n",
        "imputer = SimpleImputer(strategy='mean')  # You can choose different strategies like 'median' or 'most_frequent'\n",
        "\n",
        "# Fit the imputer on the training data and transform the data\n",
        "x_train = imputer.fit_transform(x_train)\n",
        "\n",
        "# Now, train your RandomForestClassifier using the imputed data\n",
        "#rf_model = clasif.fit(x_train_imputed, y_train)\n"
      ],
      "metadata": {
        "id": "5UAUNY-SLk2K"
      },
      "execution_count": 35,
      "outputs": []
    },
    {
      "cell_type": "markdown",
      "source": [
        "**Model building** 1 - RandamForrest"
      ],
      "metadata": {
        "id": "f62VeD5vEwJ3"
      }
    },
    {
      "cell_type": "code",
      "source": [
        "# Random forrest algorithm\n",
        "\n",
        "from sklearn.ensemble import RandomForestClassifier\n",
        "from sklearn.datasets import make_classification\n",
        "clasif = RandomForestClassifier(max_depth=2,random_state=0)\n",
        "rf_model = clasif.fit(x_train,y_train)"
      ],
      "metadata": {
        "colab": {
          "base_uri": "https://localhost:8080/"
        },
        "id": "ONe6F_AcEzXz",
        "outputId": "a7073d91-21bf-4a92-97a1-bc58c34b9d17"
      },
      "execution_count": 36,
      "outputs": [
        {
          "output_type": "stream",
          "name": "stderr",
          "text": [
            "<ipython-input-36-963a073f5c8a>:6: DataConversionWarning: A column-vector y was passed when a 1d array was expected. Please change the shape of y to (n_samples,), for example using ravel().\n",
            "  rf_model = clasif.fit(x_train,y_train)\n"
          ]
        }
      ]
    },
    {
      "cell_type": "code",
      "source": [
        "from sklearn.metrics import f1_score,accuracy_score,auc,confusion_matrix"
      ],
      "metadata": {
        "id": "rM5GWarnLwnn"
      },
      "execution_count": 37,
      "outputs": []
    },
    {
      "cell_type": "code",
      "source": [
        "# Accuracy of the train dataset\n",
        "y_pred = rf_model.predict(x_train)\n",
        "accuracy_score(y_train,y_pred)"
      ],
      "metadata": {
        "colab": {
          "base_uri": "https://localhost:8080/"
        },
        "id": "kuO5KkUNL1ug",
        "outputId": "f957caad-f714-43e9-9e20-e0cf2b882122"
      },
      "execution_count": 38,
      "outputs": [
        {
          "output_type": "execute_result",
          "data": {
            "text/plain": [
              "0.9253148854097811"
            ]
          },
          "metadata": {},
          "execution_count": 38
        }
      ]
    },
    {
      "cell_type": "code",
      "source": [
        "from sklearn.impute import SimpleImputer\n",
        "\n",
        "# Create an imputer object\n",
        "imputer = SimpleImputer(strategy='mean')  # You can choose different strategies like 'median' or 'most_frequent'\n",
        "\n",
        "# Fit the imputer on the training data and transform the data\n",
        "x_test = imputer.fit_transform(x_test)\n",
        "\n",
        "# Now, train your RandomForestClassifier using the imputed data\n",
        "#rf_model = clasif.fit(x_train_imputed, y_train)"
      ],
      "metadata": {
        "id": "MFvxTqhZMQRM"
      },
      "execution_count": 39,
      "outputs": []
    },
    {
      "cell_type": "code",
      "source": [
        "# accuracy of the test dataset\n",
        "prediction = rf_model.predict(x_test)\n",
        "accuracy_score(y_test,prediction)"
      ],
      "metadata": {
        "colab": {
          "base_uri": "https://localhost:8080/"
        },
        "id": "Svh0M6N7L-F4",
        "outputId": "9a4076fe-32c6-4b81-9f93-a3cb9ff7f196"
      },
      "execution_count": 40,
      "outputs": [
        {
          "output_type": "execute_result",
          "data": {
            "text/plain": [
              "0.9214052879391524"
            ]
          },
          "metadata": {},
          "execution_count": 40
        }
      ]
    },
    {
      "cell_type": "code",
      "source": [
        "f1_score(y_test, prediction)"
      ],
      "metadata": {
        "colab": {
          "base_uri": "https://localhost:8080/"
        },
        "id": "Kff62-epMd1r",
        "outputId": "45eaae65-d8d9-45b3-d073-5236a565b655"
      },
      "execution_count": 41,
      "outputs": [
        {
          "output_type": "execute_result",
          "data": {
            "text/plain": [
              "0.8592554157478273"
            ]
          },
          "metadata": {},
          "execution_count": 41
        }
      ]
    },
    {
      "cell_type": "code",
      "source": [
        "from sklearn.metrics import confusion_matrix\n",
        "import matplotlib.pyplot as plt\n",
        "import seaborn as sns"
      ],
      "metadata": {
        "id": "GQ7parDyMiwD"
      },
      "execution_count": 42,
      "outputs": []
    },
    {
      "cell_type": "code",
      "source": [
        "# build Confusion Matrix\n",
        "plot_confusion_matrix = confusion_matrix(y_test, prediction)"
      ],
      "metadata": {
        "id": "2wgDy8KcMo29"
      },
      "execution_count": 43,
      "outputs": []
    },
    {
      "cell_type": "code",
      "source": [
        "# Plot confusion matrix\n",
        "plt.figure(figsize=(8, 6))\n",
        "sns.heatmap(plot_confusion_matrix, annot=True, fmt='d', cmap='Blues', cbar=False)\n",
        "plt.title('Confusion Matrix')\n",
        "plt.xlabel('Predicted labels')\n",
        "plt.ylabel('True labels')\n",
        "plt.show()"
      ],
      "metadata": {
        "colab": {
          "base_uri": "https://localhost:8080/",
          "height": 564
        },
        "id": "5hYxO39GMssd",
        "outputId": "385b0eca-f2e6-4015-d824-5535a6d052c7"
      },
      "execution_count": 44,
      "outputs": [
        {
          "output_type": "display_data",
          "data": {
            "text/plain": [
              "<Figure size 800x600 with 1 Axes>"
            ],
            "image/png": "[encoded data removed]"
          },
          "metadata": {}
        }
      ]
    },
    {
      "cell_type": "markdown",
      "source": [
        "**Neural Network building**"
      ],
      "metadata": {
        "id": "w7obTJGTMxoC"
      }
    },
    {
      "cell_type": "code",
      "source": [
        "import tensorflow as tf\n",
        "from tensorflow.keras.models import Sequential\n",
        "from tensorflow.keras.layers import Dense,Dropout\n",
        "from tensorflow.keras.callbacks import EarlyStopping, ReduceLROnPlateau"
      ],
      "metadata": {
        "id": "Y26suwliMzfa"
      },
      "execution_count": 45,
      "outputs": []
    },
    {
      "cell_type": "code",
      "source": [
        "model = Sequential()\n",
        "model.add(Dense(9, input_dim=9, activation='relu'))\n",
        "#model.add(Dense(8, activation='relu'))\n",
        "# model.add(Dropout(0.3))\n",
        "model.add(Dense(7, activation='relu'))\n",
        "# model.add(Dropout(0.5))\n",
        "model.add(Dense(6, activation='relu'))\n",
        "model.add(Dense(5, activation='relu'))\n",
        "model.add(Dense(4, activation='relu'))\n",
        "# model.add(Dense(3, activation='relu'))\n",
        "model.add(Dense(3, activation='leaky_relu'))\n",
        "model.add(Dense(1, activation='sigmoid'))\n",
        "model.summary() # print the model summary"
      ],
      "metadata": {
        "colab": {
          "base_uri": "https://localhost:8080/"
        },
        "id": "usJyL3XMM4d0",
        "outputId": "dba983ce-8d03-49c7-bffe-8ed1be6f33dc"
      },
      "execution_count": 137,
      "outputs": [
        {
          "output_type": "stream",
          "name": "stdout",
          "text": [
            "Model: \"sequential_6\"\n",
            "_________________________________________________________________\n",
            " Layer (type)                Output Shape              Param #   \n",
            "=================================================================\n",
            " dense_35 (Dense)            (None, 9)                 90        \n",
            "                                                                 \n",
            " dense_36 (Dense)            (None, 7)                 70        \n",
            "                                                                 \n",
            " dense_37 (Dense)            (None, 6)                 48        \n",
            "                                                                 \n",
            " dense_38 (Dense)            (None, 5)                 35        \n",
            "                                                                 \n",
            " dense_39 (Dense)            (None, 4)                 24        \n",
            "                                                                 \n",
            " dense_40 (Dense)            (None, 3)                 15        \n",
            "                                                                 \n",
            " dense_41 (Dense)            (None, 1)                 4         \n",
            "                                                                 \n",
            "=================================================================\n",
            "Total params: 286 (1.12 KB)\n",
            "Trainable params: 286 (1.12 KB)\n",
            "Non-trainable params: 0 (0.00 Byte)\n",
            "_________________________________________________________________\n"
          ]
        }
      ]
    },
    {
      "cell_type": "code",
      "source": [
        "# compile model\n",
        "model.compile(loss = \"binary_crossentropy\",optimizer=\"rmsprop\",metrics=[\"accuracy\"])"
      ],
      "metadata": {
        "id": "GBcQrKGDM8qS"
      },
      "execution_count": 139,
      "outputs": []
    },
    {
      "cell_type": "code",
      "source": [
        "# Callbacks\n",
        "#early_stopping = EarlyStopping(monitor='val_loss', patience=10, restore_best_weights=True)\n",
        "reduce_lr = ReduceLROnPlateau(monitor='val_loss', factor=0.2, patience=5, min_lr=0.0001)"
      ],
      "metadata": {
        "id": "dB3jhrU3NjlU"
      },
      "execution_count": 140,
      "outputs": []
    },
    {
      "cell_type": "code",
      "source": [
        "# Fit the model\n",
        "history = model.fit(x_train,y_train,epochs=30,batch_size=50,validation_split=0.2, callbacks=[reduce_lr])"
      ],
      "metadata": {
        "colab": {
          "base_uri": "https://localhost:8080/"
        },
        "id": "ZZ9Cf7PBNASy",
        "outputId": "4f92e323-51a3-4763-c236-0492d9ea44ba"
      },
      "execution_count": 141,
      "outputs": [
        {
          "output_type": "stream",
          "name": "stdout",
          "text": [
            "Epoch 1/30\n",
            "1767/1767 [==============================] - 5s 3ms/step - loss: 0.2987 - accuracy: 0.8874 - val_loss: 0.1944 - val_accuracy: 0.9454 - lr: 0.0010\n",
            "Epoch 2/30\n",
            "1767/1767 [==============================] - 6s 4ms/step - loss: 0.1849 - accuracy: 0.9473 - val_loss: 0.1945 - val_accuracy: 0.9454 - lr: 0.0010\n",
            "Epoch 3/30\n",
            "1767/1767 [==============================] - 4s 2ms/step - loss: 0.1837 - accuracy: 0.9475 - val_loss: 0.1902 - val_accuracy: 0.9453 - lr: 0.0010\n",
            "Epoch 4/30\n",
            "1767/1767 [==============================] - 5s 3ms/step - loss: 0.1824 - accuracy: 0.9475 - val_loss: 0.1885 - val_accuracy: 0.9447 - lr: 0.0010\n",
            "Epoch 5/30\n",
            "1767/1767 [==============================] - 6s 4ms/step - loss: 0.1805 - accuracy: 0.9477 - val_loss: 0.1872 - val_accuracy: 0.9453 - lr: 0.0010\n",
            "Epoch 6/30\n",
            "1767/1767 [==============================] - 4s 2ms/step - loss: 0.1778 - accuracy: 0.9477 - val_loss: 0.1843 - val_accuracy: 0.9455 - lr: 0.0010\n",
            "Epoch 7/30\n",
            "1767/1767 [==============================] - 5s 3ms/step - loss: 0.1757 - accuracy: 0.9486 - val_loss: 0.1831 - val_accuracy: 0.9459 - lr: 0.0010\n",
            "Epoch 8/30\n",
            "1767/1767 [==============================] - 10s 6ms/step - loss: 0.1743 - accuracy: 0.9491 - val_loss: 0.1829 - val_accuracy: 0.9462 - lr: 0.0010\n",
            "Epoch 9/30\n",
            "1767/1767 [==============================] - 4s 2ms/step - loss: 0.1725 - accuracy: 0.9496 - val_loss: 0.1794 - val_accuracy: 0.9470 - lr: 0.0010\n",
            "Epoch 10/30\n",
            "1767/1767 [==============================] - 6s 4ms/step - loss: 0.1697 - accuracy: 0.9494 - val_loss: 0.1818 - val_accuracy: 0.9466 - lr: 0.0010\n",
            "Epoch 11/30\n",
            "1767/1767 [==============================] - 4s 2ms/step - loss: 0.1677 - accuracy: 0.9496 - val_loss: 0.1750 - val_accuracy: 0.9457 - lr: 0.0010\n",
            "Epoch 12/30\n",
            "1767/1767 [==============================] - 4s 2ms/step - loss: 0.1660 - accuracy: 0.9491 - val_loss: 0.1777 - val_accuracy: 0.9458 - lr: 0.0010\n",
            "Epoch 13/30\n",
            "1767/1767 [==============================] - 7s 4ms/step - loss: 0.1645 - accuracy: 0.9497 - val_loss: 0.1815 - val_accuracy: 0.9460 - lr: 0.0010\n",
            "Epoch 14/30\n",
            "1767/1767 [==============================] - 4s 2ms/step - loss: 0.1614 - accuracy: 0.9501 - val_loss: 0.1670 - val_accuracy: 0.9466 - lr: 0.0010\n",
            "Epoch 15/30\n",
            "1767/1767 [==============================] - 4s 2ms/step - loss: 0.1579 - accuracy: 0.9515 - val_loss: 0.1677 - val_accuracy: 0.9471 - lr: 0.0010\n",
            "Epoch 16/30\n",
            "1767/1767 [==============================] - 6s 3ms/step - loss: 0.1541 - accuracy: 0.9522 - val_loss: 0.1597 - val_accuracy: 0.9487 - lr: 0.0010\n",
            "Epoch 17/30\n",
            "1767/1767 [==============================] - 4s 2ms/step - loss: 0.1501 - accuracy: 0.9531 - val_loss: 0.1526 - val_accuracy: 0.9505 - lr: 0.0010\n",
            "Epoch 18/30\n",
            "1767/1767 [==============================] - 4s 2ms/step - loss: 0.1449 - accuracy: 0.9540 - val_loss: 0.1605 - val_accuracy: 0.9492 - lr: 0.0010\n",
            "Epoch 19/30\n",
            "1767/1767 [==============================] - 6s 4ms/step - loss: 0.1387 - accuracy: 0.9556 - val_loss: 0.1467 - val_accuracy: 0.9508 - lr: 0.0010\n",
            "Epoch 20/30\n",
            "1767/1767 [==============================] - 4s 2ms/step - loss: 0.1333 - accuracy: 0.9583 - val_loss: 0.1361 - val_accuracy: 0.9567 - lr: 0.0010\n",
            "Epoch 21/30\n",
            "1767/1767 [==============================] - 4s 2ms/step - loss: 0.1295 - accuracy: 0.9613 - val_loss: 0.1310 - val_accuracy: 0.9610 - lr: 0.0010\n",
            "Epoch 22/30\n",
            "1767/1767 [==============================] - 6s 4ms/step - loss: 0.1265 - accuracy: 0.9631 - val_loss: 0.1323 - val_accuracy: 0.9603 - lr: 0.0010\n",
            "Epoch 23/30\n",
            "1767/1767 [==============================] - 4s 2ms/step - loss: 0.1247 - accuracy: 0.9645 - val_loss: 0.1459 - val_accuracy: 0.9571 - lr: 0.0010\n",
            "Epoch 24/30\n",
            "1767/1767 [==============================] - 7s 4ms/step - loss: 0.1234 - accuracy: 0.9652 - val_loss: 0.1286 - val_accuracy: 0.9630 - lr: 0.0010\n",
            "Epoch 25/30\n",
            "1767/1767 [==============================] - 6s 3ms/step - loss: 0.1221 - accuracy: 0.9658 - val_loss: 0.1260 - val_accuracy: 0.9640 - lr: 0.0010\n",
            "Epoch 26/30\n",
            "1767/1767 [==============================] - 4s 2ms/step - loss: 0.1217 - accuracy: 0.9665 - val_loss: 0.1273 - val_accuracy: 0.9642 - lr: 0.0010\n",
            "Epoch 27/30\n",
            "1767/1767 [==============================] - 6s 4ms/step - loss: 0.1215 - accuracy: 0.9664 - val_loss: 0.1265 - val_accuracy: 0.9652 - lr: 0.0010\n",
            "Epoch 28/30\n",
            "1767/1767 [==============================] - 4s 3ms/step - loss: 0.1201 - accuracy: 0.9668 - val_loss: 0.1318 - val_accuracy: 0.9635 - lr: 0.0010\n",
            "Epoch 29/30\n",
            "1767/1767 [==============================] - 4s 2ms/step - loss: 0.1201 - accuracy: 0.9669 - val_loss: 0.1298 - val_accuracy: 0.9646 - lr: 0.0010\n",
            "Epoch 30/30\n",
            "1767/1767 [==============================] - 6s 4ms/step - loss: 0.1199 - accuracy: 0.9670 - val_loss: 0.1299 - val_accuracy: 0.9641 - lr: 0.0010\n"
          ]
        }
      ]
    },
    {
      "cell_type": "code",
      "source": [
        "history.history.keys()"
      ],
      "metadata": {
        "colab": {
          "base_uri": "https://localhost:8080/"
        },
        "id": "_EH5D529hJ0E",
        "outputId": "5686d373-bdf7-417e-d247-0139b8f624b4"
      },
      "execution_count": 142,
      "outputs": [
        {
          "output_type": "execute_result",
          "data": {
            "text/plain": [
              "dict_keys(['loss', 'accuracy', 'val_loss', 'val_accuracy', 'lr'])"
            ]
          },
          "metadata": {},
          "execution_count": 142
        }
      ]
    },
    {
      "cell_type": "code",
      "source": [
        "# accuracy on the training dataset\n",
        "training_accuracy = model.predict(x_train)\n",
        "training_accuracy =[1 if y>=0.5 else 0 for y in training_accuracy]\n",
        "accuracy_score(y_train,training_accuracy)"
      ],
      "metadata": {
        "colab": {
          "base_uri": "https://localhost:8080/"
        },
        "id": "SJ6lCiDWNaS-",
        "outputId": "f635b09e-2385-46db-d734-6fdcc0a816ad"
      },
      "execution_count": 143,
      "outputs": [
        {
          "output_type": "stream",
          "name": "stdout",
          "text": [
            "3452/3452 [==============================] - 5s 1ms/step\n"
          ]
        },
        {
          "output_type": "execute_result",
          "data": {
            "text/plain": [
              "0.9666144498673452"
            ]
          },
          "metadata": {},
          "execution_count": 143
        }
      ]
    },
    {
      "cell_type": "code",
      "source": [
        "# Accuracy of the test dataset\n",
        "y_prediction = model.predict(x_test)\n",
        "y_prediction = [1 if y>=0.5 else 0 for y in y_prediction]\n",
        "\n",
        "accuracy_score(y_test,y_prediction)"
      ],
      "metadata": {
        "colab": {
          "base_uri": "https://localhost:8080/"
        },
        "id": "e8SBfLx2NjcX",
        "outputId": "f4a46956-8cce-4962-f13e-ec6f45ed63c8"
      },
      "execution_count": 144,
      "outputs": [
        {
          "output_type": "stream",
          "name": "stdout",
          "text": [
            "863/863 [==============================] - 2s 2ms/step\n"
          ]
        },
        {
          "output_type": "execute_result",
          "data": {
            "text/plain": [
              "0.9208257877580587"
            ]
          },
          "metadata": {},
          "execution_count": 144
        }
      ]
    },
    {
      "cell_type": "code",
      "source": [
        "confusion_matrix(y_test,y_prediction)"
      ],
      "metadata": {
        "colab": {
          "base_uri": "https://localhost:8080/"
        },
        "id": "vBuANaBeNm5x",
        "outputId": "c54ef131-1522-4b01-ba9b-bad44b7e724b"
      },
      "execution_count": 145,
      "outputs": [
        {
          "output_type": "execute_result",
          "data": {
            "text/plain": [
              "array([[17568,  1682],\n",
              "       [  504,  7856]])"
            ]
          },
          "metadata": {},
          "execution_count": 145
        }
      ]
    },
    {
      "cell_type": "code",
      "source": [
        "f1_score(y_test,y_prediction)"
      ],
      "metadata": {
        "colab": {
          "base_uri": "https://localhost:8080/"
        },
        "id": "KEm1eHgANsC7",
        "outputId": "a9f6125b-8d7d-40b0-c0bf-9c7f82da922d"
      },
      "execution_count": 146,
      "outputs": [
        {
          "output_type": "execute_result",
          "data": {
            "text/plain": [
              "0.8778634484299922"
            ]
          },
          "metadata": {},
          "execution_count": 146
        }
      ]
    },
    {
      "cell_type": "code",
      "source": [
        "# Extracting training and validation accuracy\n",
        "training_accuracy = history.history['accuracy']\n",
        "validation_accuracy = history.history['loss']"
      ],
      "metadata": {
        "id": "M8XB_MSCNvbO"
      },
      "execution_count": 148,
      "outputs": []
    },
    {
      "cell_type": "code",
      "source": [
        "history.history.keys()"
      ],
      "metadata": {
        "colab": {
          "base_uri": "https://localhost:8080/"
        },
        "id": "JMYHr2Gpe_Vb",
        "outputId": "2974fc85-4f1d-4921-8042-17fc5e174847"
      },
      "execution_count": 149,
      "outputs": [
        {
          "output_type": "execute_result",
          "data": {
            "text/plain": [
              "dict_keys(['loss', 'accuracy', 'val_loss', 'val_accuracy', 'lr'])"
            ]
          },
          "metadata": {},
          "execution_count": 149
        }
      ]
    },
    {
      "cell_type": "code",
      "source": [
        "# Plotting accuracy\n",
        "plt.figure(figsize=(5, 6))\n",
        "plt.plot(history.history['accuracy'], label='Training Accuracy')\n",
        "plt.plot(history.history['val_accuracy'], label='Validation Accuracy')\n",
        "plt.title('Model Accuracy')\n",
        "plt.xlabel('Epoch')\n",
        "plt.ylabel('Accuracy')\n",
        "plt.legend(loc='upper left')\n",
        "plt.grid(True)\n",
        "plt.show()"
      ],
      "metadata": {
        "colab": {
          "base_uri": "https://localhost:8080/",
          "height": 564
        },
        "id": "g3j-PC5gFC-J",
        "outputId": "ea99e4b5-4511-452f-eb15-6aeeae0ffed8"
      },
      "execution_count": 150,
      "outputs": [
        {
          "output_type": "display_data",
          "data": {
            "text/plain": [
              "<Figure size 500x600 with 1 Axes>"
            ],
            "image/png": "[encoded data removed]"
          },
          "metadata": {}
        }
      ]
    },
    {
      "cell_type": "code",
      "source": [
        "# Plotting loss\n",
        "plt.figure(figsize=(5, 6))\n",
        "plt.plot(history.history['loss'], label='Training Loss')\n",
        "plt.plot(history.history['val_loss'], label='Validation Loss')\n",
        "plt.title('Model Loss')\n",
        "plt.xlabel('Epoch')\n",
        "plt.ylabel('Loss')\n",
        "plt.legend(loc='upper left')\n",
        "plt.grid(True)\n",
        "plt.show()"
      ],
      "metadata": {
        "colab": {
          "base_uri": "https://localhost:8080/",
          "height": 564
        },
        "id": "NJw4Od99H752",
        "outputId": "078f3e53-18c4-4c99-fd9c-2236438ec887"
      },
      "execution_count": 151,
      "outputs": [
        {
          "output_type": "display_data",
          "data": {
            "text/plain": [
              "<Figure size 500x600 with 1 Axes>"
            ],
            "image/png": "[encoded data removed]"
          },
          "metadata": {}
        }
      ]
    },
    {
      "cell_type": "code",
      "source": [
        "# Save the model to a TensorFlow SavedModel format\n",
        "model.save('Function1_Model1_V6.h5')"
      ],
      "metadata": {
        "id": "G3e7ZHI6Icyn"
      },
      "execution_count": 157,
      "outputs": []
    },
    {
      "cell_type": "code",
      "source": [
        "!pip install tf2onnx"
      ],
      "metadata": {
        "colab": {
          "base_uri": "https://localhost:8080/"
        },
        "id": "VoqSjI2rTeKM",
        "outputId": "b1e7a619-cbc4-4754-82df-e5b960caf156"
      },
      "execution_count": 158,
      "outputs": [
        {
          "output_type": "stream",
          "name": "stdout",
          "text": [
            "Requirement already satisfied: tf2onnx in /usr/local/lib/python3.10/dist-packages (1.16.1)\n",
            "Requirement already satisfied: numpy>=1.14.1 in /usr/local/lib/python3.10/dist-packages (from tf2onnx) (1.25.2)\n",
            "Requirement already satisfied: onnx>=1.4.1 in /usr/local/lib/python3.10/dist-packages (from tf2onnx) (1.16.1)\n",
            "Requirement already satisfied: requests in /usr/local/lib/python3.10/dist-packages (from tf2onnx) (2.31.0)\n",
            "Requirement already satisfied: six in /usr/local/lib/python3.10/dist-packages (from tf2onnx) (1.16.0)\n",
            "Requirement already satisfied: flatbuffers>=1.12 in /usr/local/lib/python3.10/dist-packages (from tf2onnx) (24.3.25)\n",
            "Requirement already satisfied: protobuf~=3.20 in /usr/local/lib/python3.10/dist-packages (from tf2onnx) (3.20.3)\n",
            "Requirement already satisfied: charset-normalizer<4,>=2 in /usr/local/lib/python3.10/dist-packages (from requests->tf2onnx) (3.3.2)\n",
            "Requirement already satisfied: idna<4,>=2.5 in /usr/local/lib/python3.10/dist-packages (from requests->tf2onnx) (3.7)\n",
            "Requirement already satisfied: urllib3<3,>=1.21.1 in /usr/local/lib/python3.10/dist-packages (from requests->tf2onnx) (2.0.7)\n",
            "Requirement already satisfied: certifi>=2017.4.17 in /usr/local/lib/python3.10/dist-packages (from requests->tf2onnx) (2024.6.2)\n"
          ]
        }
      ]
    },
    {
      "cell_type": "code",
      "source": [
        "# Convert the TensorFlow SavedModel to ONNX format\n",
        "import tf2onnx\n",
        "import onnx"
      ],
      "metadata": {
        "id": "xzjSnwLsTjFW"
      },
      "execution_count": 159,
      "outputs": []
    },
    {
      "cell_type": "code",
      "source": [
        "# Convert the TensorFlow SavedModel to ONNX format\n",
        "spec = (tf.TensorSpec((None, 9), tf.float32, name=\"input\"),)\n",
        "output_path = \"Function1_Model1_V6.onnx\"\n",
        "model_proto, _ = tf2onnx.convert.from_keras(model, input_signature=spec, output_path=output_path)"
      ],
      "metadata": {
        "id": "PBjAsHI_TvgK"
      },
      "execution_count": 160,
      "outputs": []
    },
    {
      "cell_type": "code",
      "source": [],
      "metadata": {
        "id": "MhGzoPjyWCM2"
      },
      "execution_count": 62,
      "outputs": []
    }
  ]
}